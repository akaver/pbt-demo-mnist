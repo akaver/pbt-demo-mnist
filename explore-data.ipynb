{
 "cells": [
  {
   "cell_type": "markdown",
   "metadata": {
    "pycharm": {
     "name": "#%% md\n"
    }
   },
   "source": [
    "# Fashion-MNIST"
   ]
  },
  {
   "cell_type": "code",
   "execution_count": 124,
   "metadata": {
    "collapsed": false,
    "jupyter": {
     "outputs_hidden": false
    },
    "pycharm": {
     "name": "#%%\n"
    }
   },
   "outputs": [],
   "source": [
    "import os\n",
    "import random\n",
    "import tqdm\n",
    "import matplotlib.pyplot as plt\n",
    "import numpy as np\n",
    "import torch\n",
    "from torchvision.datasets import FashionMNIST, MNIST\n",
    "from torchvision import transforms\n",
    "import torchvision.transforms.functional as TF"
   ]
  },
  {
   "cell_type": "code",
   "execution_count": 125,
   "metadata": {
    "collapsed": false,
    "jupyter": {
     "outputs_hidden": false
    },
    "pycharm": {
     "name": "#%%\n"
    }
   },
   "outputs": [],
   "source": [
    "# Get the dataset from torchvision, do not apply any transformations\n",
    "mnist_train = FashionMNIST(\"./data\", train=True, download=True, transform=None)\n",
    "mnist_test = FashionMNIST(\"./data\", train=False, download=True, transform=None)"
   ]
  },
  {
   "cell_type": "code",
   "execution_count": 126,
   "metadata": {
    "collapsed": false,
    "jupyter": {
     "outputs_hidden": false
    },
    "pycharm": {
     "name": "#%%\n"
    }
   },
   "outputs": [
    {
     "data": {
      "text/plain": [
       "Dataset FashionMNIST\n",
       "    Number of datapoints: 60000\n",
       "    Root location: ./data\n",
       "    Split: Train"
      ]
     },
     "execution_count": 126,
     "metadata": {},
     "output_type": "execute_result"
    }
   ],
   "source": [
    "mnist_train"
   ]
  },
  {
   "cell_type": "code",
   "execution_count": 127,
   "metadata": {
    "collapsed": false,
    "jupyter": {
     "outputs_hidden": false
    },
    "pycharm": {
     "name": "#%%\n"
    }
   },
   "outputs": [
    {
     "data": {
      "text/plain": [
       "Dataset FashionMNIST\n",
       "    Number of datapoints: 10000\n",
       "    Root location: ./data\n",
       "    Split: Test"
      ]
     },
     "execution_count": 127,
     "metadata": {},
     "output_type": "execute_result"
    }
   ],
   "source": [
    "mnist_test"
   ]
  },
  {
   "cell_type": "code",
   "execution_count": 128,
   "metadata": {
    "collapsed": false,
    "jupyter": {
     "outputs_hidden": false
    },
    "pycharm": {
     "name": "#%%\n"
    }
   },
   "outputs": [
    {
     "name": "stdout",
     "output_type": "stream",
     "text": [
      "Train len: 60000  Test len: 10000\n"
     ]
    }
   ],
   "source": [
    "print(f\"Train len: {len(mnist_train)}  Test len: {len(mnist_test)}\")"
   ]
  },
  {
   "cell_type": "code",
   "execution_count": 129,
   "metadata": {
    "collapsed": false,
    "jupyter": {
     "outputs_hidden": false
    },
    "pycharm": {
     "name": "#%%\n"
    }
   },
   "outputs": [
    {
     "data": {
      "text/plain": [
       "tensor([[[0.0000, 0.0000, 0.0000, 0.0000, 0.0000, 0.0000, 0.0000, 0.0000,\n",
       "          0.0000, 0.0000, 0.0000, 0.0000, 0.0000, 0.0000, 0.1451, 0.0000,\n",
       "          0.0000, 0.0039, 0.0000, 0.0000, 0.0000, 0.0000, 0.0000, 0.0000,\n",
       "          0.0000, 0.0000, 0.0000, 0.0000],\n",
       "         [0.0000, 0.0000, 0.0000, 0.0000, 0.0000, 0.0000, 0.0000, 0.0000,\n",
       "          0.0000, 0.0000, 0.1412, 0.6941, 0.7529, 0.7529, 0.8902, 0.8549,\n",
       "          0.7647, 0.4784, 0.1882, 0.0039, 0.0000, 0.0000, 0.0000, 0.0000,\n",
       "          0.0000, 0.0000, 0.0000, 0.0000],\n",
       "         [0.0000, 0.0000, 0.0000, 0.0000, 0.0000, 0.0000, 0.0000, 0.0078,\n",
       "          0.0000, 0.1725, 0.6549, 0.8588, 0.8745, 0.8902, 0.9373, 1.0000,\n",
       "          0.8118, 0.7059, 0.2863, 0.0000, 0.0000, 0.0039, 0.0000, 0.0000,\n",
       "          0.0000, 0.0000, 0.0000, 0.0000],\n",
       "         [0.0000, 0.0000, 0.0000, 0.0000, 0.0000, 0.0000, 0.0000, 0.0000,\n",
       "          0.0000, 0.4000, 0.9412, 0.8431, 0.8196, 0.1922, 0.6235, 1.0000,\n",
       "          0.7608, 0.8588, 0.5137, 0.0000, 0.0000, 0.0078, 0.0000, 0.0000,\n",
       "          0.0000, 0.0000, 0.0000, 0.0000],\n",
       "         [0.0000, 0.0000, 0.0000, 0.0000, 0.0000, 0.0000, 0.0000, 0.0000,\n",
       "          0.5725, 0.9686, 0.8902, 0.8196, 0.9137, 0.4941, 0.7725, 0.9294,\n",
       "          0.8118, 0.8392, 0.9176, 0.6314, 0.0000, 0.0157, 0.0000, 0.0000,\n",
       "          0.0000, 0.0000, 0.0000, 0.0000],\n",
       "         [0.0000, 0.0000, 0.0000, 0.0000, 0.0000, 0.0000, 0.0000, 0.0000,\n",
       "          0.8196, 0.8510, 0.8784, 0.9137, 0.9529, 0.9804, 0.8431, 0.8392,\n",
       "          0.9020, 0.8235, 0.7765, 0.7216, 0.0000, 0.0000, 0.0000, 0.0000,\n",
       "          0.0000, 0.0000, 0.0000, 0.0000],\n",
       "         [0.0000, 0.0000, 0.0000, 0.0000, 0.0000, 0.0000, 0.0000, 0.1098,\n",
       "          0.9020, 0.8510, 0.8275, 0.8235, 0.8157, 0.8627, 0.8784, 0.7373,\n",
       "          0.7490, 0.7294, 0.7686, 0.8078, 0.0863, 0.0000, 0.0000, 0.0000,\n",
       "          0.0000, 0.0000, 0.0000, 0.0000],\n",
       "         [0.0000, 0.0000, 0.0000, 0.0000, 0.0000, 0.0000, 0.0000, 0.3098,\n",
       "          0.9294, 0.9294, 0.8275, 0.8353, 0.7647, 0.7569, 0.8039, 0.8510,\n",
       "          0.7255, 0.7451, 0.8039, 0.8157, 0.2314, 0.0000, 0.0000, 0.0000,\n",
       "          0.0000, 0.0000, 0.0000, 0.0000],\n",
       "         [0.0000, 0.0000, 0.0000, 0.0000, 0.0000, 0.0000, 0.0000, 0.4235,\n",
       "          0.9412, 0.8941, 0.9216, 0.8588, 0.7922, 0.7843, 0.8039, 0.8157,\n",
       "          0.7294, 0.7765, 0.8824, 0.7922, 0.5137, 0.0000, 0.0000, 0.0000,\n",
       "          0.0000, 0.0000, 0.0000, 0.0000],\n",
       "         [0.0000, 0.0000, 0.0000, 0.0000, 0.0000, 0.0000, 0.0000, 0.5765,\n",
       "          0.9608, 0.8863, 0.9725, 0.8588, 0.8353, 0.8157, 0.8157, 0.8000,\n",
       "          0.7647, 0.7490, 0.8941, 0.8000, 0.7216, 0.0000, 0.0000, 0.0000,\n",
       "          0.0000, 0.0000, 0.0000, 0.0000],\n",
       "         [0.0000, 0.0000, 0.0000, 0.0000, 0.0000, 0.0000, 0.0000, 0.6588,\n",
       "          0.8941, 0.8824, 0.9608, 0.8353, 0.8471, 0.8039, 0.8196, 0.8000,\n",
       "          0.7569, 0.7490, 0.8941, 0.7843, 0.8196, 0.0000, 0.0000, 0.0000,\n",
       "          0.0000, 0.0000, 0.0000, 0.0000],\n",
       "         [0.0000, 0.0000, 0.0000, 0.0000, 0.0000, 0.0000, 0.0000, 0.7333,\n",
       "          0.8745, 0.9255, 0.9569, 0.8471, 0.8667, 0.8196, 0.8118, 0.8000,\n",
       "          0.7608, 0.7686, 0.8745, 0.8039, 0.8902, 0.0000, 0.0000, 0.0000,\n",
       "          0.0000, 0.0000, 0.0000, 0.0000],\n",
       "         [0.0000, 0.0000, 0.0000, 0.0000, 0.0000, 0.0000, 0.0000, 0.8078,\n",
       "          0.8627, 0.9529, 0.9373, 0.8471, 0.8706, 0.8353, 0.8078, 0.8157,\n",
       "          0.7647, 0.7725, 0.8745, 0.7647, 0.8902, 0.0314, 0.0000, 0.0000,\n",
       "          0.0000, 0.0000, 0.0000, 0.0000],\n",
       "         [0.0000, 0.0000, 0.0000, 0.0000, 0.0000, 0.0000, 0.0000, 0.8157,\n",
       "          0.8431, 1.0000, 0.8980, 0.8353, 0.8627, 0.8235, 0.8118, 0.8118,\n",
       "          0.7608, 0.7294, 0.9255, 0.8235, 0.8863, 0.0431, 0.0000, 0.0000,\n",
       "          0.0000, 0.0000, 0.0000, 0.0000],\n",
       "         [0.0000, 0.0000, 0.0000, 0.0000, 0.0000, 0.0000, 0.0000, 0.8588,\n",
       "          0.8353, 1.0000, 0.8549, 0.8588, 0.8863, 0.8353, 0.8039, 0.7961,\n",
       "          0.7961, 0.7333, 0.8980, 0.8745, 0.9059, 0.0588, 0.0000, 0.0000,\n",
       "          0.0000, 0.0000, 0.0000, 0.0000],\n",
       "         [0.0000, 0.0000, 0.0000, 0.0000, 0.0000, 0.0000, 0.0000, 0.8471,\n",
       "          0.8275, 0.9686, 0.8392, 0.8706, 0.8745, 0.8353, 0.8078, 0.7961,\n",
       "          0.7882, 0.7412, 0.8667, 0.8667, 0.8980, 0.0510, 0.0000, 0.0000,\n",
       "          0.0000, 0.0000, 0.0000, 0.0000],\n",
       "         [0.0000, 0.0000, 0.0000, 0.0000, 0.0000, 0.0000, 0.0000, 0.8588,\n",
       "          0.8510, 0.9882, 0.8431, 0.8667, 0.8510, 0.8471, 0.8235, 0.7843,\n",
       "          0.7686, 0.7490, 0.8510, 0.8667, 0.9059, 0.0431, 0.0000, 0.0000,\n",
       "          0.0000, 0.0000, 0.0000, 0.0000],\n",
       "         [0.0000, 0.0000, 0.0000, 0.0000, 0.0000, 0.0000, 0.0000, 0.8667,\n",
       "          0.8745, 0.9922, 0.8471, 0.8863, 0.8667, 0.8431, 0.8353, 0.8275,\n",
       "          0.8039, 0.7765, 0.8627, 0.8667, 0.8039, 0.0588, 0.0000, 0.0000,\n",
       "          0.0000, 0.0000, 0.0000, 0.0000],\n",
       "         [0.0000, 0.0000, 0.0000, 0.0000, 0.0000, 0.0000, 0.0000, 0.8353,\n",
       "          0.8902, 0.9490, 0.8392, 0.8745, 0.8510, 0.8392, 0.8353, 0.8078,\n",
       "          0.7725, 0.7529, 0.8510, 0.8471, 0.8000, 0.0510, 0.0000, 0.0000,\n",
       "          0.0000, 0.0000, 0.0000, 0.0000],\n",
       "         [0.0000, 0.0000, 0.0000, 0.0000, 0.0000, 0.0000, 0.0000, 0.8588,\n",
       "          0.9412, 0.9569, 0.8392, 0.8980, 0.8471, 0.8353, 0.8471, 0.8078,\n",
       "          0.7843, 0.7647, 0.8902, 0.9137, 0.8431, 0.0314, 0.0000, 0.0000,\n",
       "          0.0000, 0.0000, 0.0000, 0.0000],\n",
       "         [0.0000, 0.0000, 0.0000, 0.0000, 0.0000, 0.0000, 0.0000, 0.8392,\n",
       "          0.9725, 0.8784, 0.8824, 0.8980, 0.8784, 0.8549, 0.8549, 0.8471,\n",
       "          0.7961, 0.8157, 0.7333, 0.6941, 0.8275, 0.0157, 0.0000, 0.0000,\n",
       "          0.0000, 0.0000, 0.0000, 0.0000],\n",
       "         [0.0000, 0.0000, 0.0000, 0.0000, 0.0000, 0.0000, 0.0000, 0.0000,\n",
       "          0.0000, 0.7137, 0.9255, 0.8510, 0.8353, 0.8588, 0.8706, 0.8118,\n",
       "          0.7451, 0.8745, 0.4353, 0.0000, 0.0000, 0.0000, 0.0000, 0.0000,\n",
       "          0.0000, 0.0000, 0.0000, 0.0000],\n",
       "         [0.0000, 0.0000, 0.0000, 0.0000, 0.0000, 0.0000, 0.0000, 0.0000,\n",
       "          0.0000, 0.8353, 0.9412, 0.8902, 0.8706, 0.8588, 0.8784, 0.8510,\n",
       "          0.7961, 0.8824, 0.4863, 0.0000, 0.0000, 0.0000, 0.0000, 0.0000,\n",
       "          0.0000, 0.0000, 0.0000, 0.0000],\n",
       "         [0.0000, 0.0000, 0.0000, 0.0000, 0.0000, 0.0000, 0.0000, 0.0000,\n",
       "          0.0000, 0.7608, 0.9490, 0.8863, 0.8863, 0.8588, 0.8863, 0.8745,\n",
       "          0.7961, 0.8941, 0.3882, 0.0000, 0.0118, 0.0000, 0.0000, 0.0000,\n",
       "          0.0000, 0.0000, 0.0000, 0.0000],\n",
       "         [0.0000, 0.0000, 0.0000, 0.0000, 0.0000, 0.0000, 0.0000, 0.0157,\n",
       "          0.0000, 0.6314, 0.9608, 0.8902, 0.8667, 0.8627, 0.8784, 0.8549,\n",
       "          0.8118, 0.9137, 0.2902, 0.0000, 0.0235, 0.0000, 0.0000, 0.0000,\n",
       "          0.0000, 0.0000, 0.0000, 0.0000],\n",
       "         [0.0000, 0.0000, 0.0000, 0.0000, 0.0000, 0.0000, 0.0000, 0.0078,\n",
       "          0.0000, 0.5647, 0.9804, 0.9059, 0.8980, 0.8667, 0.8745, 0.8549,\n",
       "          0.8235, 0.9216, 0.2902, 0.0000, 0.0275, 0.0000, 0.0000, 0.0000,\n",
       "          0.0000, 0.0000, 0.0000, 0.0000],\n",
       "         [0.0000, 0.0000, 0.0000, 0.0000, 0.0000, 0.0000, 0.0000, 0.0275,\n",
       "          0.0000, 0.3922, 0.9882, 0.9451, 0.9451, 0.9176, 0.9765, 0.9137,\n",
       "          0.8941, 0.9137, 0.1529, 0.0000, 0.0235, 0.0000, 0.0000, 0.0000,\n",
       "          0.0000, 0.0000, 0.0000, 0.0000],\n",
       "         [0.0000, 0.0000, 0.0000, 0.0000, 0.0000, 0.0000, 0.0000, 0.0039,\n",
       "          0.0000, 0.0000, 0.2078, 0.4863, 0.5647, 0.6039, 0.5020, 0.4392,\n",
       "          0.3490, 0.1333, 0.0000, 0.0000, 0.0039, 0.0000, 0.0000, 0.0000,\n",
       "          0.0000, 0.0000, 0.0000, 0.0000]]])"
      ]
     },
     "execution_count": 129,
     "metadata": {},
     "output_type": "execute_result"
    }
   ],
   "source": [
    "# convert random image to tensor\n",
    "image, label = mnist_train[random.randint(0, len(mnist_train))]\n",
    "image_tensor = TF.to_tensor(image)\n",
    "image_tensor"
   ]
  },
  {
   "cell_type": "code",
   "execution_count": 130,
   "metadata": {
    "collapsed": false,
    "jupyter": {
     "outputs_hidden": false
    },
    "pycharm": {
     "name": "#%%\n"
    }
   },
   "outputs": [
    {
     "data": {
      "text/plain": [
       "torch.Size([1, 28, 28])"
      ]
     },
     "execution_count": 130,
     "metadata": {},
     "output_type": "execute_result"
    }
   ],
   "source": [
    "# image is 1x28x28 - grayscale\n",
    "image_tensor.shape"
   ]
  },
  {
   "cell_type": "code",
   "execution_count": 131,
   "metadata": {
    "collapsed": false,
    "jupyter": {
     "outputs_hidden": false
    },
    "pycharm": {
     "name": "#%%\n"
    }
   },
   "outputs": [
    {
     "name": "stdout",
     "output_type": "stream",
     "text": [
      "Mean for train: 0.28604063391685486\n",
      "Mean for test: 0.2868484556674957\n",
      "Mean over full data: 0.28615602850914\n"
     ]
    }
   ],
   "source": [
    "# Calculate mean and standard deviation needed for data normalization\n",
    "\n",
    "mean_train = 0\n",
    "mean_test = 0\n",
    "\n",
    "for img, _ in mnist_train:\n",
    "    img_tensor = TF.to_tensor(img)\n",
    "    mean_train += torch.mean(img_tensor)\n",
    "\n",
    "for img, _ in mnist_test:\n",
    "    img_tensor = TF.to_tensor(img)\n",
    "    mean_test += torch.mean(img_tensor)\n",
    "\n",
    "mean = (mean_train + mean_test) / (len(mnist_train) + len(mnist_test))\n",
    "mean_train = mean_train / len(mnist_train)\n",
    "mean_test = mean_test / len(mnist_test)\n",
    "\n",
    "print(f\"Mean for train: {mean_train}\")\n",
    "print(f\"Mean for test: {mean_test}\")\n",
    "print(f\"Mean over full data: {mean}\")"
   ]
  },
  {
   "cell_type": "code",
   "execution_count": 132,
   "metadata": {
    "collapsed": false,
    "jupyter": {
     "outputs_hidden": false
    },
    "pycharm": {
     "name": "#%%\n"
    }
   },
   "outputs": [
    {
     "name": "stdout",
     "output_type": "stream",
     "text": [
      "Std for train: 0.35302430391311646\n",
      "Std for test: 0.35244521498680115\n",
      "Std over full data: 0.352941632270813\n"
     ]
    }
   ],
   "source": [
    "std_train = 0\n",
    "std_test = 0\n",
    "\n",
    "for img, _ in mnist_train:\n",
    "    img_tensor = TF.to_tensor(img)\n",
    "    img_tensor = torch.square(img_tensor - mean_train)\n",
    "    std_train += torch.mean(img_tensor)\n",
    "\n",
    "for img, _ in mnist_test:\n",
    "    img_tensor = TF.to_tensor(img)\n",
    "    img_tensor = torch.square(img_tensor - mean_train)\n",
    "    std_test += torch.mean(img_tensor)\n",
    "\n",
    "std = torch.sqrt((std_train + std_test) / (len(mnist_train) + len(mnist_test)))\n",
    "std_train = torch.sqrt(std_train / len(mnist_train))\n",
    "std_test = torch.sqrt(std_test / len(mnist_test))\n",
    "\n",
    "\n",
    "print(f\"Std for train: {std_train}\")\n",
    "print(f\"Std for test: {std_test}\")\n",
    "print(f\"Std over full data: {std}\")"
   ]
  },
  {
   "cell_type": "code",
   "execution_count": 153,
   "metadata": {
    "collapsed": false,
    "jupyter": {
     "outputs_hidden": false
    },
    "pycharm": {
     "name": "#%%\n"
    }
   },
   "outputs": [
    {
     "name": "stdout",
     "output_type": "stream",
     "text": [
      "Black pixel value: -0.810257613658905\n",
      "Mean for train: 0.28604063391685486\n",
      "Std for train: 0.35302430391311646\n"
     ]
    },
    {
     "data": {
      "image/png": "[encoded data removed]",
      "text/plain": [
       "<Figure size 432x288 with 1 Axes>"
      ]
     },
     "metadata": {
      "needs_background": "light"
     },
     "output_type": "display_data"
    }
   ],
   "source": [
    "# normalize data for faster training\n",
    "transform = transforms.Compose([\n",
    "    transforms.ToTensor(),\n",
    "    transforms.Normalize((mean_train,), (std_train,))\n",
    "])\n",
    "# apply transformations to data\n",
    "mnist = FashionMNIST(\"./data\", train=True, download=True, transform=transform)\n",
    "\n",
    "image, label = mnist[0]\n",
    "\n",
    "image_show = np.transpose(image.numpy(), (1, 2, 0))\n",
    "plt.imshow(image_show, cmap='gray')\n",
    "\n",
    "black_pixel = image[0,0,0].item()\n",
    "print(f\"Black pixel value: {black_pixel}\")\n",
    "print(f\"Mean for train: {mean_train}\")\n",
    "print(f\"Std for train: {std_train}\")"
   ]
  },
  {
   "cell_type": "code",
   "execution_count": 152,
   "metadata": {
    "collapsed": false,
    "jupyter": {
     "outputs_hidden": false
    },
    "pycharm": {
     "name": "#%%\n"
    }
   },
   "outputs": [
    {
     "data": {
      "image/png": "[encoded data removed]",
      "text/plain": [
       "<Figure size 432x288 with 1 Axes>"
      ]
     },
     "metadata": {
      "needs_background": "light"
     },
     "output_type": "display_data"
    }
   ],
   "source": [
    "image, label = mnist[random.randint(0, len(mnist_train))]\n",
    "angle = random.randint(-30, 30)\n",
    "image = TF.rotate(image, angle, fill=black_pixel)\n",
    "image_show = np.transpose(image.numpy(), (1, 2, 0))\n",
    "plt.imshow(image_show, cmap='gray')\n",
    "plt.show()"
   ]
  }
 ],
 "metadata": {
  "kernelspec": {
   "display_name": "Python 3 (ipykernel)",
   "language": "python",
   "name": "python3"
  },
  "language_info": {
   "codemirror_mode": {
    "name": "ipython",
    "version": 3
   },
   "file_extension": ".py",
   "mimetype": "text/x-python",
   "name": "python",
   "nbconvert_exporter": "python",
   "pygments_lexer": "ipython3",
   "version": "3.8.10"
  }
 },
 "nbformat": 4,
 "nbformat_minor": 4
}
