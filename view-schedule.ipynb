{
 "cells": [
  {
   "cell_type": "code",
   "execution_count": 6,
   "metadata": {
    "collapsed": false,
    "jupyter": {
     "outputs_hidden": false
    },
    "pycharm": {
     "name": "#%%\n"
    },
    "trusted": false
   },
   "outputs": [],
   "source": [
    "from ray.tune.schedulers import PopulationBasedTrainingReplay"
   ]
  },
  {
   "cell_type": "code",
   "execution_count": 10,
   "metadata": {
    "collapsed": false,
    "jupyter": {
     "outputs_hidden": false
    },
    "pycharm": {
     "name": "#%%\n"
    },
    "trusted": false
   },
   "outputs": [
    {
     "data": {
      "text/plain": "{'progress_bar_refresh_rate': 0,\n 'layer_1_size': 512,\n 'layer_2_size': 512,\n 'lr': 5e-05,\n 'batch_size': 1024,\n 'data_dir': './data',\n 'data_mean': 0.28604063391685486,\n 'data_std': 0.35302430391311646,\n 'augmentations': [['blur', 0.26791761175640405],\n  ['rotate_left', 0.8723674737797285],\n  ['rotate_right', 0.07890809261122134]]}"
     },
     "execution_count": 10,
     "metadata": {},
     "output_type": "execute_result"
    }
   ],
   "source": [
    "replay = PopulationBasedTrainingReplay(\n",
    "    \"./data/FashionMNIST-pbt/pbt_policy_898a5_00003.txt\")\n",
    "\n",
    "replay.config  # Initial config\n",
    "  # Schedule, in the form of tuples (step, config)\n"
   ]
  },
  {
   "cell_type": "code",
   "execution_count": 11,
   "metadata": {
    "collapsed": false,
    "jupyter": {
     "outputs_hidden": false
    },
    "pycharm": {
     "name": "#%%\n"
    },
    "trusted": false
   },
   "outputs": [
    {
     "data": {
      "text/plain": "[(8,\n  {'progress_bar_refresh_rate': 0,\n   'layer_1_size': 512,\n   'layer_2_size': 512,\n   'lr': 5e-05,\n   'batch_size': 1024,\n   'data_dir': './data',\n   'data_mean': 0.28604063391685486,\n   'data_std': 0.35302430391311646,\n   'augmentations': [['blur', 0.7129817103713567],\n    ['rotate_left', 0.09256880579677385],\n    ['rotate_right', 0.13630303731298177]]}),\n (13,\n  {'progress_bar_refresh_rate': 0,\n   'layer_1_size': 512,\n   'layer_2_size': 512,\n   'lr': 5e-05,\n   'batch_size': 1024,\n   'data_dir': './data',\n   'data_mean': 0.28604063391685486,\n   'data_std': 0.35302430391311646,\n   'augmentations': [['blur', 0.2172307474348526],\n    ['rotate_left', 0.19635165171173796],\n    ['rotate_right', 0.21067099883267293]]})]"
     },
     "execution_count": 11,
     "metadata": {},
     "output_type": "execute_result"
    }
   ],
   "source": [
    "replay._policy"
   ]
  },
  {
   "cell_type": "code",
   "execution_count": 12,
   "metadata": {
    "collapsed": false,
    "jupyter": {
     "outputs_hidden": false
    },
    "pycharm": {
     "name": "#%%\n"
    },
    "trusted": false
   },
   "outputs": [
    {
     "name": "stderr",
     "output_type": "stream",
     "text": [
      "GPU available: True, used: True\n",
      "TPU available: False, using: 0 TPU cores\n",
      "IPU available: False, using: 0 IPUs\n",
      "LOCAL_RANK: 0 - CUDA_VISIBLE_DEVICES: [0]\n"
     ]
    },
    {
     "data": {
      "text/plain": "Testing: 0it [00:00, ?it/s]",
      "application/vnd.jupyter.widget-view+json": {
       "version_major": 2,
       "version_minor": 0,
       "model_id": "13c382ccbee64d3885aca37e7c64286b"
      }
     },
     "metadata": {},
     "output_type": "display_data"
    },
    {
     "name": "stdout",
     "output_type": "stream",
     "text": [
      "--------------------------------------------------------------------------------\n",
      "DATALOADER:0 TEST RESULTS\n",
      "{'avg_test_acc': 0.749707043170929,\n",
      " 'avg_test_loss': 1.2627410888671875,\n",
      " 'test_acc': 0.7497000098228455,\n",
      " 'test_acc_epoch': 0.7497000098228455,\n",
      " 'test_loss': 1.2631179094314575,\n",
      " 'test_loss_epoch': 1.2631179094314575}\n",
      "--------------------------------------------------------------------------------\n"
     ]
    },
    {
     "data": {
      "text/plain": "[{'test_loss': 1.2631179094314575,\n  'test_loss_epoch': 1.2631179094314575,\n  'test_acc': 0.7497000098228455,\n  'test_acc_epoch': 0.7497000098228455,\n  'avg_test_loss': 1.2627410888671875,\n  'avg_test_acc': 0.749707043170929}]"
     },
     "execution_count": 12,
     "metadata": {},
     "output_type": "execute_result"
    }
   ],
   "source": [
    "from MNISTDataModule import MNISTDataModule\n",
    "from augmentation import TRANSFORM_NAMES\n",
    "from LightningFashionMNIST import LightningFashionMNIST\n",
    "import pytorch_lightning as pl\n",
    "import os\n",
    "import torch\n",
    "\n",
    "batch_and_lr_multiplier = 5\n",
    "conf = {\n",
    "    \"progress_bar_refresh_rate\": 25,\n",
    "    \"layer_1_size\": 512,\n",
    "    \"layer_2_size\": 512,\n",
    "    \"lr\": 0.00001 * batch_and_lr_multiplier,\n",
    "    \"batch_size\": 32 * (2 ** batch_and_lr_multiplier),\n",
    "    \"data_dir\": \"./data\",\n",
    "    # Fashion mnist mean and std\n",
    "    \"data_mean\": 0.28604063391685486,\n",
    "    \"data_std\": 0.35302430391311646,\n",
    "    \"augmentations\": [],\n",
    "}\n",
    "\n",
    "model = LightningFashionMNIST.load_from_checkpoint(os.path.join(\"./data/FashionMNIST-pbt/train_mnist_tune_checkpoint_cc5a0_00002_2_2021-10-11_23-07-02/checkpoint_000014\", \"checkpoint\"), conf=conf)\n",
    "data = MNISTDataModule(conf=conf)\n",
    "\n",
    "trainer = pl.Trainer(\n",
    "    default_root_dir=\"./data\",\n",
    "    gpus=-1 if torch.cuda.device_count() > 0 else 0,\n",
    "    max_epochs=15,\n",
    "    progress_bar_refresh_rate=conf[\"progress_bar_refresh_rate\"],\n",
    "    num_sanity_val_steps=0,\n",
    "    # callbacks=[early_stopping]\n",
    ")\n",
    "\n",
    "\n",
    "# test (pass in the model)\n",
    "trainer.test(model, datamodule=data)"
   ]
  },
  {
   "cell_type": "code",
   "execution_count": null,
   "outputs": [],
   "source": [],
   "metadata": {
    "collapsed": false,
    "pycharm": {
     "name": "#%%\n"
    }
   }
  }
 ],
 "metadata": {
  "kernelspec": {
   "display_name": "Python 3 (ipykernel)",
   "language": "python",
   "name": "python3"
  },
  "language_info": {
   "codemirror_mode": {
    "name": "ipython",
    "version": 3
   },
   "file_extension": ".py",
   "mimetype": "text/x-python",
   "name": "python",
   "nbconvert_exporter": "python",
   "pygments_lexer": "ipython3",
   "version": "3.8.10"
  }
 },
 "nbformat": 4,
 "nbformat_minor": 4
}