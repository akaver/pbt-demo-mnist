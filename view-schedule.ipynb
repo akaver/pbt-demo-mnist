{
 "cells": [
  {
   "cell_type": "code",
   "execution_count": 1,
   "metadata": {
    "collapsed": false,
    "jupyter": {
     "outputs_hidden": false
    },
    "pycharm": {
     "is_executing": true,
     "name": "#%%\n"
    },
    "trusted": false
   },
   "outputs": [],
   "source": "from ray.tune.schedulers import PopulationBasedTrainingReplay"
  },
  {
   "cell_type": "code",
   "execution_count": 12,
   "metadata": {
    "collapsed": false,
    "jupyter": {
     "outputs_hidden": false
    },
    "pycharm": {
     "name": "#%%\n"
    },
    "trusted": false
   },
   "outputs": [
    {
     "ename": "ValueError",
     "evalue": "Policy file not found: ./data/FashionMNIST/pbt_policy_b6158_00001.txt",
     "output_type": "error",
     "traceback": [
      "\u001B[0;31m---------------------------------------------------------------------------\u001B[0m",
      "\u001B[0;31mValueError\u001B[0m                                Traceback (most recent call last)",
      "\u001B[0;32m/tmp/ipykernel_3513/2596444586.py\u001B[0m in \u001B[0;36m<module>\u001B[0;34m\u001B[0m\n\u001B[0;32m----> 1\u001B[0;31m replay = PopulationBasedTrainingReplay(\n\u001B[0m\u001B[1;32m      2\u001B[0m     \"./data/FashionMNIST/pbt_policy_b6158_00001.txt\")\n\u001B[1;32m      3\u001B[0m \u001B[0;34m\u001B[0m\u001B[0m\n\u001B[1;32m      4\u001B[0m \u001B[0mreplay\u001B[0m\u001B[0;34m.\u001B[0m\u001B[0mconfig\u001B[0m  \u001B[0;31m# Initial config\u001B[0m\u001B[0;34m\u001B[0m\u001B[0;34m\u001B[0m\u001B[0m\n\u001B[1;32m      5\u001B[0m   \u001B[0;31m# Schedule, in the form of tuples (step, config)\u001B[0m\u001B[0;34m\u001B[0m\u001B[0;34m\u001B[0m\u001B[0;34m\u001B[0m\u001B[0m\n",
      "\u001B[0;32m~/.local/lib/python3.8/site-packages/ray/tune/schedulers/pbt.py\u001B[0m in \u001B[0;36m__init__\u001B[0;34m(self, policy_file)\u001B[0m\n\u001B[1;32m    714\u001B[0m         \u001B[0mpolicy_file\u001B[0m \u001B[0;34m=\u001B[0m \u001B[0mos\u001B[0m\u001B[0;34m.\u001B[0m\u001B[0mpath\u001B[0m\u001B[0;34m.\u001B[0m\u001B[0mexpanduser\u001B[0m\u001B[0;34m(\u001B[0m\u001B[0mpolicy_file\u001B[0m\u001B[0;34m)\u001B[0m\u001B[0;34m\u001B[0m\u001B[0;34m\u001B[0m\u001B[0m\n\u001B[1;32m    715\u001B[0m         \u001B[0;32mif\u001B[0m \u001B[0;32mnot\u001B[0m \u001B[0mos\u001B[0m\u001B[0;34m.\u001B[0m\u001B[0mpath\u001B[0m\u001B[0;34m.\u001B[0m\u001B[0mexists\u001B[0m\u001B[0;34m(\u001B[0m\u001B[0mpolicy_file\u001B[0m\u001B[0;34m)\u001B[0m\u001B[0;34m:\u001B[0m\u001B[0;34m\u001B[0m\u001B[0;34m\u001B[0m\u001B[0m\n\u001B[0;32m--> 716\u001B[0;31m             \u001B[0;32mraise\u001B[0m \u001B[0mValueError\u001B[0m\u001B[0;34m(\u001B[0m\u001B[0;34m\"Policy file not found: {}\"\u001B[0m\u001B[0;34m.\u001B[0m\u001B[0mformat\u001B[0m\u001B[0;34m(\u001B[0m\u001B[0mpolicy_file\u001B[0m\u001B[0;34m)\u001B[0m\u001B[0;34m)\u001B[0m\u001B[0;34m\u001B[0m\u001B[0;34m\u001B[0m\u001B[0m\n\u001B[0m\u001B[1;32m    717\u001B[0m \u001B[0;34m\u001B[0m\u001B[0m\n\u001B[1;32m    718\u001B[0m         \u001B[0mself\u001B[0m\u001B[0;34m.\u001B[0m\u001B[0mpolicy_file\u001B[0m \u001B[0;34m=\u001B[0m \u001B[0mpolicy_file\u001B[0m\u001B[0;34m\u001B[0m\u001B[0;34m\u001B[0m\u001B[0m\n",
      "\u001B[0;31mValueError\u001B[0m: Policy file not found: ./data/FashionMNIST/pbt_policy_b6158_00001.txt"
     ]
    }
   ],
   "source": "replay = PopulationBasedTrainingReplay(\n    \"./data/FashionMNIST/pbt_policy_b6158_00001.txt\")\n\nreplay.config  # Initial config\n  # Schedule, in the form of tuples (step, config)\n"
  },
  {
   "cell_type": "code",
   "execution_count": 11,
   "metadata": {
    "collapsed": false,
    "jupyter": {
     "outputs_hidden": false
    },
    "pycharm": {
     "is_executing": true,
     "name": "#%%\n"
    },
    "trusted": false
   },
   "outputs": [
    {
     "data": {
      "text/plain": "[(1,\n  {'progress_bar_refresh_rate': 0,\n   'layer_1_size': 512,\n   'layer_2_size': 512,\n   'lr': 0.001,\n   'batch_size': 512,\n   'rotate_image': 4}),\n (3,\n  {'progress_bar_refresh_rate': 0,\n   'layer_1_size': 512,\n   'layer_2_size': 512,\n   'lr': 0.001,\n   'batch_size': 512,\n   'rotate_image': 3}),\n (4,\n  {'progress_bar_refresh_rate': 0,\n   'layer_1_size': 512,\n   'layer_2_size': 512,\n   'lr': 0.001,\n   'batch_size': 512,\n   'rotate_image': 3}),\n (5,\n  {'progress_bar_refresh_rate': 0,\n   'layer_1_size': 512,\n   'layer_2_size': 512,\n   'lr': 0.001,\n   'batch_size': 512,\n   'rotate_image': 2}),\n (7,\n  {'progress_bar_refresh_rate': 0,\n   'layer_1_size': 512,\n   'layer_2_size': 512,\n   'lr': 0.001,\n   'batch_size': 512,\n   'rotate_image': 2}),\n (8,\n  {'progress_bar_refresh_rate': 0,\n   'layer_1_size': 512,\n   'layer_2_size': 512,\n   'lr': 0.001,\n   'batch_size': 512,\n   'rotate_image': 2}),\n (9,\n  {'progress_bar_refresh_rate': 0,\n   'layer_1_size': 512,\n   'layer_2_size': 512,\n   'lr': 0.001,\n   'batch_size': 512,\n   'rotate_image': 1}),\n (11,\n  {'progress_bar_refresh_rate': 0,\n   'layer_1_size': 512,\n   'layer_2_size': 512,\n   'lr': 0.001,\n   'batch_size': 512,\n   'rotate_image': 0}),\n (12,\n  {'progress_bar_refresh_rate': 0,\n   'layer_1_size': 512,\n   'layer_2_size': 512,\n   'lr': 0.001,\n   'batch_size': 512,\n   'rotate_image': 0}),\n (13,\n  {'progress_bar_refresh_rate': 0,\n   'layer_1_size': 512,\n   'layer_2_size': 512,\n   'lr': 0.001,\n   'batch_size': 512,\n   'rotate_image': 0})]"
     },
     "execution_count": 11,
     "metadata": {},
     "output_type": "execute_result"
    }
   ],
   "source": "replay._policy"
  },
  {
   "cell_type": "code",
   "execution_count": null,
   "metadata": {
    "collapsed": false,
    "jupyter": {
     "outputs_hidden": false
    },
    "pycharm": {
     "is_executing": true,
     "name": "#%%\n"
    },
    "trusted": false
   },
   "outputs": [],
   "source": "import os\nos.getcwd()"
  }
 ],
 "metadata": {
  "kernelspec": {
   "display_name": "Python 3 (ipykernel)",
   "language": "python",
   "name": "python3"
  },
  "language_info": {
   "codemirror_mode": {
    "name": "ipython",
    "version": 3
   },
   "file_extension": ".py",
   "mimetype": "text/x-python",
   "name": "python",
   "nbconvert_exporter": "python",
   "pygments_lexer": "ipython3",
   "version": "3.8.10"
  }
 },
 "nbformat": 4,
 "nbformat_minor": 4
}