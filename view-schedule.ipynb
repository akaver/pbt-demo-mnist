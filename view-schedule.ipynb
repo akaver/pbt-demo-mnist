{
 "cells": [
  {
   "cell_type": "code",
   "execution_count": 1,
   "metadata": {
    "collapsed": false,
    "jupyter": {
     "outputs_hidden": false
    },
    "pycharm": {
     "name": "#%%\n"
    },
    "trusted": false
   },
   "outputs": [],
   "source": [
    "from ray.tune.schedulers import PopulationBasedTrainingReplay"
   ]
  },
  {
   "cell_type": "code",
   "execution_count": 3,
   "metadata": {
    "collapsed": false,
    "jupyter": {
     "outputs_hidden": false
    },
    "pycharm": {
     "name": "#%%\n"
    },
    "trusted": false
   },
   "outputs": [
    {
     "data": {
      "text/plain": "{'progress_bar_refresh_rate': 0,\n 'layer_1_size': 512,\n 'layer_2_size': 512,\n 'lr': 0.001,\n 'batch_size': 256,\n 'data_dir': './data',\n 'data_mean': 0.28604063391685486,\n 'data_std': 0.35302430391311646,\n 'augmentations': [['auto_contrast', 0.4964022090497524],\n  ['blur', 0.8065269501128952],\n  ['rotate', 0.3766131259849014]]}"
     },
     "execution_count": 3,
     "metadata": {},
     "output_type": "execute_result"
    }
   ],
   "source": [
    "replay = PopulationBasedTrainingReplay(\n",
    "    \"./data/FashionMNIST-pbt/pbt_policy_c466f_00004.txt\")\n",
    "\n",
    "replay.config  # Initial config\n",
    "  # Schedule, in the form of tuples (step, config)\n"
   ]
  },
  {
   "cell_type": "code",
   "execution_count": 4,
   "metadata": {
    "collapsed": false,
    "jupyter": {
     "outputs_hidden": false
    },
    "pycharm": {
     "name": "#%%\n"
    },
    "trusted": false
   },
   "outputs": [
    {
     "data": {
      "text/plain": "[(3,\n  {'progress_bar_refresh_rate': 0,\n   'layer_1_size': 512,\n   'layer_2_size': 512,\n   'lr': 0.001,\n   'batch_size': 256,\n   'data_dir': './data',\n   'data_mean': 0.28604063391685486,\n   'data_std': 0.35302430391311646,\n   'augmentations': [['auto_contrast', 0.7578290489806665],\n    ['blur', 0.35273905633319225],\n    ['rotate', 0.28807311930677926]]}),\n (9,\n  {'progress_bar_refresh_rate': 0,\n   'layer_1_size': 512,\n   'layer_2_size': 512,\n   'lr': 0.001,\n   'batch_size': 256,\n   'data_dir': './data',\n   'data_mean': 0.28604063391685486,\n   'data_std': 0.35302430391311646,\n   'augmentations': [['auto_contrast', 0.8030252033383194],\n    ['blur', 0.9901275588865696],\n    ['rotate', 0.22368544268629054]]}),\n (14,\n  {'progress_bar_refresh_rate': 0,\n   'layer_1_size': 512,\n   'layer_2_size': 512,\n   'lr': 0.001,\n   'batch_size': 256,\n   'data_dir': './data',\n   'data_mean': 0.28604063391685486,\n   'data_std': 0.35302430391311646,\n   'augmentations': [['auto_contrast', 0.901840521953183],\n    ['blur', 0.05858147953004167],\n    ['rotate', 0.05662007848962114]]})]"
     },
     "execution_count": 4,
     "metadata": {},
     "output_type": "execute_result"
    }
   ],
   "source": "replay._policy"
  },
  {
   "cell_type": "code",
   "execution_count": null,
   "metadata": {
    "collapsed": false,
    "jupyter": {
     "outputs_hidden": false
    },
    "pycharm": {
     "is_executing": true,
     "name": "#%%\n"
    },
    "trusted": false
   },
   "outputs": [],
   "source": "import os\nos.getcwd()"
  }
 ],
 "metadata": {
  "kernelspec": {
   "display_name": "Python 3 (ipykernel)",
   "language": "python",
   "name": "python3"
  },
  "language_info": {
   "codemirror_mode": {
    "name": "ipython",
    "version": 3
   },
   "file_extension": ".py",
   "mimetype": "text/x-python",
   "name": "python",
   "nbconvert_exporter": "python",
   "pygments_lexer": "ipython3",
   "version": "3.8.10"
  }
 },
 "nbformat": 4,
 "nbformat_minor": 4
}