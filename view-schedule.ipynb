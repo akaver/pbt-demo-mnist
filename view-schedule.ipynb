{
 "cells": [
  {
   "cell_type": "code",
   "execution_count": 1,
   "metadata": {
    "collapsed": false,
    "jupyter": {
     "outputs_hidden": false
    },
    "pycharm": {
     "name": "#%%\n"
    },
    "trusted": false
   },
   "outputs": [],
   "source": [
    "from ray.tune.schedulers import PopulationBasedTrainingReplay"
   ]
  },
  {
   "cell_type": "code",
   "execution_count": 8,
   "metadata": {
    "collapsed": false,
    "jupyter": {
     "outputs_hidden": false
    },
    "pycharm": {
     "name": "#%%\n"
    },
    "trusted": false
   },
   "outputs": [
    {
     "data": {
      "text/plain": "{'progress_bar_refresh_rate': 0,\n 'layer_1_size': 512,\n 'layer_2_size': 512,\n 'lr': 5e-05,\n 'batch_size': 1024,\n 'data_dir': '~/mldata',\n 'data_mean': 0.28604063391685486,\n 'data_std': 0.35302430391311646,\n 'augmentations': [['blur', 0.553326343582685],\n  ['rotate_left', 0.4339827645455905],\n  ['rotate_right', 0.0682481991436582]]}"
     },
     "execution_count": 8,
     "metadata": {},
     "output_type": "execute_result"
    }
   ],
   "source": [
    "policy = '4752a_00000'\n",
    "replay = PopulationBasedTrainingReplay(\n",
    "    f\"./data/FashionMNIST-pbt/pbt_policy_{policy}.txt\")\n",
    "\n",
    "replay.config  # Initial config\n",
    "  # Schedule, in the form of tuples (step, config)\n"
   ]
  },
  {
   "cell_type": "code",
   "execution_count": 9,
   "metadata": {
    "collapsed": false,
    "jupyter": {
     "outputs_hidden": false
    },
    "pycharm": {
     "name": "#%%\n"
    },
    "trusted": false
   },
   "outputs": [
    {
     "data": {
      "text/plain": "[(14,\n  {'progress_bar_refresh_rate': 0,\n   'layer_1_size': 512,\n   'layer_2_size': 512,\n   'lr': 5e-05,\n   'batch_size': 1024,\n   'data_dir': '~/mldata',\n   'data_mean': 0.28604063391685486,\n   'data_std': 0.35302430391311646,\n   'augmentations': [['blur', 0.7218209096741113],\n    ['rotate_left', 0.0728995372900052],\n    ['rotate_right', 0.7306509492176126]]})]"
     },
     "execution_count": 9,
     "metadata": {},
     "output_type": "execute_result"
    }
   ],
   "source": [
    "replay._policy"
   ]
  },
  {
   "cell_type": "code",
   "execution_count": 10,
   "metadata": {
    "collapsed": false,
    "jupyter": {
     "outputs_hidden": false
    },
    "pycharm": {
     "name": "#%%\n"
    },
    "trusted": false
   },
   "outputs": [
    {
     "name": "stderr",
     "output_type": "stream",
     "text": [
      "/Users/akaver/lib/python3.9/site-packages/pytorch_lightning/trainer/connectors/callback_connector.py:90: LightningDeprecationWarning: Setting `Trainer(progress_bar_refresh_rate=25)` is deprecated in v1.5 and will be removed in v1.7. Please pass `pytorch_lightning.callbacks.progress.TQDMProgressBar` with `refresh_rate` directly to the Trainer's `callbacks` argument instead. Or, to disable the progress bar pass `enable_progress_bar = False` to the Trainer.\n",
      "  rank_zero_deprecation(\n",
      "GPU available: False, used: False\n",
      "TPU available: False, using: 0 TPU cores\n",
      "IPU available: False, using: 0 IPUs\n",
      "/opt/homebrew/lib/python3.9/site-packages/torchvision/datasets/mnist.py:498: UserWarning: The given NumPy array is not writeable, and PyTorch does not support non-writeable tensors. This means you can write to the underlying (supposedly non-writeable) NumPy array using the tensor. You may want to copy the array to protect its data or make it writeable before converting it to a tensor. This type of warning will be suppressed for the rest of this program. (Triggered internally at  ../torch/csrc/utils/tensor_numpy.cpp:189.)\n",
      "  return torch.from_numpy(parsed.astype(m[2], copy=False)).view(*s)\n"
     ]
    },
    {
     "data": {
      "text/plain": "Testing: 0it [00:00, ?it/s]",
      "application/vnd.jupyter.widget-view+json": {
       "version_major": 2,
       "version_minor": 0,
       "model_id": "c23cec1117cb4a82bc978c8fdade64f3"
      }
     },
     "metadata": {},
     "output_type": "display_data"
    },
    {
     "name": "stdout",
     "output_type": "stream",
     "text": [
      "--------------------------------------------------------------------------------\n",
      "DATALOADER:0 TEST RESULTS\n",
      "{'avg_test_acc': 0.7325215339660645,\n",
      " 'avg_test_loss': 1.305090069770813,\n",
      " 'test_acc': 0.7325000166893005,\n",
      " 'test_acc_epoch': 0.7325000166893005,\n",
      " 'test_loss': 1.305486798286438,\n",
      " 'test_loss_epoch': 1.305486798286438}\n",
      "--------------------------------------------------------------------------------\n"
     ]
    },
    {
     "data": {
      "text/plain": "[{'test_loss': 1.305486798286438,\n  'test_loss_epoch': 1.305486798286438,\n  'test_acc': 0.7325000166893005,\n  'test_acc_epoch': 0.7325000166893005,\n  'avg_test_loss': 1.305090069770813,\n  'avg_test_acc': 0.7325215339660645}]"
     },
     "execution_count": 10,
     "metadata": {},
     "output_type": "execute_result"
    }
   ],
   "source": [
    "from FashionMNISTLightningDataModule import FashionMNISTLightningDataModule\n",
    "from augmentation.augmentation import TRANSFORM_NAMES\n",
    "from FashionMNISTLightningModule import FashionMNISTLightningModule\n",
    "import pytorch_lightning as pl\n",
    "import os\n",
    "import torch\n",
    "\n",
    "batch_and_lr_multiplier = 5\n",
    "conf = {\n",
    "    \"progress_bar_refresh_rate\": 25,\n",
    "    \"layer_1_size\": 512,\n",
    "    \"layer_2_size\": 512,\n",
    "    \"lr\": 0.00001 * batch_and_lr_multiplier,\n",
    "    \"batch_size\": 32 * (2 ** batch_and_lr_multiplier),\n",
    "    \"data_dir\": \"./data\",\n",
    "    # Fashion mnist mean and std\n",
    "    \"data_mean\": 0.28604063391685486,\n",
    "    \"data_std\": 0.35302430391311646,\n",
    "    \"augmentations\": [],\n",
    "}\n",
    "\n",
    "model = FashionMNISTLightningModule.load_from_checkpoint(os.path.join(\"./data/FashionMNIST-pbt/train_mnist_tune_checkpoint_4752a_00000_0_2021-12-12_20-06-50/checkpoint_000014\", \"checkpoint\"), conf=conf)\n",
    "data = FashionMNISTLightningDataModule(conf=conf)\n",
    "\n",
    "trainer = pl.Trainer(\n",
    "    default_root_dir=\"./data\",\n",
    "    gpus=-1 if torch.cuda.device_count() > 0 else 0,\n",
    "    max_epochs=15,\n",
    "    progress_bar_refresh_rate=conf[\"progress_bar_refresh_rate\"],\n",
    "    num_sanity_val_steps=0,\n",
    "    # callbacks=[early_stopping]\n",
    ")\n",
    "\n",
    "\n",
    "# test (pass in the model)\n",
    "trainer.test(model, datamodule=data)"
   ]
  },
  {
   "cell_type": "code",
   "execution_count": null,
   "outputs": [],
   "source": [],
   "metadata": {
    "collapsed": false,
    "pycharm": {
     "name": "#%%\n"
    }
   }
  }
 ],
 "metadata": {
  "kernelspec": {
   "display_name": "Python 3 (ipykernel)",
   "language": "python",
   "name": "python3"
  },
  "language_info": {
   "codemirror_mode": {
    "name": "ipython",
    "version": 3
   },
   "file_extension": ".py",
   "mimetype": "text/x-python",
   "name": "python",
   "nbconvert_exporter": "python",
   "pygments_lexer": "ipython3",
   "version": "3.8.10"
  }
 },
 "nbformat": 4,
 "nbformat_minor": 4
}