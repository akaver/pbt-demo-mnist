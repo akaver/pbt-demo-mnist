{
 "cells": [
  {
   "cell_type": "code",
   "execution_count": 1,
   "metadata": {
    "tags": []
   },
   "outputs": [],
   "source": [
    "import sys\n",
    "import torch"
   ]
  },
  {
   "cell_type": "code",
   "execution_count": 2,
   "metadata": {
    "collapsed": false,
    "jupyter": {
     "outputs_hidden": false
    },
    "pycharm": {
     "name": "#%%\n"
    }
   },
   "outputs": [
    {
     "name": "stdout",
     "output_type": "stream",
     "text": [
      "Python version: 3.9.9 (main, Nov 21 2021, 03:16:13) \n",
      "[Clang 13.0.0 (clang-1300.0.29.3)]\n",
      "Pytorch version: 1.10.0\n",
      "cuda version: None\n",
      "cuda supported architectures []\n",
      "Cuda devices: 0\n"
     ]
    }
   ],
   "source": [
    "print(f\"Python version: {sys.version}\")\n",
    "print(f\"Pytorch version: {torch.__version__}\")\n",
    "\n",
    "print(f\"cuda version: {torch.version.cuda}\")\n",
    "print(f\"cuda supported architectures {torch.cuda.get_arch_list()}\")\n",
    "print(f\"Cuda devices: {torch.cuda.device_count()}\")\n",
    "\n",
    "for devNo in range(torch.cuda.device_count()):\n",
    "    print(f\"Cuda 0 device name: {torch.cuda.get_device_name(devNo)}\")\n",
    "    print(f\"Cuda 0 memory: {torch.cuda.get_device_properties(devNo).total_memory / 1024 / 1024 / 1000}\")\n",
    "    print(torch.cuda.get_device_properties(devNo))"
   ]
  },
  {
   "cell_type": "code",
   "execution_count": 3,
   "metadata": {
    "collapsed": false,
    "jupyter": {
     "outputs_hidden": false
    },
    "pycharm": {
     "name": "#%%\n"
    }
   },
   "outputs": [
    {
     "name": "stdout",
     "output_type": "stream",
     "text": [
      "Requirement already satisfied: pytorch-lightning in /Users/akaver/lib/python3.9/site-packages (1.5.3)\r\n",
      "Collecting pytorch-lightning\r\n",
      "  Downloading pytorch_lightning-1.5.4-py3-none-any.whl (524 kB)\r\n",
      "     |████████████████████████████████| 524 kB 2.2 MB/s            \r\n",
      "\u001B[?25hRequirement already satisfied: typing-extensions in /opt/homebrew/lib/python3.9/site-packages (from pytorch-lightning) (4.0.0)\r\n",
      "Requirement already satisfied: tensorboard>=2.2.0 in /Users/akaver/lib/python3.9/site-packages (from pytorch-lightning) (2.7.0)\r\n",
      "Requirement already satisfied: future>=0.17.1 in /Users/akaver/lib/python3.9/site-packages (from pytorch-lightning) (0.18.2)\r\n",
      "Requirement already satisfied: numpy>=1.17.2 in /opt/homebrew/lib/python3.9/site-packages (from pytorch-lightning) (1.21.4)\r\n",
      "Requirement already satisfied: torch>=1.7.* in /opt/homebrew/lib/python3.9/site-packages (from pytorch-lightning) (1.10.0)\r\n",
      "Requirement already satisfied: fsspec[http]!=2021.06.0,>=2021.05.0 in /Users/akaver/lib/python3.9/site-packages (from pytorch-lightning) (2021.11.0)\r\n",
      "Requirement already satisfied: torchmetrics>=0.4.1 in /Users/akaver/lib/python3.9/site-packages (from pytorch-lightning) (0.6.0)\r\n",
      "Requirement already satisfied: tqdm>=4.41.0 in /Users/akaver/lib/python3.9/site-packages (from pytorch-lightning) (4.62.3)\r\n",
      "Requirement already satisfied: pyDeprecate==0.3.1 in /Users/akaver/lib/python3.9/site-packages (from pytorch-lightning) (0.3.1)\r\n",
      "Requirement already satisfied: packaging>=17.0 in /opt/homebrew/lib/python3.9/site-packages (from pytorch-lightning) (21.3)\r\n",
      "Requirement already satisfied: PyYAML>=5.1 in /opt/homebrew/lib/python3.9/site-packages (from pytorch-lightning) (6.0)\r\n",
      "Requirement already satisfied: requests in /Users/akaver/lib/python3.9/site-packages (from fsspec[http]!=2021.06.0,>=2021.05.0->pytorch-lightning) (2.26.0)\r\n",
      "Requirement already satisfied: aiohttp in /Users/akaver/lib/python3.9/site-packages (from fsspec[http]!=2021.06.0,>=2021.05.0->pytorch-lightning) (3.8.1)\r\n",
      "Requirement already satisfied: pyparsing!=3.0.5,>=2.0.2 in /opt/homebrew/lib/python3.9/site-packages (from packaging>=17.0->pytorch-lightning) (3.0.6)\r\n",
      "Requirement already satisfied: absl-py>=0.4 in /Users/akaver/lib/python3.9/site-packages (from tensorboard>=2.2.0->pytorch-lightning) (1.0.0)\r\n",
      "Requirement already satisfied: tensorboard-data-server<0.7.0,>=0.6.0 in /Users/akaver/lib/python3.9/site-packages (from tensorboard>=2.2.0->pytorch-lightning) (0.6.1)\r\n",
      "Requirement already satisfied: wheel>=0.26 in /Users/akaver/lib/python3.9/site-packages (from tensorboard>=2.2.0->pytorch-lightning) (0.36.2)\r\n",
      "Requirement already satisfied: grpcio>=1.24.3 in /Users/akaver/lib/python3.9/site-packages (from tensorboard>=2.2.0->pytorch-lightning) (1.42.0)\r\n",
      "Requirement already satisfied: tensorboard-plugin-wit>=1.6.0 in /Users/akaver/lib/python3.9/site-packages (from tensorboard>=2.2.0->pytorch-lightning) (1.8.0)\r\n",
      "Requirement already satisfied: google-auth-oauthlib<0.5,>=0.4.1 in /Users/akaver/lib/python3.9/site-packages (from tensorboard>=2.2.0->pytorch-lightning) (0.4.6)\r\n",
      "Requirement already satisfied: google-auth<3,>=1.6.3 in /Users/akaver/lib/python3.9/site-packages (from tensorboard>=2.2.0->pytorch-lightning) (2.3.3)\r\n",
      "Requirement already satisfied: protobuf>=3.6.0 in /Users/akaver/lib/python3.9/site-packages (from tensorboard>=2.2.0->pytorch-lightning) (3.19.1)\r\n",
      "Requirement already satisfied: markdown>=2.6.8 in /opt/homebrew/lib/python3.9/site-packages (from tensorboard>=2.2.0->pytorch-lightning) (3.3.6)\r\n",
      "Requirement already satisfied: setuptools>=41.0.0 in /Users/akaver/lib/python3.9/site-packages (from tensorboard>=2.2.0->pytorch-lightning) (57.0.0)\r\n",
      "Requirement already satisfied: werkzeug>=0.11.15 in /Users/akaver/lib/python3.9/site-packages (from tensorboard>=2.2.0->pytorch-lightning) (2.0.2)\r\n",
      "Requirement already satisfied: six in /opt/homebrew/lib/python3.9/site-packages (from absl-py>=0.4->tensorboard>=2.2.0->pytorch-lightning) (1.16.0)\r\n",
      "Requirement already satisfied: pyasn1-modules>=0.2.1 in /Users/akaver/lib/python3.9/site-packages (from google-auth<3,>=1.6.3->tensorboard>=2.2.0->pytorch-lightning) (0.2.8)\r\n",
      "Requirement already satisfied: rsa<5,>=3.1.4 in /Users/akaver/lib/python3.9/site-packages (from google-auth<3,>=1.6.3->tensorboard>=2.2.0->pytorch-lightning) (4.8)\r\n",
      "Requirement already satisfied: cachetools<5.0,>=2.0.0 in /Users/akaver/lib/python3.9/site-packages (from google-auth<3,>=1.6.3->tensorboard>=2.2.0->pytorch-lightning) (4.2.4)\r\n",
      "Requirement already satisfied: requests-oauthlib>=0.7.0 in /Users/akaver/lib/python3.9/site-packages (from google-auth-oauthlib<0.5,>=0.4.1->tensorboard>=2.2.0->pytorch-lightning) (1.3.0)\r\n",
      "Requirement already satisfied: importlib-metadata>=4.4 in /opt/homebrew/lib/python3.9/site-packages (from markdown>=2.6.8->tensorboard>=2.2.0->pytorch-lightning) (4.8.2)\r\n",
      "Requirement already satisfied: urllib3<1.27,>=1.21.1 in /Users/akaver/lib/python3.9/site-packages (from requests->fsspec[http]!=2021.06.0,>=2021.05.0->pytorch-lightning) (1.26.7)\r\n",
      "Requirement already satisfied: idna<4,>=2.5 in /Users/akaver/lib/python3.9/site-packages (from requests->fsspec[http]!=2021.06.0,>=2021.05.0->pytorch-lightning) (3.3)\r\n",
      "Requirement already satisfied: certifi>=2017.4.17 in /Users/akaver/lib/python3.9/site-packages (from requests->fsspec[http]!=2021.06.0,>=2021.05.0->pytorch-lightning) (2021.10.8)\r\n",
      "Requirement already satisfied: charset-normalizer~=2.0.0 in /Users/akaver/lib/python3.9/site-packages (from requests->fsspec[http]!=2021.06.0,>=2021.05.0->pytorch-lightning) (2.0.7)\r\n",
      "Requirement already satisfied: attrs>=17.3.0 in /Users/akaver/lib/python3.9/site-packages (from aiohttp->fsspec[http]!=2021.06.0,>=2021.05.0->pytorch-lightning) (21.2.0)\r\n",
      "Requirement already satisfied: frozenlist>=1.1.1 in /Users/akaver/lib/python3.9/site-packages (from aiohttp->fsspec[http]!=2021.06.0,>=2021.05.0->pytorch-lightning) (1.2.0)\r\n",
      "Requirement already satisfied: aiosignal>=1.1.2 in /Users/akaver/lib/python3.9/site-packages (from aiohttp->fsspec[http]!=2021.06.0,>=2021.05.0->pytorch-lightning) (1.2.0)\r\n",
      "Requirement already satisfied: multidict<7.0,>=4.5 in /Users/akaver/lib/python3.9/site-packages (from aiohttp->fsspec[http]!=2021.06.0,>=2021.05.0->pytorch-lightning) (5.2.0)\r\n",
      "Requirement already satisfied: async-timeout<5.0,>=4.0.0a3 in /Users/akaver/lib/python3.9/site-packages (from aiohttp->fsspec[http]!=2021.06.0,>=2021.05.0->pytorch-lightning) (4.0.1)\r\n",
      "Requirement already satisfied: yarl<2.0,>=1.0 in /Users/akaver/lib/python3.9/site-packages (from aiohttp->fsspec[http]!=2021.06.0,>=2021.05.0->pytorch-lightning) (1.7.2)\r\n",
      "Requirement already satisfied: zipp>=0.5 in /opt/homebrew/lib/python3.9/site-packages (from importlib-metadata>=4.4->markdown>=2.6.8->tensorboard>=2.2.0->pytorch-lightning) (3.6.0)\r\n",
      "Requirement already satisfied: pyasn1<0.5.0,>=0.4.6 in /Users/akaver/lib/python3.9/site-packages (from pyasn1-modules>=0.2.1->google-auth<3,>=1.6.3->tensorboard>=2.2.0->pytorch-lightning) (0.4.8)\r\n",
      "Requirement already satisfied: oauthlib>=3.0.0 in /Users/akaver/lib/python3.9/site-packages (from requests-oauthlib>=0.7.0->google-auth-oauthlib<0.5,>=0.4.1->tensorboard>=2.2.0->pytorch-lightning) (3.1.1)\r\n",
      "Installing collected packages: pytorch-lightning\r\n",
      "  Attempting uninstall: pytorch-lightning\r\n",
      "    Found existing installation: pytorch-lightning 1.5.3\r\n",
      "    Uninstalling pytorch-lightning-1.5.3:\r\n",
      "      Successfully uninstalled pytorch-lightning-1.5.3\r\n",
      "Successfully installed pytorch-lightning-1.5.4\r\n"
     ]
    }
   ],
   "source": [
    "import sys\n",
    "!{sys.executable} -m pip install --upgrade pytorch-lightning"
   ]
  },
  {
   "cell_type": "code",
   "execution_count": null,
   "outputs": [],
   "source": [],
   "metadata": {
    "collapsed": false,
    "pycharm": {
     "name": "#%%\n"
    }
   }
  }
 ],
 "metadata": {
  "kernelspec": {
   "display_name": "Python 3 (ipykernel)",
   "language": "python",
   "name": "python3"
  },
  "language_info": {
   "codemirror_mode": {
    "name": "ipython",
    "version": 3
   },
   "file_extension": ".py",
   "mimetype": "text/x-python",
   "name": "python",
   "nbconvert_exporter": "python",
   "pygments_lexer": "ipython3",
   "version": "3.8.10"
  }
 },
 "nbformat": 4,
 "nbformat_minor": 4
}