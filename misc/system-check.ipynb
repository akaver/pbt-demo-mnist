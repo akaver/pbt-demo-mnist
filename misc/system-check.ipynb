{
 "cells": [
  {
   "cell_type": "code",
   "execution_count": 1,
   "metadata": {
    "tags": []
   },
   "outputs": [],
   "source": [
    "import sys\n",
    "import torch"
   ]
  },
  {
   "cell_type": "code",
   "execution_count": 2,
   "metadata": {
    "collapsed": false,
    "jupyter": {
     "outputs_hidden": false
    },
    "pycharm": {
     "name": "#%%\n"
    }
   },
   "outputs": [
    {
     "name": "stdout",
     "output_type": "stream",
     "text": [
      "Python version: 3.9.9 (main, Nov 21 2021, 03:16:13) \n",
      "[Clang 13.0.0 (clang-1300.0.29.3)]\n",
      "Pytorch version: 1.10.0\n",
      "cuda version: None\n",
      "cuda supported architectures []\n",
      "Cuda devices: 0\n"
     ]
    }
   ],
   "source": [
    "print(f\"Python version: {sys.version}\")\n",
    "print(f\"Pytorch version: {torch.__version__}\")\n",
    "\n",
    "print(f\"cuda version: {torch.version.cuda}\")\n",
    "print(f\"cuda supported architectures {torch.cuda.get_arch_list()}\")\n",
    "print(f\"Cuda devices: {torch.cuda.device_count()}\")\n",
    "\n",
    "for devNo in range(torch.cuda.device_count()):\n",
    "    print(f\"Cuda 0 device name: {torch.cuda.get_device_name(devNo)}\")\n",
    "    print(f\"Cuda 0 memory: {torch.cuda.get_device_properties(devNo).total_memory / 1024 / 1024 / 1000}\")\n",
    "    print(torch.cuda.get_device_properties(devNo))"
   ]
  },
  {
   "cell_type": "code",
   "execution_count": 3,
   "metadata": {
    "collapsed": false,
    "jupyter": {
     "outputs_hidden": false
    },
    "pycharm": {
     "name": "#%%\n"
    }
   },
   "outputs": [
    {
     "name": "stdout",
     "output_type": "stream",
     "text": [
      "Requirement already satisfied: pytorch-lightning in /Users/akaver/lib/python3.9/site-packages (1.5.3)\r\n",
      "Collecting pytorch-lightning\r\n",
      "  Downloading pytorch_lightning-1.5.4-py3-none-any.whl (524 kB)\r\n",
      "     |████████████████████████████████| 524 kB 2.2 MB/s            \r\n",
      "\u001B[?25hRequirement already satisfied: typing-extensions in /opt/homebrew/lib/python3.9/site-packages (from pytorch-lightning) (4.0.0)\r\n",
      "Requirement already satisfied: tensorboard>=2.2.0 in /Users/akaver/lib/python3.9/site-packages (from pytorch-lightning) (2.7.0)\r\n",
      "Requirement already satisfied: future>=0.17.1 in /Users/akaver/lib/python3.9/site-packages (from pytorch-lightning) (0.18.2)\r\n",
      "Requirement already satisfied: numpy>=1.17.2 in /opt/homebrew/lib/python3.9/site-packages (from pytorch-lightning) (1.21.4)\r\n",
      "Requirement already satisfied: torch>=1.7.* in /opt/homebrew/lib/python3.9/site-packages (from pytorch-lightning) (1.10.0)\r\n",
      "Requirement already satisfied: fsspec[http]!=2021.06.0,>=2021.05.0 in /Users/akaver/lib/python3.9/site-packages (from pytorch-lightning) (2021.11.0)\r\n",
      "Requirement already satisfied: torchmetrics>=0.4.1 in /Users/akaver/lib/python3.9/site-packages (from pytorch-lightning) (0.6.0)\r\n",
      "Requirement already satisfied: tqdm>=4.41.0 in /Users/akaver/lib/python3.9/site-packages (from pytorch-lightning) (4.62.3)\r\n",
      "Requirement already satisfied: pyDeprecate==0.3.1 in /Users/akaver/lib/python3.9/site-packages (from pytorch-lightning) (0.3.1)\r\n",
      "Requirement already satisfied: packaging>=17.0 in /opt/homebrew/lib/python3.9/site-packages (from pytorch-lightning) (21.3)\r\n",
      "Requirement already satisfied: PyYAML>=5.1 in /opt/homebrew/lib/python3.9/site-packages (from pytorch-lightning) (6.0)\r\n",
      "Requirement already satisfied: requests in /Users/akaver/lib/python3.9/site-packages (from fsspec[http]!=2021.06.0,>=2021.05.0->pytorch-lightning) (2.26.0)\r\n",
      "Requirement already satisfied: aiohttp in /Users/akaver/lib/python3.9/site-packages (from fsspec[http]!=2021.06.0,>=2021.05.0->pytorch-lightning) (3.8.1)\r\n",
      "Requirement already satisfied: pyparsing!=3.0.5,>=2.0.2 in /opt/homebrew/lib/python3.9/site-packages (from packaging>=17.0->pytorch-lightning) (3.0.6)\r\n",
      "Requirement already satisfied: absl-py>=0.4 in /Users/akaver/lib/python3.9/site-packages (from tensorboard>=2.2.0->pytorch-lightning) (1.0.0)\r\n",
      "Requirement already satisfied: tensorboard-data-server<0.7.0,>=0.6.0 in /Users/akaver/lib/python3.9/site-packages (from tensorboard>=2.2.0->pytorch-lightning) (0.6.1)\r\n",
      "Requirement already satisfied: wheel>=0.26 in /Users/akaver/lib/python3.9/site-packages (from tensorboard>=2.2.0->pytorch-lightning) (0.36.2)\r\n",
      "Requirement already satisfied: grpcio>=1.24.3 in /Users/akaver/lib/python3.9/site-packages (from tensorboard>=2.2.0->pytorch-lightning) (1.42.0)\r\n",
      "Requirement already satisfied: tensorboard-plugin-wit>=1.6.0 in /Users/akaver/lib/python3.9/site-packages (from tensorboard>=2.2.0->pytorch-lightning) (1.8.0)\r\n",
      "Requirement already satisfied: google-auth-oauthlib<0.5,>=0.4.1 in /Users/akaver/lib/python3.9/site-packages (from tensorboard>=2.2.0->pytorch-lightning) (0.4.6)\r\n",
      "Requirement already satisfied: google-auth<3,>=1.6.3 in /Users/akaver/lib/python3.9/site-packages (from tensorboard>=2.2.0->pytorch-lightning) (2.3.3)\r\n",
      "Requirement already satisfied: protobuf>=3.6.0 in /Users/akaver/lib/python3.9/site-packages (from tensorboard>=2.2.0->pytorch-lightning) (3.19.1)\r\n",
      "Requirement already satisfied: markdown>=2.6.8 in /opt/homebrew/lib/python3.9/site-packages (from tensorboard>=2.2.0->pytorch-lightning) (3.3.6)\r\n",
      "Requirement already satisfied: setuptools>=41.0.0 in /Users/akaver/lib/python3.9/site-packages (from tensorboard>=2.2.0->pytorch-lightning) (57.0.0)\r\n",
      "Requirement already satisfied: werkzeug>=0.11.15 in /Users/akaver/lib/python3.9/site-packages (from tensorboard>=2.2.0->pytorch-lightning) (2.0.2)\r\n",
      "Requirement already satisfied: six in /opt/homebrew/lib/python3.9/site-packages (from absl-py>=0.4->tensorboard>=2.2.0->pytorch-lightning) (1.16.0)\r\n",
      "Requirement already satisfied: pyasn1-modules>=0.2.1 in /Users/akaver/lib/python3.9/site-packages (from google-auth<3,>=1.6.3->tensorboard>=2.2.0->pytorch-lightning) (0.2.8)\r\n",
      "Requirement already satisfied: rsa<5,>=3.1.4 in /Users/akaver/lib/python3.9/site-packages (from google-auth<3,>=1.6.3->tensorboard>=2.2.0->pytorch-lightning) (4.8)\r\n",
      "Requirement already satisfied: cachetools<5.0,>=2.0.0 in /Users/akaver/lib/python3.9/site-packages (from google-auth<3,>=1.6.3->tensorboard>=2.2.0->pytorch-lightning) (4.2.4)\r\n",
      "Requirement already satisfied: requests-oauthlib>=0.7.0 in /Users/akaver/lib/python3.9/site-packages (from google-auth-oauthlib<0.5,>=0.4.1->tensorboard>=2.2.0->pytorch-lightning) (1.3.0)\r\n",
      "Requirement already satisfied: importlib-metadata>=4.4 in /opt/homebrew/lib/python3.9/site-packages (from markdown>=2.6.8->tensorboard>=2.2.0->pytorch-lightning) (4.8.2)\r\n",
      "Requirement already satisfied: urllib3<1.27,>=1.21.1 in /Users/akaver/lib/python3.9/site-packages (from requests->fsspec[http]!=2021.06.0,>=2021.05.0->pytorch-lightning) (1.26.7)\r\n",
      "Requirement already satisfied: idna<4,>=2.5 in /Users/akaver/lib/python3.9/site-packages (from requests->fsspec[http]!=2021.06.0,>=2021.05.0->pytorch-lightning) (3.3)\r\n",
      "Requirement already satisfied: certifi>=2017.4.17 in /Users/akaver/lib/python3.9/site-packages (from requests->fsspec[http]!=2021.06.0,>=2021.05.0->pytorch-lightning) (2021.10.8)\r\n",
      "Requirement already satisfied: charset-normalizer~=2.0.0 in /Users/akaver/lib/python3.9/site-packages (from requests->fsspec[http]!=2021.06.0,>=2021.05.0->pytorch-lightning) (2.0.7)\r\n",
      "Requirement already satisfied: attrs>=17.3.0 in /Users/akaver/lib/python3.9/site-packages (from aiohttp->fsspec[http]!=2021.06.0,>=2021.05.0->pytorch-lightning) (21.2.0)\r\n",
      "Requirement already satisfied: frozenlist>=1.1.1 in /Users/akaver/lib/python3.9/site-packages (from aiohttp->fsspec[http]!=2021.06.0,>=2021.05.0->pytorch-lightning) (1.2.0)\r\n",
      "Requirement already satisfied: aiosignal>=1.1.2 in /Users/akaver/lib/python3.9/site-packages (from aiohttp->fsspec[http]!=2021.06.0,>=2021.05.0->pytorch-lightning) (1.2.0)\r\n",
      "Requirement already satisfied: multidict<7.0,>=4.5 in /Users/akaver/lib/python3.9/site-packages (from aiohttp->fsspec[http]!=2021.06.0,>=2021.05.0->pytorch-lightning) (5.2.0)\r\n",
      "Requirement already satisfied: async-timeout<5.0,>=4.0.0a3 in /Users/akaver/lib/python3.9/site-packages (from aiohttp->fsspec[http]!=2021.06.0,>=2021.05.0->pytorch-lightning) (4.0.1)\r\n",
      "Requirement already satisfied: yarl<2.0,>=1.0 in /Users/akaver/lib/python3.9/site-packages (from aiohttp->fsspec[http]!=2021.06.0,>=2021.05.0->pytorch-lightning) (1.7.2)\r\n",
      "Requirement already satisfied: zipp>=0.5 in /opt/homebrew/lib/python3.9/site-packages (from importlib-metadata>=4.4->markdown>=2.6.8->tensorboard>=2.2.0->pytorch-lightning) (3.6.0)\r\n",
      "Requirement already satisfied: pyasn1<0.5.0,>=0.4.6 in /Users/akaver/lib/python3.9/site-packages (from pyasn1-modules>=0.2.1->google-auth<3,>=1.6.3->tensorboard>=2.2.0->pytorch-lightning) (0.4.8)\r\n",
      "Requirement already satisfied: oauthlib>=3.0.0 in /Users/akaver/lib/python3.9/site-packages (from requests-oauthlib>=0.7.0->google-auth-oauthlib<0.5,>=0.4.1->tensorboard>=2.2.0->pytorch-lightning) (3.1.1)\r\n",
      "Installing collected packages: pytorch-lightning\r\n",
      "  Attempting uninstall: pytorch-lightning\r\n",
      "    Found existing installation: pytorch-lightning 1.5.3\r\n",
      "    Uninstalling pytorch-lightning-1.5.3:\r\n",
      "      Successfully uninstalled pytorch-lightning-1.5.3\r\n",
      "Successfully installed pytorch-lightning-1.5.4\r\n"
     ]
    }
   ],
   "source": [
    "import sys\n",
    "!{sys.executable} -m pip install --upgrade pytorch-lightning"
   ]
  },
  {
   "cell_type": "code",
   "execution_count": 2,
   "outputs": [
    {
     "name": "stdout",
     "output_type": "stream",
     "text": [
      "absl-py==1.0.0\r\n",
      "aiohttp==3.8.1\r\n",
      "aiosignal==1.2.0\r\n",
      "appnope==0.1.2\r\n",
      "argon2-cffi==21.1.0\r\n",
      "async-timeout==4.0.1\r\n",
      "attrs==21.2.0\r\n",
      "backcall==0.2.0\r\n",
      "bleach==4.1.0\r\n",
      "cachetools==4.2.4\r\n",
      "certifi==2021.10.8\r\n",
      "cffi==1.15.0\r\n",
      "charset-normalizer==2.0.7\r\n",
      "click==8.0.3\r\n",
      "cycler==0.11.0\r\n",
      "debugpy==1.5.1\r\n",
      "decorator==5.1.0\r\n",
      "defusedxml==0.7.1\r\n",
      "Deprecated==1.2.13\r\n",
      "entrypoints==0.3\r\n",
      "filelock==3.4.0\r\n",
      "fonttools==4.28.2\r\n",
      "frozenlist==1.2.0\r\n",
      "fsspec==2021.11.0\r\n",
      "future==0.18.2\r\n",
      "ghp-import==2.0.2\r\n",
      "google-auth==2.3.3\r\n",
      "google-auth-oauthlib==0.4.6\r\n",
      "grpcio==1.42.0\r\n",
      "idna==3.3\r\n",
      "importlib-metadata==4.8.2\r\n",
      "ipykernel==6.5.1\r\n",
      "ipython==7.29.0\r\n",
      "ipython-genutils==0.2.0\r\n",
      "ipywidgets==7.6.5\r\n",
      "jedi==0.18.1\r\n",
      "Jinja2==3.0.3\r\n",
      "jsonschema==4.2.1\r\n",
      "jupyter==1.0.0\r\n",
      "jupyter-client==7.1.0\r\n",
      "jupyter-console==6.4.0\r\n",
      "jupyter-core==4.9.1\r\n",
      "jupyterlab-pygments==0.1.2\r\n",
      "jupyterlab-widgets==1.0.2\r\n",
      "kiwisolver==1.3.2\r\n",
      "Markdown==3.3.6\r\n",
      "MarkupSafe==2.0.1\r\n",
      "matplotlib==3.5.0\r\n",
      "matplotlib-inline==0.1.3\r\n",
      "mergedeep==1.3.4\r\n",
      "mistune==0.8.4\r\n",
      "mkdocs==1.2.3\r\n",
      "mkdocs-material==7.3.6\r\n",
      "mkdocs-material-extensions==1.0.3\r\n",
      "msgpack==1.0.3\r\n",
      "multidict==5.2.0\r\n",
      "nbclient==0.5.9\r\n",
      "nbconvert==6.3.0\r\n",
      "nbformat==5.1.3\r\n",
      "nest-asyncio==1.5.1\r\n",
      "notebook==6.4.6\r\n",
      "numpy==1.21.4\r\n",
      "oauthlib==3.1.1\r\n",
      "packaging==21.3\r\n",
      "pandas==1.3.4\r\n",
      "pandocfilters==1.5.0\r\n",
      "parso==0.8.2\r\n",
      "pexpect==4.8.0\r\n",
      "pickleshare==0.7.5\r\n",
      "Pillow==8.4.0\r\n",
      "prometheus-client==0.12.0\r\n",
      "prompt-toolkit==3.0.22\r\n",
      "protobuf==3.19.1\r\n",
      "ptyprocess==0.7.0\r\n",
      "pyasn1==0.4.8\r\n",
      "pyasn1-modules==0.2.8\r\n",
      "pycparser==2.21\r\n",
      "pyDeprecate==0.3.1\r\n",
      "Pygments==2.10.0\r\n",
      "pymdown-extensions==9.1\r\n",
      "pyparsing==3.0.6\r\n",
      "pyrsistent==0.18.0\r\n",
      "python-dateutil==2.8.2\r\n",
      "pytorch-lightning==1.5.4\r\n",
      "pytz==2021.3\r\n",
      "PyYAML==6.0\r\n",
      "pyyaml_env_tag==0.1\r\n",
      "pyzmq==22.3.0\r\n",
      "qtconsole==5.2.1\r\n",
      "QtPy==1.11.2\r\n",
      "ray==1.8.0\r\n",
      "redis==4.0.2\r\n",
      "requests==2.26.0\r\n",
      "requests-oauthlib==1.3.0\r\n",
      "rsa==4.8\r\n",
      "Send2Trash==1.8.0\r\n",
      "setuptools-scm==6.3.2\r\n",
      "six==1.16.0\r\n",
      "tabulate==0.8.9\r\n",
      "tensorboard==2.7.0\r\n",
      "tensorboard-data-server==0.6.1\r\n",
      "tensorboard-plugin-wit==1.8.0\r\n",
      "tensorboardX==2.4.1\r\n",
      "terminado==0.12.1\r\n",
      "testpath==0.5.0\r\n",
      "tomli==1.2.2\r\n",
      "torch==1.10.0\r\n",
      "torchaudio==0.9.1\r\n",
      "torchmetrics==0.6.0\r\n",
      "torchvision==0.10.0\r\n",
      "tornado==6.1\r\n",
      "tqdm==4.62.3\r\n",
      "traitlets==5.1.1\r\n",
      "typing_extensions==4.0.0\r\n",
      "urllib3==1.26.7\r\n",
      "watchdog==2.1.6\r\n",
      "wcwidth==0.2.5\r\n",
      "webencodings==0.5.1\r\n",
      "Werkzeug==2.0.2\r\n",
      "widgetsnbextension==3.5.2\r\n",
      "wrapt==1.13.3\r\n",
      "yarl==1.7.2\r\n",
      "zipp==3.6.0\r\n"
     ]
    }
   ],
   "source": [
    "import sys\n",
    "!{sys.executable} -m pip freeze"
   ],
   "metadata": {
    "collapsed": false,
    "pycharm": {
     "name": "#%%\n"
    }
   }
  },
  {
   "cell_type": "code",
   "execution_count": null,
   "outputs": [],
   "source": [],
   "metadata": {
    "collapsed": false,
    "pycharm": {
     "name": "#%%\n"
    }
   }
  }
 ],
 "metadata": {
  "kernelspec": {
   "display_name": "Python 3 (ipykernel)",
   "language": "python",
   "name": "python3"
  },
  "language_info": {
   "codemirror_mode": {
    "name": "ipython",
    "version": 3
   },
   "file_extension": ".py",
   "mimetype": "text/x-python",
   "name": "python",
   "nbconvert_exporter": "python",
   "pygments_lexer": "ipython3",
   "version": "3.8.10"
  }
 },
 "nbformat": 4,
 "nbformat_minor": 4
}