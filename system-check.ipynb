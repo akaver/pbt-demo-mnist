{
 "cells": [
  {
   "cell_type": "code",
   "execution_count": 1,
   "metadata": {
    "collapsed": true,
    "trusted": false
   },
   "outputs": [],
   "source": "import sys\nimport torch"
  },
  {
   "cell_type": "code",
   "execution_count": 2,
   "outputs": [
    {
     "name": "stdout",
     "output_type": "stream",
     "text": [
      "Python version: 3.8.10 (default, Jun  2 2021, 10:49:15) \n",
      "[GCC 9.4.0]\n",
      "Pytorch version: 1.9.0+cu111\n",
      "cuda version: 11.1\n",
      "cuda supported architectures ['sm_37', 'sm_50', 'sm_60', 'sm_70', 'sm_75', 'sm_80', 'sm_86']\n",
      "Cuda devices: 1\n",
      "Cuda 0 device name: NVIDIA GeForce RTX 3090\n",
      "Cuda 0 memory: 25.447170048\n"
     ]
    }
   ],
   "source": "print(f\"Python version: {sys.version}\")\nprint(f\"Pytorch version: {torch.__version__}\")\n\nprint(f\"cuda version: {torch.version.cuda}\")\nprint(f\"cuda supported architectures {torch.cuda.get_arch_list()}\")\nprint(f\"Cuda devices: {torch.cuda.device_count()}\")\n\nfor devNo in range(torch.cuda.device_count()):\n    print(f\"Cuda 0 device name: {torch.cuda.get_device_name(devNo)}\")\n    print(f\"Cuda 0 memory: {torch.cuda.get_device_properties(devNo).total_memory / 1000 / 1000 / 1000}\")",
   "metadata": {
    "collapsed": false,
    "pycharm": {
     "name": "#%%\n"
    },
    "trusted": false
   }
  }
 ],
 "metadata": {
  "kernelspec": {
   "display_name": "Python 3",
   "language": "python",
   "name": "python3"
  },
  "language_info": {
   "codemirror_mode": {
    "name": "ipython",
    "version": 2
   },
   "file_extension": ".py",
   "mimetype": "text/x-python",
   "name": "python",
   "nbconvert_exporter": "python",
   "pygments_lexer": "ipython2",
   "version": "2.7.6"
  }
 },
 "nbformat": 4,
 "nbformat_minor": 0
}