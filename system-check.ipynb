{
 "cells": [
  {
   "cell_type": "code",
   "execution_count": 1,
   "metadata": {
    "tags": []
   },
   "outputs": [],
   "source": [
    "import sys\n",
    "import torch"
   ]
  },
  {
   "cell_type": "code",
   "execution_count": 2,
   "metadata": {
    "collapsed": false,
    "jupyter": {
     "outputs_hidden": false
    },
    "pycharm": {
     "name": "#%%\n"
    }
   },
   "outputs": [
    {
     "name": "stdout",
     "output_type": "stream",
     "text": [
      "Python version: 3.8.10 (default, Sep 28 2021, 16:10:42) \n",
      "[GCC 9.3.0]\n",
      "Pytorch version: 1.9.0+cu111\n",
      "cuda version: 11.1\n",
      "cuda supported architectures ['sm_37', 'sm_50', 'sm_60', 'sm_70', 'sm_75', 'sm_80', 'sm_86']\n",
      "Cuda devices: 1\n",
      "Cuda 0 device name: NVIDIA GeForce RTX 3090\n",
      "Cuda 0 memory: 24.2683125\n",
      "_CudaDeviceProperties(name='NVIDIA GeForce RTX 3090', major=8, minor=6, total_memory=24268MB, multi_processor_count=82)\n"
     ]
    }
   ],
   "source": [
    "print(f\"Python version: {sys.version}\")\n",
    "print(f\"Pytorch version: {torch.__version__}\")\n",
    "\n",
    "print(f\"cuda version: {torch.version.cuda}\")\n",
    "print(f\"cuda supported architectures {torch.cuda.get_arch_list()}\")\n",
    "print(f\"Cuda devices: {torch.cuda.device_count()}\")\n",
    "\n",
    "for devNo in range(torch.cuda.device_count()):\n",
    "    print(f\"Cuda 0 device name: {torch.cuda.get_device_name(devNo)}\")\n",
    "    print(f\"Cuda 0 memory: {torch.cuda.get_device_properties(devNo).total_memory / 1024 / 1024 / 1000}\")\n",
    "    print(torch.cuda.get_device_properties(devNo))"
   ]
  },
  {
   "cell_type": "code",
   "execution_count": null,
   "metadata": {
    "collapsed": false,
    "jupyter": {
     "outputs_hidden": false
    },
    "pycharm": {
     "name": "#%%\n"
    }
   },
   "outputs": [],
   "source": []
  }
 ],
 "metadata": {
  "kernelspec": {
   "display_name": "Python 3 (ipykernel)",
   "language": "python",
   "name": "python3"
  },
  "language_info": {
   "codemirror_mode": {
    "name": "ipython",
    "version": 3
   },
   "file_extension": ".py",
   "mimetype": "text/x-python",
   "name": "python",
   "nbconvert_exporter": "python",
   "pygments_lexer": "ipython3",
   "version": "3.8.10"
  }
 },
 "nbformat": 4,
 "nbformat_minor": 4
}