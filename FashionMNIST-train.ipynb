{
 "cells": [
  {
   "cell_type": "markdown",
   "source": [
    "Direct Pytorch Lightning training, using dataloader with augmentations and custom LightningFashionMNIST classifier"
   ],
   "metadata": {
    "collapsed": false,
    "pycharm": {
     "name": "#%% md\n"
    }
   }
  },
  {
   "cell_type": "code",
   "execution_count": 8,
   "outputs": [],
   "source": [
    "# https://ipython.readthedocs.io/en/stable/config/extensions/autoreload.html\n",
    "%load_ext autoreload\n",
    "%autoreload 2"
   ],
   "metadata": {
    "collapsed": false,
    "pycharm": {
     "name": "#%%\n"
    }
   }
  },
  {
   "cell_type": "code",
   "metadata": {
    "collapsed": false,
    "jupyter": {
     "outputs_hidden": false
    },
    "pycharm": {
     "name": "#%%\n"
    }
   },
   "source": [
    "import os\n",
    "import logging\n",
    "import math\n",
    "from filelock import FileLock\n",
    "import random\n",
    "import sys\n",
    "import time\n",
    "\n",
    "# __import_lightning_begin__\n",
    "import torch\n",
    "import pytorch_lightning as pl\n",
    "from torch.utils.data import DataLoader, random_split\n",
    "from torch.nn import functional as F\n",
    "from torchvision.datasets import FashionMNIST\n",
    "from torchvision import transforms\n",
    "# __import_lightning_end__\n",
    "\n",
    "from helpers import utils\n",
    "from FashionMNISTLightningDataModule import FashionMNISTLightningDataModule\n",
    "from augmentation.augmentation import TRANSFORM_NAMES\n",
    "from FashionMNISTLightningModule import FashionMNISTLightningModule\n",
    "\n",
    "log = logging.getLogger('App')\n",
    "logging.basicConfig(level=logging.INFO)"
   ],
   "execution_count": 20,
   "outputs": []
  },
  {
   "cell_type": "code",
   "execution_count": 21,
   "metadata": {
    "collapsed": false,
    "jupyter": {
     "outputs_hidden": false
    },
    "pycharm": {
     "name": "#%%\n"
    }
   },
   "outputs": [
    {
     "name": "stderr",
     "output_type": "stream",
     "text": [
      "INFO:App:Starting...\n",
      "INFO:App:Conf {'progress_bar_refresh_rate': 25, 'layer_1_size': 512, 'layer_2_size': 512, 'lr': 0.0005, 'batch_size': 1024, 'data_dir': './data', 'data_mean': 0.28604063391685486, 'data_std': 0.35302430391311646, 'augmentations': [('blur', 0), ('rotate_left', 0), ('rotate_right', 0)]}\n",
      "INFO:FashionMNISTLightningDataModule:batch_size: 1024. num_workers: 10. data_dir: ./data.\n",
      "GPU available: False, used: False\n",
      "TPU available: False, using: 0 TPU cores\n",
      "IPU available: False, using: 0 IPUs\n",
      "\n",
      "  | Name    | Type   | Params\n",
      "-----------------------------------\n",
      "0 | layer_1 | Linear | 401 K \n",
      "1 | layer_2 | Linear | 262 K \n",
      "2 | layer_3 | Linear | 5.1 K \n",
      "-----------------------------------\n",
      "669 K     Trainable params\n",
      "0         Non-trainable params\n",
      "669 K     Total params\n",
      "2.679     Total estimated model params size (MB)\n"
     ]
    },
    {
     "data": {
      "text/plain": "Training: 0it [00:00, ?it/s]",
      "application/vnd.jupyter.widget-view+json": {
       "version_major": 2,
       "version_minor": 0,
       "model_id": "855408b81601473da6bb719a5bae7034"
      }
     },
     "metadata": {},
     "output_type": "display_data"
    },
    {
     "data": {
      "text/plain": "Validating: 0it [00:00, ?it/s]",
      "application/vnd.jupyter.widget-view+json": {
       "version_major": 2,
       "version_minor": 0,
       "model_id": "3c09d63ee92b4cd5aa6952cd528f0b18"
      }
     },
     "metadata": {},
     "output_type": "display_data"
    },
    {
     "name": "stderr",
     "output_type": "stream",
     "text": [
      "Metric avg_val_loss improved. New best score: 0.452\n"
     ]
    },
    {
     "data": {
      "text/plain": "Validating: 0it [00:00, ?it/s]",
      "application/vnd.jupyter.widget-view+json": {
       "version_major": 2,
       "version_minor": 0,
       "model_id": "2010bea4adc544bb8591893bd1ac4290"
      }
     },
     "metadata": {},
     "output_type": "display_data"
    },
    {
     "name": "stderr",
     "output_type": "stream",
     "text": [
      "Metric avg_val_loss improved by 0.062 >= min_delta = 0.0. New best score: 0.390\n"
     ]
    },
    {
     "data": {
      "text/plain": "Validating: 0it [00:00, ?it/s]",
      "application/vnd.jupyter.widget-view+json": {
       "version_major": 2,
       "version_minor": 0,
       "model_id": "f4faab156f0f4763a923a5ab0339c8a0"
      }
     },
     "metadata": {},
     "output_type": "display_data"
    },
    {
     "name": "stderr",
     "output_type": "stream",
     "text": [
      "Metric avg_val_loss improved by 0.020 >= min_delta = 0.0. New best score: 0.370\n"
     ]
    },
    {
     "data": {
      "text/plain": "Validating: 0it [00:00, ?it/s]",
      "application/vnd.jupyter.widget-view+json": {
       "version_major": 2,
       "version_minor": 0,
       "model_id": "5b62ab1396a44ceab0d86951e6076ec8"
      }
     },
     "metadata": {},
     "output_type": "display_data"
    },
    {
     "name": "stderr",
     "output_type": "stream",
     "text": [
      "Metric avg_val_loss improved by 0.008 >= min_delta = 0.0. New best score: 0.362\n"
     ]
    },
    {
     "data": {
      "text/plain": "Validating: 0it [00:00, ?it/s]",
      "application/vnd.jupyter.widget-view+json": {
       "version_major": 2,
       "version_minor": 0,
       "model_id": "b62f91338ab44098ba284e8d22f3da11"
      }
     },
     "metadata": {},
     "output_type": "display_data"
    },
    {
     "name": "stderr",
     "output_type": "stream",
     "text": [
      "Metric avg_val_loss improved by 0.038 >= min_delta = 0.0. New best score: 0.323\n"
     ]
    },
    {
     "data": {
      "text/plain": "Validating: 0it [00:00, ?it/s]",
      "application/vnd.jupyter.widget-view+json": {
       "version_major": 2,
       "version_minor": 0,
       "model_id": "b57519b3d4f74ce3845a8e2713bb9103"
      }
     },
     "metadata": {},
     "output_type": "display_data"
    },
    {
     "name": "stderr",
     "output_type": "stream",
     "text": [
      "Metric avg_val_loss improved by 0.009 >= min_delta = 0.0. New best score: 0.314\n"
     ]
    },
    {
     "data": {
      "text/plain": "Validating: 0it [00:00, ?it/s]",
      "application/vnd.jupyter.widget-view+json": {
       "version_major": 2,
       "version_minor": 0,
       "model_id": "4db3a533f1bd45cc93ee2739e4ee22fa"
      }
     },
     "metadata": {},
     "output_type": "display_data"
    },
    {
     "name": "stderr",
     "output_type": "stream",
     "text": [
      "Metric avg_val_loss improved by 0.007 >= min_delta = 0.0. New best score: 0.308\n"
     ]
    },
    {
     "data": {
      "text/plain": "Validating: 0it [00:00, ?it/s]",
      "application/vnd.jupyter.widget-view+json": {
       "version_major": 2,
       "version_minor": 0,
       "model_id": "391d6f251a7843088ca6fcffbef0ab93"
      }
     },
     "metadata": {},
     "output_type": "display_data"
    },
    {
     "name": "stderr",
     "output_type": "stream",
     "text": [
      "Metric avg_val_loss improved by 0.009 >= min_delta = 0.0. New best score: 0.299\n"
     ]
    },
    {
     "data": {
      "text/plain": "Validating: 0it [00:00, ?it/s]",
      "application/vnd.jupyter.widget-view+json": {
       "version_major": 2,
       "version_minor": 0,
       "model_id": "10babdcecc9a41e8bf08c9a2f91d4af4"
      }
     },
     "metadata": {},
     "output_type": "display_data"
    },
    {
     "name": "stderr",
     "output_type": "stream",
     "text": [
      "Metric avg_val_loss improved by 0.004 >= min_delta = 0.0. New best score: 0.295\n"
     ]
    },
    {
     "data": {
      "text/plain": "Validating: 0it [00:00, ?it/s]",
      "application/vnd.jupyter.widget-view+json": {
       "version_major": 2,
       "version_minor": 0,
       "model_id": "9958828d43d54da7b555ecde9126433f"
      }
     },
     "metadata": {},
     "output_type": "display_data"
    },
    {
     "name": "stderr",
     "output_type": "stream",
     "text": [
      "Metric avg_val_loss improved by 0.001 >= min_delta = 0.0. New best score: 0.293\n"
     ]
    },
    {
     "data": {
      "text/plain": "Validating: 0it [00:00, ?it/s]",
      "application/vnd.jupyter.widget-view+json": {
       "version_major": 2,
       "version_minor": 0,
       "model_id": "6476ceff668048208eaf458dc690194d"
      }
     },
     "metadata": {},
     "output_type": "display_data"
    },
    {
     "name": "stderr",
     "output_type": "stream",
     "text": [
      "Metric avg_val_loss improved by 0.003 >= min_delta = 0.0. New best score: 0.290\n"
     ]
    },
    {
     "data": {
      "text/plain": "Validating: 0it [00:00, ?it/s]",
      "application/vnd.jupyter.widget-view+json": {
       "version_major": 2,
       "version_minor": 0,
       "model_id": "84810c00cd9646a9a209fa35966f262c"
      }
     },
     "metadata": {},
     "output_type": "display_data"
    },
    {
     "name": "stderr",
     "output_type": "stream",
     "text": [
      "Metric avg_val_loss improved by 0.002 >= min_delta = 0.0. New best score: 0.288\n"
     ]
    },
    {
     "data": {
      "text/plain": "Validating: 0it [00:00, ?it/s]",
      "application/vnd.jupyter.widget-view+json": {
       "version_major": 2,
       "version_minor": 0,
       "model_id": "234904c38afa471ab1c5cfbc01d59b20"
      }
     },
     "metadata": {},
     "output_type": "display_data"
    },
    {
     "data": {
      "text/plain": "Validating: 0it [00:00, ?it/s]",
      "application/vnd.jupyter.widget-view+json": {
       "version_major": 2,
       "version_minor": 0,
       "model_id": "e3048f60cf7340a798945c9b94b37f6c"
      }
     },
     "metadata": {},
     "output_type": "display_data"
    },
    {
     "data": {
      "text/plain": "Validating: 0it [00:00, ?it/s]",
      "application/vnd.jupyter.widget-view+json": {
       "version_major": 2,
       "version_minor": 0,
       "model_id": "808f0be3423645538201d33f4d3d557c"
      }
     },
     "metadata": {},
     "output_type": "display_data"
    },
    {
     "name": "stderr",
     "output_type": "stream",
     "text": [
      "Monitored metric avg_val_loss did not improve in the last 3 records. Best score: 0.288. Signaling Trainer to stop.\n"
     ]
    },
    {
     "name": "stdout",
     "output_type": "stream",
     "text": [
      "--- 180.2996962070465 seconds ---\n"
     ]
    },
    {
     "data": {
      "text/plain": "Testing: 0it [00:00, ?it/s]",
      "application/vnd.jupyter.widget-view+json": {
       "version_major": 2,
       "version_minor": 0,
       "model_id": "bc7cd4a98ad445ae8fe9ac1011d6f2ba"
      }
     },
     "metadata": {},
     "output_type": "display_data"
    },
    {
     "name": "stdout",
     "output_type": "stream",
     "text": [
      "--------------------------------------------------------------------------------\n",
      "DATALOADER:0 TEST RESULTS\n",
      "{'avg_test_acc': 0.7705576419830322,\n",
      " 'avg_test_loss': 1.0802701711654663,\n",
      " 'test_acc': 0.7705000042915344,\n",
      " 'test_acc_epoch': 0.7705000042915344,\n",
      " 'test_loss': 1.0809059143066406,\n",
      " 'test_loss_epoch': 1.0809059143066406}\n",
      "--------------------------------------------------------------------------------\n"
     ]
    },
    {
     "data": {
      "text/plain": "[{'test_loss': 1.0809059143066406,\n  'test_loss_epoch': 1.0809059143066406,\n  'test_acc': 0.7705000042915344,\n  'test_acc_epoch': 0.7705000042915344,\n  'avg_test_loss': 1.0802701711654663,\n  'avg_test_acc': 0.7705576419830322}]"
     },
     "execution_count": 21,
     "metadata": {},
     "output_type": "execute_result"
    }
   ],
   "source": [
    "logging.basicConfig(stream=sys.stderr, level=logging.INFO)\n",
    "log.info(\"Starting...\")\n",
    "\n",
    "utils.set_seed(1234)\n",
    "\n",
    "# set up the augmentations\n",
    "# tuple of augmentation name and its magnitude\n",
    "augmentations = []\n",
    "\n",
    "for tfn_name in TRANSFORM_NAMES:\n",
    "    level = random.random()\n",
    "    level = 0\n",
    "    augmentations.append((tfn_name, level))\n",
    "\n",
    "batch_and_lr_multiplier = 5\n",
    "\n",
    "conf = {\n",
    "    \"progress_bar_refresh_rate\": 25,\n",
    "    \"layer_1_size\": 512,\n",
    "    \"layer_2_size\": 512,\n",
    "    \"lr\": 0.0001 * batch_and_lr_multiplier,\n",
    "    \"batch_size\": 32 * (2 ** batch_and_lr_multiplier),\n",
    "    \"data_dir\": \"./data\",\n",
    "    # Fashion mnist mean and std\n",
    "    \"data_mean\": 0.28604063391685486,\n",
    "    \"data_std\": 0.35302430391311646,\n",
    "    \"augmentations\": augmentations,\n",
    "}\n",
    "\n",
    "log.info(f\"Conf {conf}\")\n",
    "\n",
    "data = FashionMNISTLightningDataModule(conf=conf)\n",
    "\n",
    "model = FashionMNISTLightningModule(conf=conf)\n",
    "\n",
    "early_stopping = pl.callbacks.EarlyStopping('avg_val_loss', verbose=True)\n",
    "\n",
    "trainer = pl.Trainer(\n",
    "    default_root_dir=\"./data\",\n",
    "    gpus=-1 if torch.cuda.device_count() > 0 else 0,\n",
    "    max_epochs=30,\n",
    "    progress_bar_refresh_rate=conf[\"progress_bar_refresh_rate\"],\n",
    "    num_sanity_val_steps=0,\n",
    "    callbacks=[early_stopping]\n",
    ")\n",
    "\n",
    "start_time = time.time()\n",
    "trainer.fit(model, data)\n",
    "print(\"--- %s seconds ---\" % (time.time() - start_time))\n",
    "\n",
    "trainer.test(model, data)\n"
   ]
  },
  {
   "cell_type": "code",
   "execution_count": 16,
   "outputs": [
    {
     "name": "stderr",
     "output_type": "stream",
     "text": [
      "/Users/akaver/lib/python3.9/site-packages/pytorch_lightning/core/datamodule.py:469: LightningDeprecationWarning: DataModule.setup has already been called, so it will not be called again. In v1.6 this behavior will change to always call DataModule.setup.\n",
      "  rank_zero_deprecation(\n"
     ]
    },
    {
     "data": {
      "text/plain": "Testing: 0it [00:00, ?it/s]",
      "application/vnd.jupyter.widget-view+json": {
       "version_major": 2,
       "version_minor": 0,
       "model_id": "3c8fda5b76524b42ba40f7d1ed6bdc06"
      }
     },
     "metadata": {},
     "output_type": "display_data"
    },
    {
     "name": "stdout",
     "output_type": "stream",
     "text": [
      "--------------------------------------------------------------------------------\n",
      "DATALOADER:0 TEST RESULTS\n",
      "{'avg_test_acc': 0.7025011777877808,\n",
      " 'avg_test_loss': 1.3828788995742798,\n",
      " 'test_acc': 0.7027999758720398,\n",
      " 'test_acc_epoch': 0.7027999758720398,\n",
      " 'test_loss': 1.3831374645233154,\n",
      " 'test_loss_epoch': 1.3831374645233154}\n",
      "--------------------------------------------------------------------------------\n"
     ]
    },
    {
     "name": "stderr",
     "output_type": "stream",
     "text": [
      "/Users/akaver/lib/python3.9/site-packages/pytorch_lightning/core/datamodule.py:469: LightningDeprecationWarning: DataModule.teardown has already been called, so it will not be called again. In v1.6 this behavior will change to always call DataModule.teardown.\n",
      "  rank_zero_deprecation(\n"
     ]
    },
    {
     "data": {
      "text/plain": "[{'test_loss': 1.3831374645233154,\n  'test_loss_epoch': 1.3831374645233154,\n  'test_acc': 0.7027999758720398,\n  'test_acc_epoch': 0.7027999758720398,\n  'avg_test_loss': 1.3828788995742798,\n  'avg_test_acc': 0.7025011777877808}]"
     },
     "execution_count": 16,
     "metadata": {},
     "output_type": "execute_result"
    }
   ],
   "source": [
    "trainer.test(model, datamodule=data)"
   ],
   "metadata": {
    "collapsed": false,
    "pycharm": {
     "name": "#%%\n"
    }
   }
  },
  {
   "cell_type": "code",
   "execution_count": null,
   "outputs": [],
   "source": [],
   "metadata": {
    "collapsed": false,
    "pycharm": {
     "name": "#%%\n"
    }
   }
  }
 ],
 "metadata": {
  "kernelspec": {
   "display_name": "Python 3 (ipykernel)",
   "language": "python",
   "name": "python3"
  },
  "language_info": {
   "codemirror_mode": {
    "name": "ipython",
    "version": 3
   },
   "file_extension": ".py",
   "mimetype": "text/x-python",
   "name": "python",
   "nbconvert_exporter": "python",
   "pygments_lexer": "ipython3",
   "version": "3.8.10"
  }
 },
 "nbformat": 4,
 "nbformat_minor": 4
}