{
 "cells": [
  {
   "cell_type": "markdown",
   "source": [
    "Direct Pytorch Lightning training, using dataloader with augmentations and custom LightningFashionMNIST classifier"
   ],
   "metadata": {
    "collapsed": false,
    "pycharm": {
     "name": "#%% md\n"
    }
   }
  },
  {
   "cell_type": "code",
   "execution_count": 1,
   "outputs": [],
   "source": [
    "# https://ipython.readthedocs.io/en/stable/config/extensions/autoreload.html\n",
    "%load_ext autoreload\n",
    "%autoreload 2"
   ],
   "metadata": {
    "collapsed": false,
    "pycharm": {
     "name": "#%%\n"
    }
   }
  },
  {
   "cell_type": "code",
   "metadata": {
    "collapsed": false,
    "jupyter": {
     "outputs_hidden": false
    },
    "pycharm": {
     "name": "#%%\n"
    }
   },
   "source": [
    "import os\n",
    "import logging\n",
    "import math\n",
    "from filelock import FileLock\n",
    "import random\n",
    "import sys\n",
    "import time\n",
    "\n",
    "# __import_lightning_begin__\n",
    "import torch\n",
    "import pytorch_lightning as pl\n",
    "from torch.utils.data import DataLoader, random_split\n",
    "from torch.nn import functional as F\n",
    "from torchvision.datasets import FashionMNIST\n",
    "from torchvision import transforms\n",
    "# __import_lightning_end__\n",
    "\n",
    "from helpers import utils\n",
    "from FashionMNISTLightningDataModule import FashionMNISTLightningDataModule\n",
    "from augmentation.augmentation import TRANSFORM_NAMES\n",
    "from FashionMNISTLightningModule import FashionMNISTLightningModule\n",
    "\n",
    "log = logging.getLogger('App')\n",
    "logging.basicConfig(level=logging.INFO)"
   ],
   "execution_count": 4,
   "outputs": []
  },
  {
   "cell_type": "code",
   "execution_count": 6,
   "metadata": {
    "collapsed": false,
    "jupyter": {
     "outputs_hidden": false
    },
    "pycharm": {
     "name": "#%%\n"
    }
   },
   "outputs": [
    {
     "name": "stderr",
     "output_type": "stream",
     "text": [
      "INFO:App:Starting...\n",
      "INFO:App:Conf {'progress_bar_refresh_rate': 25, 'layer_1_size': 512, 'layer_2_size': 512, 'lr': 0.0005, 'batch_size': 1024, 'data_dir': './data', 'data_mean': 0.28604063391685486, 'data_std': 0.35302430391311646, 'augmentations': [('blur', 0.9664535356921388), ('rotate_left', 0.4407325991753527), ('rotate_right', 0.007491470058587191)]}\n",
      "INFO:FashionMNISTLightningDataModule:batch_size: 1024. num_workers: 10. data_dir: ./data.\n",
      "GPU available: False, used: False\n",
      "TPU available: False, using: 0 TPU cores\n",
      "IPU available: False, using: 0 IPUs\n",
      "\n",
      "  | Name    | Type   | Params\n",
      "-----------------------------------\n",
      "0 | layer_1 | Linear | 401 K \n",
      "1 | layer_2 | Linear | 262 K \n",
      "2 | layer_3 | Linear | 5.1 K \n",
      "-----------------------------------\n",
      "669 K     Trainable params\n",
      "0         Non-trainable params\n",
      "669 K     Total params\n",
      "2.679     Total estimated model params size (MB)\n"
     ]
    },
    {
     "data": {
      "text/plain": "Training: 0it [00:00, ?it/s]",
      "application/vnd.jupyter.widget-view+json": {
       "version_major": 2,
       "version_minor": 0,
       "model_id": "5263cad3419448ccba04527bdbc0ce3b"
      }
     },
     "metadata": {},
     "output_type": "display_data"
    },
    {
     "data": {
      "text/plain": "Validating: 0it [00:00, ?it/s]",
      "application/vnd.jupyter.widget-view+json": {
       "version_major": 2,
       "version_minor": 0,
       "model_id": "0769308b7dcf4989b1b55c4f3c40d882"
      }
     },
     "metadata": {},
     "output_type": "display_data"
    },
    {
     "name": "stderr",
     "output_type": "stream",
     "text": [
      "Metric avg_val_loss improved. New best score: 0.480\n"
     ]
    },
    {
     "data": {
      "text/plain": "Validating: 0it [00:00, ?it/s]",
      "application/vnd.jupyter.widget-view+json": {
       "version_major": 2,
       "version_minor": 0,
       "model_id": "c5a1744c9b0f4662b8d229ad754c31d0"
      }
     },
     "metadata": {},
     "output_type": "display_data"
    },
    {
     "name": "stderr",
     "output_type": "stream",
     "text": [
      "Metric avg_val_loss improved by 0.061 >= min_delta = 0.0. New best score: 0.419\n"
     ]
    },
    {
     "data": {
      "text/plain": "Validating: 0it [00:00, ?it/s]",
      "application/vnd.jupyter.widget-view+json": {
       "version_major": 2,
       "version_minor": 0,
       "model_id": "ffe20b2160fd4e28bb9c4ee0ad62cd99"
      }
     },
     "metadata": {},
     "output_type": "display_data"
    },
    {
     "name": "stderr",
     "output_type": "stream",
     "text": [
      "Metric avg_val_loss improved by 0.019 >= min_delta = 0.0. New best score: 0.400\n"
     ]
    },
    {
     "data": {
      "text/plain": "Validating: 0it [00:00, ?it/s]",
      "application/vnd.jupyter.widget-view+json": {
       "version_major": 2,
       "version_minor": 0,
       "model_id": "87dad642c2d34d57850dff9dc0567cc1"
      }
     },
     "metadata": {},
     "output_type": "display_data"
    },
    {
     "name": "stderr",
     "output_type": "stream",
     "text": [
      "Metric avg_val_loss improved by 0.029 >= min_delta = 0.0. New best score: 0.371\n"
     ]
    },
    {
     "data": {
      "text/plain": "Validating: 0it [00:00, ?it/s]",
      "application/vnd.jupyter.widget-view+json": {
       "version_major": 2,
       "version_minor": 0,
       "model_id": "dec9b8ded633471baca39f95412bb904"
      }
     },
     "metadata": {},
     "output_type": "display_data"
    },
    {
     "name": "stderr",
     "output_type": "stream",
     "text": [
      "Metric avg_val_loss improved by 0.021 >= min_delta = 0.0. New best score: 0.351\n"
     ]
    },
    {
     "data": {
      "text/plain": "Validating: 0it [00:00, ?it/s]",
      "application/vnd.jupyter.widget-view+json": {
       "version_major": 2,
       "version_minor": 0,
       "model_id": "43c52756c30142a19d36424d5596c6b8"
      }
     },
     "metadata": {},
     "output_type": "display_data"
    },
    {
     "name": "stderr",
     "output_type": "stream",
     "text": [
      "Metric avg_val_loss improved by 0.016 >= min_delta = 0.0. New best score: 0.335\n"
     ]
    },
    {
     "data": {
      "text/plain": "Validating: 0it [00:00, ?it/s]",
      "application/vnd.jupyter.widget-view+json": {
       "version_major": 2,
       "version_minor": 0,
       "model_id": "65893dc3b15d47a6857f5877461fe553"
      }
     },
     "metadata": {},
     "output_type": "display_data"
    },
    {
     "name": "stderr",
     "output_type": "stream",
     "text": [
      "Metric avg_val_loss improved by 0.014 >= min_delta = 0.0. New best score: 0.320\n"
     ]
    },
    {
     "data": {
      "text/plain": "Validating: 0it [00:00, ?it/s]",
      "application/vnd.jupyter.widget-view+json": {
       "version_major": 2,
       "version_minor": 0,
       "model_id": "ec4faa2f964544acb93b1a7be6054189"
      }
     },
     "metadata": {},
     "output_type": "display_data"
    },
    {
     "name": "stderr",
     "output_type": "stream",
     "text": [
      "Metric avg_val_loss improved by 0.012 >= min_delta = 0.0. New best score: 0.309\n"
     ]
    },
    {
     "data": {
      "text/plain": "Validating: 0it [00:00, ?it/s]",
      "application/vnd.jupyter.widget-view+json": {
       "version_major": 2,
       "version_minor": 0,
       "model_id": "5e7e434a603648c5bb5d395c49fbb961"
      }
     },
     "metadata": {},
     "output_type": "display_data"
    },
    {
     "name": "stderr",
     "output_type": "stream",
     "text": [
      "Metric avg_val_loss improved by 0.008 >= min_delta = 0.0. New best score: 0.301\n"
     ]
    },
    {
     "data": {
      "text/plain": "Validating: 0it [00:00, ?it/s]",
      "application/vnd.jupyter.widget-view+json": {
       "version_major": 2,
       "version_minor": 0,
       "model_id": "f68262ff70914902b6fe932807785b7b"
      }
     },
     "metadata": {},
     "output_type": "display_data"
    },
    {
     "name": "stderr",
     "output_type": "stream",
     "text": [
      "Metric avg_val_loss improved by 0.008 >= min_delta = 0.0. New best score: 0.293\n"
     ]
    },
    {
     "data": {
      "text/plain": "Validating: 0it [00:00, ?it/s]",
      "application/vnd.jupyter.widget-view+json": {
       "version_major": 2,
       "version_minor": 0,
       "model_id": "59063bd0ebe34ded8505c472dd1dfa11"
      }
     },
     "metadata": {},
     "output_type": "display_data"
    },
    {
     "name": "stderr",
     "output_type": "stream",
     "text": [
      "Metric avg_val_loss improved by 0.005 >= min_delta = 0.0. New best score: 0.289\n"
     ]
    },
    {
     "data": {
      "text/plain": "Validating: 0it [00:00, ?it/s]",
      "application/vnd.jupyter.widget-view+json": {
       "version_major": 2,
       "version_minor": 0,
       "model_id": "0a0aa23fa9574fbba234e55c7c22023b"
      }
     },
     "metadata": {},
     "output_type": "display_data"
    },
    {
     "name": "stderr",
     "output_type": "stream",
     "text": [
      "Metric avg_val_loss improved by 0.004 >= min_delta = 0.0. New best score: 0.285\n"
     ]
    },
    {
     "data": {
      "text/plain": "Validating: 0it [00:00, ?it/s]",
      "application/vnd.jupyter.widget-view+json": {
       "version_major": 2,
       "version_minor": 0,
       "model_id": "b2010ce0b331432cbf3b57a354ccdac0"
      }
     },
     "metadata": {},
     "output_type": "display_data"
    },
    {
     "name": "stderr",
     "output_type": "stream",
     "text": [
      "Metric avg_val_loss improved by 0.002 >= min_delta = 0.0. New best score: 0.282\n"
     ]
    },
    {
     "data": {
      "text/plain": "Validating: 0it [00:00, ?it/s]",
      "application/vnd.jupyter.widget-view+json": {
       "version_major": 2,
       "version_minor": 0,
       "model_id": "9b1a22e912394c00ac259a8a2a567d95"
      }
     },
     "metadata": {},
     "output_type": "display_data"
    },
    {
     "data": {
      "text/plain": "Validating: 0it [00:00, ?it/s]",
      "application/vnd.jupyter.widget-view+json": {
       "version_major": 2,
       "version_minor": 0,
       "model_id": "2a532b69b7764b57a957aa94a5946691"
      }
     },
     "metadata": {},
     "output_type": "display_data"
    },
    {
     "data": {
      "text/plain": "Validating: 0it [00:00, ?it/s]",
      "application/vnd.jupyter.widget-view+json": {
       "version_major": 2,
       "version_minor": 0,
       "model_id": "c2c3e6a483fe471287a1b2e0a1a612cb"
      }
     },
     "metadata": {},
     "output_type": "display_data"
    },
    {
     "name": "stderr",
     "output_type": "stream",
     "text": [
      "Metric avg_val_loss improved by 0.000 >= min_delta = 0.0. New best score: 0.282\n"
     ]
    },
    {
     "data": {
      "text/plain": "Validating: 0it [00:00, ?it/s]",
      "application/vnd.jupyter.widget-view+json": {
       "version_major": 2,
       "version_minor": 0,
       "model_id": "031792c2261349b7b2abb2eeb4b0f8c5"
      }
     },
     "metadata": {},
     "output_type": "display_data"
    },
    {
     "name": "stderr",
     "output_type": "stream",
     "text": [
      "Metric avg_val_loss improved by 0.002 >= min_delta = 0.0. New best score: 0.280\n"
     ]
    },
    {
     "data": {
      "text/plain": "Validating: 0it [00:00, ?it/s]",
      "application/vnd.jupyter.widget-view+json": {
       "version_major": 2,
       "version_minor": 0,
       "model_id": "d7b420f021eb4b16a02c9fe790212fb3"
      }
     },
     "metadata": {},
     "output_type": "display_data"
    },
    {
     "data": {
      "text/plain": "Validating: 0it [00:00, ?it/s]",
      "application/vnd.jupyter.widget-view+json": {
       "version_major": 2,
       "version_minor": 0,
       "model_id": "0b379f2d3d8d43359e6d7a13245882e2"
      }
     },
     "metadata": {},
     "output_type": "display_data"
    },
    {
     "data": {
      "text/plain": "Validating: 0it [00:00, ?it/s]",
      "application/vnd.jupyter.widget-view+json": {
       "version_major": 2,
       "version_minor": 0,
       "model_id": "bd85030fde684c4bb5a5de3c6b885fc1"
      }
     },
     "metadata": {},
     "output_type": "display_data"
    },
    {
     "name": "stderr",
     "output_type": "stream",
     "text": [
      "Monitored metric avg_val_loss did not improve in the last 3 records. Best score: 0.280. Signaling Trainer to stop.\n"
     ]
    },
    {
     "name": "stdout",
     "output_type": "stream",
     "text": [
      "--- 292.73419094085693 seconds ---\n"
     ]
    },
    {
     "data": {
      "text/plain": "Testing: 0it [00:00, ?it/s]",
      "application/vnd.jupyter.widget-view+json": {
       "version_major": 2,
       "version_minor": 0,
       "model_id": "b7bdd98ef337413e9572a1b900f50243"
      }
     },
     "metadata": {},
     "output_type": "display_data"
    },
    {
     "name": "stdout",
     "output_type": "stream",
     "text": [
      "--------------------------------------------------------------------------------\n",
      "DATALOADER:0 TEST RESULTS\n",
      "{'avg_test_acc': 0.7987543940544128,\n",
      " 'avg_test_loss': 1.0097726583480835,\n",
      " 'test_acc': 0.7986999750137329,\n",
      " 'test_acc_epoch': 0.7986999750137329,\n",
      " 'test_loss': 1.0103999376296997,\n",
      " 'test_loss_epoch': 1.0103999376296997}\n",
      "--------------------------------------------------------------------------------\n"
     ]
    },
    {
     "data": {
      "text/plain": "[{'test_loss': 1.0103999376296997,\n  'test_loss_epoch': 1.0103999376296997,\n  'test_acc': 0.7986999750137329,\n  'test_acc_epoch': 0.7986999750137329,\n  'avg_test_loss': 1.0097726583480835,\n  'avg_test_acc': 0.7987543940544128}]"
     },
     "execution_count": 6,
     "metadata": {},
     "output_type": "execute_result"
    }
   ],
   "source": [
    "logging.basicConfig(stream=sys.stderr, level=logging.INFO)\n",
    "log.info(\"Starting...\")\n",
    "\n",
    "utils.set_seed(1234)\n",
    "\n",
    "# set up the augmentations\n",
    "# tuple of augmentation name and its magnitude\n",
    "augmentations = []\n",
    "\n",
    "for tfn_name in TRANSFORM_NAMES:\n",
    "    level = random.random()\n",
    "    # level = 0\n",
    "    augmentations.append((tfn_name, level))\n",
    "\n",
    "batch_and_lr_multiplier = 5\n",
    "\n",
    "conf = {\n",
    "    \"progress_bar_refresh_rate\": 25,\n",
    "    \"layer_1_size\": 512,\n",
    "    \"layer_2_size\": 512,\n",
    "    \"lr\": 0.0001 * batch_and_lr_multiplier,\n",
    "    \"batch_size\": 32 * (2 ** batch_and_lr_multiplier),\n",
    "    \"data_dir\": \"./data\",\n",
    "    # Fashion mnist mean and std\n",
    "    \"data_mean\": 0.28604063391685486,\n",
    "    \"data_std\": 0.35302430391311646,\n",
    "    \"augmentations\": augmentations,\n",
    "}\n",
    "\n",
    "log.info(f\"Conf {conf}\")\n",
    "\n",
    "data = FashionMNISTLightningDataModule(conf=conf)\n",
    "\n",
    "model = FashionMNISTLightningModule(conf=conf)\n",
    "\n",
    "early_stopping = pl.callbacks.EarlyStopping('avg_val_loss', verbose=True)\n",
    "progress_bar = pl.callbacks.progress.TQDMProgressBar(refresh_rate=25);\n",
    "\n",
    "trainer = pl.Trainer(\n",
    "    default_root_dir=\"./data\",\n",
    "    gpus=-1 if torch.cuda.device_count() > 0 else 0,\n",
    "    max_epochs=30,\n",
    "    # progress_bar_refresh_rate=conf[\"progress_bar_refresh_rate\"],\n",
    "    num_sanity_val_steps=0,\n",
    "    callbacks=[early_stopping, progress_bar]\n",
    ")\n",
    "\n",
    "start_time = time.time()\n",
    "trainer.fit(model, data)\n",
    "print(\"--- %s seconds ---\" % (time.time() - start_time))\n",
    "\n",
    "trainer.test(model, data)\n"
   ]
  },
  {
   "cell_type": "code",
   "execution_count": 16,
   "outputs": [
    {
     "name": "stderr",
     "output_type": "stream",
     "text": [
      "/Users/akaver/lib/python3.9/site-packages/pytorch_lightning/core/datamodule.py:469: LightningDeprecationWarning: DataModule.setup has already been called, so it will not be called again. In v1.6 this behavior will change to always call DataModule.setup.\n",
      "  rank_zero_deprecation(\n"
     ]
    },
    {
     "data": {
      "text/plain": "Testing: 0it [00:00, ?it/s]",
      "application/vnd.jupyter.widget-view+json": {
       "version_major": 2,
       "version_minor": 0,
       "model_id": "3c8fda5b76524b42ba40f7d1ed6bdc06"
      }
     },
     "metadata": {},
     "output_type": "display_data"
    },
    {
     "name": "stdout",
     "output_type": "stream",
     "text": [
      "--------------------------------------------------------------------------------\n",
      "DATALOADER:0 TEST RESULTS\n",
      "{'avg_test_acc': 0.7025011777877808,\n",
      " 'avg_test_loss': 1.3828788995742798,\n",
      " 'test_acc': 0.7027999758720398,\n",
      " 'test_acc_epoch': 0.7027999758720398,\n",
      " 'test_loss': 1.3831374645233154,\n",
      " 'test_loss_epoch': 1.3831374645233154}\n",
      "--------------------------------------------------------------------------------\n"
     ]
    },
    {
     "name": "stderr",
     "output_type": "stream",
     "text": [
      "/Users/akaver/lib/python3.9/site-packages/pytorch_lightning/core/datamodule.py:469: LightningDeprecationWarning: DataModule.teardown has already been called, so it will not be called again. In v1.6 this behavior will change to always call DataModule.teardown.\n",
      "  rank_zero_deprecation(\n"
     ]
    },
    {
     "data": {
      "text/plain": "[{'test_loss': 1.3831374645233154,\n  'test_loss_epoch': 1.3831374645233154,\n  'test_acc': 0.7027999758720398,\n  'test_acc_epoch': 0.7027999758720398,\n  'avg_test_loss': 1.3828788995742798,\n  'avg_test_acc': 0.7025011777877808}]"
     },
     "execution_count": 16,
     "metadata": {},
     "output_type": "execute_result"
    }
   ],
   "source": [
    "trainer.test(model, datamodule=data)"
   ],
   "metadata": {
    "collapsed": false,
    "pycharm": {
     "name": "#%%\n"
    }
   }
  },
  {
   "cell_type": "code",
   "execution_count": null,
   "outputs": [],
   "source": [],
   "metadata": {
    "collapsed": false,
    "pycharm": {
     "name": "#%%\n"
    }
   }
  }
 ],
 "metadata": {
  "kernelspec": {
   "display_name": "Python 3 (ipykernel)",
   "language": "python",
   "name": "python3"
  },
  "language_info": {
   "codemirror_mode": {
    "name": "ipython",
    "version": 3
   },
   "file_extension": ".py",
   "mimetype": "text/x-python",
   "name": "python",
   "nbconvert_exporter": "python",
   "pygments_lexer": "ipython3",
   "version": "3.8.10"
  }
 },
 "nbformat": 4,
 "nbformat_minor": 4
}