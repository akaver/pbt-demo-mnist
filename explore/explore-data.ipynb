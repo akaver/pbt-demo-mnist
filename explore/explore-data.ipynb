{
 "cells": [
  {
   "cell_type": "markdown",
   "metadata": {
    "pycharm": {
     "name": "#%% md\n"
    }
   },
   "source": [
    "# Fashion-MNIST"
   ]
  },
  {
   "cell_type": "code",
   "execution_count": 31,
   "metadata": {
    "collapsed": false,
    "jupyter": {
     "outputs_hidden": false
    },
    "pycharm": {
     "name": "#%%\n"
    }
   },
   "outputs": [
    {
     "name": "stdout",
     "output_type": "stream",
     "text": [
      "Collecting filelock\n",
      "  Downloading filelock-3.2.0-py2.py3-none-any.whl (10 kB)\n",
      "Installing collected packages: filelock\n",
      "Successfully installed filelock-3.2.0\n"
     ]
    }
   ],
   "source": [
    "# Used for installing packages into jupyter kernel\n",
    "import sys\n",
    "!{sys.executable} -m pip install --upgrade filelock"
   ]
  },
  {
   "cell_type": "code",
   "execution_count": 1,
   "metadata": {
    "collapsed": false,
    "jupyter": {
     "outputs_hidden": false
    },
    "pycharm": {
     "name": "#%%\n"
    }
   },
   "outputs": [],
   "source": [
    "import os\n",
    "import random\n",
    "import tqdm\n",
    "import matplotlib.pyplot as plt\n",
    "import numpy as np\n",
    "import torch\n",
    "from torchvision.datasets import FashionMNIST, MNIST\n",
    "from torchvision import transforms\n",
    "import torchvision.transforms.functional as TF"
   ]
  },
  {
   "cell_type": "code",
   "execution_count": 2,
   "metadata": {
    "collapsed": false,
    "jupyter": {
     "outputs_hidden": false
    },
    "pycharm": {
     "name": "#%%\n"
    }
   },
   "outputs": [
    {
     "name": "stderr",
     "output_type": "stream",
     "text": [
      "/Users/akaver/Development/lib/python3.9/site-packages/torchvision/datasets/mnist.py:498: UserWarning: The given NumPy array is not writeable, and PyTorch does not support non-writeable tensors. This means you can write to the underlying (supposedly non-writeable) NumPy array using the tensor. You may want to copy the array to protect its data or make it writeable before converting it to a tensor. This type of warning will be suppressed for the rest of this program. (Triggered internally at  ../torch/csrc/utils/tensor_numpy.cpp:180.)\n",
      "  return torch.from_numpy(parsed.astype(m[2], copy=False)).view(*s)\n"
     ]
    }
   ],
   "source": [
    "# Get the dataset from torchvision, do not apply any transformations\n",
    "mnist_train = FashionMNIST(\"./data\", train=True, download=True, transform=None)\n",
    "mnist_test = FashionMNIST(\"./data\", train=False, download=True, transform=None)"
   ]
  },
  {
   "cell_type": "code",
   "execution_count": 21,
   "metadata": {
    "collapsed": false,
    "jupyter": {
     "outputs_hidden": false
    },
    "pycharm": {
     "name": "#%%\n"
    }
   },
   "outputs": [
    {
     "data": {
      "text/plain": [
       "Dataset FashionMNIST\n",
       "    Number of datapoints: 60000\n",
       "    Root location: ./data\n",
       "    Split: Train"
      ]
     },
     "execution_count": 21,
     "metadata": {},
     "output_type": "execute_result"
    }
   ],
   "source": [
    "mnist_train"
   ]
  },
  {
   "cell_type": "code",
   "execution_count": 22,
   "metadata": {
    "collapsed": false,
    "jupyter": {
     "outputs_hidden": false
    },
    "pycharm": {
     "name": "#%%\n"
    }
   },
   "outputs": [
    {
     "data": {
      "text/plain": [
       "Dataset FashionMNIST\n",
       "    Number of datapoints: 10000\n",
       "    Root location: ./data\n",
       "    Split: Test"
      ]
     },
     "execution_count": 22,
     "metadata": {},
     "output_type": "execute_result"
    }
   ],
   "source": [
    "mnist_test"
   ]
  },
  {
   "cell_type": "code",
   "execution_count": 6,
   "metadata": {
    "collapsed": false,
    "jupyter": {
     "outputs_hidden": false
    },
    "pycharm": {
     "name": "#%%\n"
    }
   },
   "outputs": [
    {
     "name": "stdout",
     "output_type": "stream",
     "text": [
      "Train len: 60000  Test len: 10000\n"
     ]
    },
    {
     "data": {
      "text/plain": [
       "54000"
      ]
     },
     "execution_count": 6,
     "metadata": {},
     "output_type": "execute_result"
    }
   ],
   "source": [
    "print(f\"Train len: {len(mnist_train)}  Test len: {len(mnist_test)}\")"
   ]
  },
  {
   "cell_type": "code",
   "execution_count": 24,
   "metadata": {
    "collapsed": false,
    "jupyter": {
     "outputs_hidden": false
    },
    "pycharm": {
     "name": "#%%\n"
    }
   },
   "outputs": [
    {
     "data": {
      "text/plain": [
       "tensor([[[0.0000, 0.0000, 0.0000, 0.0000, 0.0000, 0.0000, 0.0000, 0.0000,\n",
       "          0.0000, 0.0000, 0.1176, 0.5922, 0.7725, 0.8980, 0.9137, 0.8471,\n",
       "          0.6941, 0.2275, 0.0000, 0.0000, 0.0000, 0.0000, 0.0000, 0.0000,\n",
       "          0.0000, 0.0000, 0.0000, 0.0000],\n",
       "         [0.0000, 0.0000, 0.0000, 0.0000, 0.0000, 0.0000, 0.0000, 0.0039,\n",
       "          0.0000, 0.2431, 0.8941, 0.9059, 0.8706, 0.7608, 0.7686, 0.8000,\n",
       "          0.8745, 0.8784, 0.5373, 0.0000, 0.0000, 0.0000, 0.0000, 0.0000,\n",
       "          0.0000, 0.0000, 0.0000, 0.0000],\n",
       "         [0.0000, 0.0000, 0.0000, 0.0000, 0.0000, 0.0000, 0.0118, 0.0000,\n",
       "          0.0000, 0.8235, 0.7922, 0.7725, 0.9255, 0.9137, 0.9294, 0.9373,\n",
       "          0.8431, 0.7216, 0.9333, 0.1961, 0.0000, 0.0039, 0.0000, 0.0000,\n",
       "          0.0000, 0.0000, 0.0000, 0.0000],\n",
       "         [0.0000, 0.0000, 0.0000, 0.0000, 0.0000, 0.0000, 0.0000, 0.0000,\n",
       "          0.2706, 0.9176, 0.8039, 0.8000, 0.9333, 0.8314, 0.7176, 0.9059,\n",
       "          0.8078, 0.7882, 0.9020, 0.6706, 0.0000, 0.0000, 0.0000, 0.0000,\n",
       "          0.0000, 0.0000, 0.0000, 0.0000],\n",
       "         [0.0000, 0.0000, 0.0000, 0.0000, 0.0000, 0.0000, 0.0000, 0.4667,\n",
       "          0.9098, 0.9176, 0.9294, 0.9294, 0.8784, 0.9373, 0.9529, 0.8745,\n",
       "          0.8627, 0.8706, 0.8980, 0.9176, 0.6824, 0.0000, 0.0000, 0.0000,\n",
       "          0.0000, 0.0000, 0.0000, 0.0000],\n",
       "         [0.0000, 0.0000, 0.0000, 0.0000, 0.0000, 0.0000, 0.0275, 0.8431,\n",
       "          0.8471, 0.8941, 0.9098, 0.9294, 0.9843, 0.8824, 0.8471, 0.8392,\n",
       "          0.8549, 0.7647, 0.8824, 0.8314, 0.9098, 0.2000, 0.0000, 0.0000,\n",
       "          0.0000, 0.0000, 0.0000, 0.0000],\n",
       "         [0.0000, 0.0000, 0.0000, 0.0000, 0.0000, 0.0000, 0.3216, 0.9059,\n",
       "          0.8000, 0.8706, 0.8980, 0.8353, 0.8627, 0.8784, 0.9529, 1.0000,\n",
       "          0.9765, 0.9451, 0.8824, 0.8078, 0.9098, 0.5608, 0.0000, 0.0000,\n",
       "          0.0000, 0.0000, 0.0000, 0.0000],\n",
       "         [0.0000, 0.0000, 0.0000, 0.0000, 0.0000, 0.0000, 0.5176, 0.9216,\n",
       "          0.8039, 0.8392, 0.8431, 0.7882, 0.8588, 0.8196, 0.7961, 0.8157,\n",
       "          0.8275, 0.8784, 0.8392, 0.8196, 0.9098, 0.7176, 0.0000, 0.0000,\n",
       "          0.0000, 0.0000, 0.0000, 0.0000],\n",
       "         [0.0000, 0.0000, 0.0000, 0.0000, 0.0000, 0.0000, 0.6941, 0.9686,\n",
       "          0.8353, 0.8078, 0.8157, 0.8118, 0.8549, 0.8314, 0.8275, 0.8471,\n",
       "          0.8235, 0.8235, 0.8549, 0.8667, 0.8941, 0.8314, 0.0000, 0.0000,\n",
       "          0.0000, 0.0000, 0.0000, 0.0000],\n",
       "         [0.0000, 0.0000, 0.0000, 0.0000, 0.0000, 0.0000, 0.7686, 0.9608,\n",
       "          0.9294, 0.7961, 0.8235, 0.8196, 0.8588, 0.8314, 0.8392, 0.8471,\n",
       "          0.8314, 0.8353, 0.8471, 0.8902, 0.8941, 0.8000, 0.0000, 0.0000,\n",
       "          0.0000, 0.0000, 0.0000, 0.0000],\n",
       "         [0.0000, 0.0000, 0.0000, 0.0000, 0.0000, 0.0000, 0.7529, 0.9098,\n",
       "          0.9490, 0.8196, 0.8275, 0.8196, 0.8588, 0.8275, 0.8431, 0.8510,\n",
       "          0.8314, 0.8471, 0.8353, 0.8941, 0.9176, 0.8431, 0.0000, 0.0000,\n",
       "          0.0000, 0.0000, 0.0000, 0.0000],\n",
       "         [0.0000, 0.0000, 0.0000, 0.0000, 0.0000, 0.0000, 0.8118, 0.9216,\n",
       "          0.9451, 0.8471, 0.8314, 0.8275, 0.8588, 0.8275, 0.8471, 0.8510,\n",
       "          0.8314, 0.8588, 0.8275, 0.8902, 0.9216, 0.8745, 0.0118, 0.0000,\n",
       "          0.0000, 0.0000, 0.0000, 0.0000],\n",
       "         [0.0000, 0.0000, 0.0000, 0.0000, 0.0000, 0.0000, 0.8471, 0.9098,\n",
       "          0.9804, 0.8431, 0.8275, 0.8314, 0.8627, 0.8392, 0.8431, 0.8667,\n",
       "          0.8431, 0.8510, 0.8078, 0.9137, 0.9176, 0.9098, 0.1647, 0.0000,\n",
       "          0.0000, 0.0000, 0.0000, 0.0000],\n",
       "         [0.0000, 0.0000, 0.0000, 0.0000, 0.0000, 0.0078, 0.8588, 0.8980,\n",
       "          0.9765, 0.8824, 0.8235, 0.8353, 0.8588, 0.8431, 0.8471, 0.8627,\n",
       "          0.8510, 0.8588, 0.8196, 0.9451, 0.9294, 0.9373, 0.3216, 0.0000,\n",
       "          0.0000, 0.0000, 0.0000, 0.0000],\n",
       "         [0.0000, 0.0000, 0.0000, 0.0000, 0.0000, 0.0784, 0.8627, 0.9020,\n",
       "          0.9412, 0.9020, 0.8392, 0.8275, 0.8471, 0.8471, 0.8510, 0.8588,\n",
       "          0.8471, 0.8392, 0.8392, 0.9529, 0.9490, 0.9216, 0.4196, 0.0000,\n",
       "          0.0000, 0.0000, 0.0000, 0.0000],\n",
       "         [0.0000, 0.0000, 0.0000, 0.0000, 0.0000, 0.1804, 0.8667, 0.8902,\n",
       "          0.9412, 0.8392, 0.8824, 0.8314, 0.8353, 0.8588, 0.8588, 0.8471,\n",
       "          0.8353, 0.8431, 0.8275, 0.9333, 0.9412, 0.9569, 0.4824, 0.0000,\n",
       "          0.0000, 0.0000, 0.0000, 0.0000],\n",
       "         [0.0000, 0.0000, 0.0000, 0.0000, 0.0000, 0.2667, 0.9765, 0.8980,\n",
       "          0.9373, 0.8078, 0.8510, 0.8549, 0.8510, 0.8353, 0.8627, 0.8549,\n",
       "          0.8510, 0.8784, 0.8392, 0.8902, 0.9451, 0.9451, 0.5412, 0.0000,\n",
       "          0.0000, 0.0000, 0.0000, 0.0000],\n",
       "         [0.0000, 0.0000, 0.0000, 0.0000, 0.0000, 0.2902, 0.9765, 0.8941,\n",
       "          0.9412, 0.7647, 0.8196, 0.8039, 0.8667, 0.8392, 0.8588, 0.8941,\n",
       "          0.8078, 0.8314, 0.8039, 0.8471, 0.9451, 0.9137, 0.6000, 0.0000,\n",
       "          0.0000, 0.0000, 0.0000, 0.0000],\n",
       "         [0.0000, 0.0000, 0.0000, 0.0000, 0.0000, 0.3412, 0.9647, 0.8941,\n",
       "          0.9608, 0.8039, 0.8353, 0.8471, 0.8784, 0.8431, 0.8471, 0.8902,\n",
       "          0.8824, 0.8706, 0.8078, 0.9255, 0.9647, 0.8902, 0.6471, 0.0000,\n",
       "          0.0000, 0.0000, 0.0000, 0.0000],\n",
       "         [0.0000, 0.0000, 0.0000, 0.0000, 0.0000, 0.3765, 0.9216, 0.9137,\n",
       "          0.9098, 0.7647, 0.8235, 0.8157, 0.8824, 0.8510, 0.8353, 0.8706,\n",
       "          0.8471, 0.8588, 0.8431, 0.8314, 0.9569, 0.8902, 0.6745, 0.0000,\n",
       "          0.0000, 0.0000, 0.0000, 0.0000],\n",
       "         [0.0000, 0.0000, 0.0000, 0.0000, 0.0000, 0.3843, 0.9216, 0.9098,\n",
       "          0.9020, 0.7569, 0.8196, 0.8118, 0.9098, 0.8431, 0.8392, 0.8824,\n",
       "          0.8314, 0.8471, 0.8431, 0.7608, 0.9647, 0.9059, 0.6980, 0.0000,\n",
       "          0.0000, 0.0000, 0.0000, 0.0000],\n",
       "         [0.0000, 0.0000, 0.0000, 0.0000, 0.0000, 0.3765, 0.8392, 0.8824,\n",
       "          0.8824, 0.7686, 0.8000, 0.8039, 0.9137, 0.8196, 0.8353, 0.8824,\n",
       "          0.8235, 0.8471, 0.8275, 0.7647, 0.9373, 0.8588, 0.7529, 0.0000,\n",
       "          0.0000, 0.0000, 0.0000, 0.0000],\n",
       "         [0.0000, 0.0000, 0.0000, 0.0000, 0.0000, 0.4706, 0.8510, 0.9059,\n",
       "          0.9333, 0.7569, 0.8196, 0.8431, 0.9255, 0.8157, 0.8353, 0.8784,\n",
       "          0.8392, 0.8431, 0.8078, 0.8314, 0.9804, 0.8627, 0.8039, 0.0000,\n",
       "          0.0000, 0.0000, 0.0000, 0.0000],\n",
       "         [0.0000, 0.0000, 0.0000, 0.0000, 0.0000, 0.5255, 0.9294, 0.8549,\n",
       "          0.8196, 0.8392, 0.8471, 0.8627, 0.9373, 0.8235, 0.8471, 0.8706,\n",
       "          0.8745, 0.8353, 0.8471, 0.8275, 0.9412, 0.9490, 0.8980, 0.0000,\n",
       "          0.0000, 0.0000, 0.0000, 0.0000],\n",
       "         [0.0000, 0.0000, 0.0000, 0.0000, 0.0000, 0.0000, 0.0000, 0.0000,\n",
       "          0.4588, 0.8784, 0.8118, 0.8235, 0.9294, 0.8196, 0.8510, 0.8431,\n",
       "          0.8667, 0.8667, 0.8431, 0.9176, 0.0000, 0.0000, 0.0000, 0.0000,\n",
       "          0.0000, 0.0000, 0.0000, 0.0000],\n",
       "         [0.0000, 0.0000, 0.0000, 0.0000, 0.0000, 0.0000, 0.0000, 0.0000,\n",
       "          0.6824, 0.8510, 0.7961, 0.8510, 0.9059, 0.8353, 0.8471, 0.8471,\n",
       "          0.8471, 0.8353, 0.8118, 0.8275, 0.0078, 0.0000, 0.0000, 0.0000,\n",
       "          0.0000, 0.0000, 0.0000, 0.0000],\n",
       "         [0.0000, 0.0000, 0.0000, 0.0000, 0.0000, 0.0078, 0.0000, 0.0000,\n",
       "          0.9020, 0.9098, 0.8471, 0.9059, 0.9490, 0.8392, 0.8471, 0.8745,\n",
       "          0.8784, 0.8627, 0.8667, 0.8941, 0.1333, 0.0000, 0.0157, 0.0000,\n",
       "          0.0000, 0.0000, 0.0000, 0.0000],\n",
       "         [0.0000, 0.0000, 0.0000, 0.0000, 0.0000, 0.0000, 0.0000, 0.0000,\n",
       "          0.2353, 0.5059, 0.5765, 0.6902, 0.7608, 0.8314, 0.8549, 0.8353,\n",
       "          0.7490, 0.6824, 0.5569, 0.3373, 0.0000, 0.0000, 0.0078, 0.0000,\n",
       "          0.0000, 0.0000, 0.0000, 0.0000]]])"
      ]
     },
     "execution_count": 24,
     "metadata": {},
     "output_type": "execute_result"
    }
   ],
   "source": [
    "# convert random image to tensor\n",
    "image, label = mnist_train[random.randint(0, len(mnist_train))]\n",
    "# to_tensor converts bytes to [0,1] range (divide by 255)\n",
    "image_tensor = TF.to_tensor(image)\n",
    "image_tensor"
   ]
  },
  {
   "cell_type": "code",
   "execution_count": 25,
   "metadata": {
    "collapsed": false,
    "jupyter": {
     "outputs_hidden": false
    },
    "pycharm": {
     "name": "#%%\n"
    }
   },
   "outputs": [
    {
     "data": {
      "text/plain": [
       "torch.Size([1, 28, 28])"
      ]
     },
     "execution_count": 25,
     "metadata": {},
     "output_type": "execute_result"
    }
   ],
   "source": [
    "# image is 1x28x28 - grayscale\n",
    "image_tensor.shape"
   ]
  },
  {
   "cell_type": "code",
   "execution_count": 26,
   "metadata": {
    "collapsed": false,
    "jupyter": {
     "outputs_hidden": false
    },
    "pycharm": {
     "name": "#%%\n"
    }
   },
   "outputs": [
    {
     "name": "stdout",
     "output_type": "stream",
     "text": [
      "Mean for train: 0.28604063391685486\n",
      "Mean for test: 0.2868484556674957\n",
      "Mean over full data: 0.28615602850914\n"
     ]
    }
   ],
   "source": [
    "# Calculate mean and standard deviation needed for data normalization\n",
    "\n",
    "mean_train = 0\n",
    "mean_test = 0\n",
    "\n",
    "for img, _ in mnist_train:\n",
    "    img_tensor = TF.to_tensor(img)\n",
    "    mean_train += torch.mean(img_tensor)\n",
    "\n",
    "for img, _ in mnist_test:\n",
    "    img_tensor = TF.to_tensor(img)\n",
    "    mean_test += torch.mean(img_tensor)\n",
    "\n",
    "mean = (mean_train + mean_test) / (len(mnist_train) + len(mnist_test))\n",
    "mean_train = mean_train / len(mnist_train)\n",
    "mean_test = mean_test / len(mnist_test)\n",
    "\n",
    "print(f\"Mean for train: {mean_train}\")\n",
    "print(f\"Mean for test: {mean_test}\")\n",
    "print(f\"Mean over full data: {mean}\")"
   ]
  },
  {
   "cell_type": "code",
   "execution_count": 27,
   "metadata": {
    "collapsed": false,
    "jupyter": {
     "outputs_hidden": false
    },
    "pycharm": {
     "name": "#%%\n"
    }
   },
   "outputs": [
    {
     "name": "stdout",
     "output_type": "stream",
     "text": [
      "Std for train: 0.35302430391311646\n",
      "Std for test: 0.35244521498680115\n",
      "Std over full data: 0.352941632270813\n"
     ]
    }
   ],
   "source": [
    "std_train = 0\n",
    "std_test = 0\n",
    "\n",
    "for img, _ in mnist_train:\n",
    "    img_tensor = TF.to_tensor(img)\n",
    "    img_tensor = torch.square(img_tensor - mean_train)\n",
    "    std_train += torch.mean(img_tensor)\n",
    "\n",
    "for img, _ in mnist_test:\n",
    "    img_tensor = TF.to_tensor(img)\n",
    "    img_tensor = torch.square(img_tensor - mean_train)\n",
    "    std_test += torch.mean(img_tensor)\n",
    "\n",
    "std = torch.sqrt((std_train + std_test) / (len(mnist_train) + len(mnist_test)))\n",
    "std_train = torch.sqrt(std_train / len(mnist_train))\n",
    "std_test = torch.sqrt(std_test / len(mnist_test))\n",
    "\n",
    "print(f\"Std for train: {std_train}\")\n",
    "print(f\"Std for test: {std_test}\")\n",
    "print(f\"Std over full data: {std}\")"
   ]
  },
  {
   "cell_type": "code",
   "execution_count": 28,
   "metadata": {
    "collapsed": false,
    "jupyter": {
     "outputs_hidden": false
    },
    "pycharm": {
     "name": "#%%\n"
    }
   },
   "outputs": [
    {
     "name": "stdout",
     "output_type": "stream",
     "text": [
      "Black pixel value: -0.810257613658905\n",
      "Mean for train: 0.28604063391685486\n",
      "Std for train: 0.35302430391311646\n"
     ]
    },
    {
     "data": {
      "image/png": "[encoded data removed]",
      "text/plain": [
       "<Figure size 432x288 with 1 Axes>"
      ]
     },
     "metadata": {
      "needs_background": "light"
     },
     "output_type": "display_data"
    }
   ],
   "source": [
    "# normalize data for faster training\n",
    "transform = transforms.Compose([\n",
    "    transforms.ToTensor(),\n",
    "    transforms.Normalize((mean_train,), (std_train,))\n",
    "])\n",
    "# apply transformations to data\n",
    "mnist = FashionMNIST(\"./data\", train=True, download=True, transform=transform)\n",
    "\n",
    "image, label = mnist[0]\n",
    "\n",
    "image_show = np.transpose(image.numpy(), (1, 2, 0))\n",
    "plt.imshow(image_show, cmap='gray')\n",
    "\n",
    "black_pixel = image[0, 0, 0].item()\n",
    "print(f\"Black pixel value: {black_pixel}\")\n",
    "print(f\"Mean for train: {mean_train}\")\n",
    "print(f\"Std for train: {std_train}\")"
   ]
  },
  {
   "cell_type": "code",
   "execution_count": 17,
   "metadata": {
    "collapsed": false,
    "jupyter": {
     "outputs_hidden": false
    },
    "pycharm": {
     "name": "#%%\n"
    }
   },
   "outputs": [
    {
     "data": {
      "image/png": "[encoded data removed]",
      "text/plain": [
       "<Figure size 540x288 with 10 Axes>"
      ]
     },
     "metadata": {
      "needs_background": "light"
     },
     "output_type": "display_data"
    }
   ],
   "source": [
    "num_row = 2\n",
    "num_col = 5\n",
    "num = 10\n",
    "fig, axes = plt.subplots(num_row, num_col, figsize=(1.5 * num_col, 2 * num_row))\n",
    "for i in range(num):\n",
    "    image, label = mnist[random.randint(0, len(mnist_train))]\n",
    "    image_show = np.transpose(image.numpy(), (1, 2, 0))\n",
    "    ax = axes[i // num_col, i % num_col]\n",
    "    ax.imshow(image_show, cmap='gray') # cmap='gray_r' for white bgr\n",
    "    ax.set_title('Label: {}'.format(label))\n",
    "plt.tight_layout()\n",
    "# plt.show()"
   ]
  },
  {
   "cell_type": "code",
   "execution_count": 29,
   "metadata": {
    "collapsed": false,
    "jupyter": {
     "outputs_hidden": false
    },
    "pycharm": {
     "name": "#%%\n"
    }
   },
   "outputs": [
    {
     "data": {
      "image/png": "[encoded data removed]",
      "text/plain": [
       "<Figure size 432x288 with 1 Axes>"
      ]
     },
     "metadata": {
      "needs_background": "light"
     },
     "output_type": "display_data"
    },
    {
     "name": "stdout",
     "output_type": "stream",
     "text": [
      "Image rotated: 22\n"
     ]
    }
   ],
   "source": [
    "image, label = mnist[random.randint(0, len(mnist_train))]\n",
    "angle = random.randint(-30, 30)\n",
    "image = TF.rotate(image, angle, fill=black_pixel)\n",
    "image_show = np.transpose(image.numpy(), (1, 2, 0))\n",
    "plt.imshow(image_show, cmap='gray')\n",
    "plt.show()\n",
    "print(f\"Image rotated: {angle}\")"
   ]
  },
  {
   "cell_type": "code",
   "execution_count": null,
   "metadata": {
    "collapsed": false,
    "jupyter": {
     "outputs_hidden": false
    },
    "pycharm": {
     "name": "#%%\n"
    }
   },
   "outputs": [],
   "source": []
  }
 ],
 "metadata": {
  "kernelspec": {
   "display_name": "Python 3 (ipykernel)",
   "language": "python",
   "name": "python3"
  },
  "language_info": {
   "codemirror_mode": {
    "name": "ipython",
    "version": 3
   },
   "file_extension": ".py",
   "mimetype": "text/x-python",
   "name": "python",
   "nbconvert_exporter": "python",
   "pygments_lexer": "ipython3",
   "version": "3.8.10"
  }
 },
 "nbformat": 4,
 "nbformat_minor": 4
}
