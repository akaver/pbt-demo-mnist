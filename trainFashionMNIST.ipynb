{
 "cells": [
  {
   "cell_type": "code",
   "execution_count": 1,
   "metadata": {
    "tags": [],
    "trusted": false
   },
   "outputs": [],
   "source": [
    "import os\n",
    "import logging\n",
    "import math\n",
    "from filelock import FileLock\n",
    "import random\n",
    "\n",
    "# __import_lightning_begin__\n",
    "import torch\n",
    "import pytorch_lightning as pl\n",
    "from torch.utils.data import DataLoader, random_split\n",
    "from torch.nn import functional as F\n",
    "from torchvision.datasets import FashionMNIST\n",
    "from torchvision import transforms\n",
    "# __import_lightning_end__\n",
    "\n",
    "# __import_tune_begin__\n",
    "from pytorch_lightning.loggers import TensorBoardLogger\n",
    "from ray import tune\n",
    "from ray.tune import CLIReporter, JupyterNotebookReporter\n",
    "from ray.tune.schedulers import PopulationBasedTraining\n",
    "from ray.tune.integration.pytorch_lightning import TuneReportCallback, TuneReportCheckpointCallback\n",
    "# __import_tune_end__\n",
    "\n",
    "from MNISTDataModule import MNISTDataModule\n",
    "from augmentation import TRANSFORM_NAMES\n",
    "from LightningFashionMNIST import LightningFashionMNIST\n"
   ]
  },
  {
   "cell_type": "code",
   "execution_count": 2,
   "metadata": {
    "trusted": false
   },
   "outputs": [],
   "source": [
    "log = logging.getLogger('App')\n",
    "logging.basicConfig(level=logging.INFO)"
   ]
  },
  {
   "cell_type": "code",
   "execution_count": 3,
   "metadata": {
    "collapsed": false,
    "jupyter": {
     "outputs_hidden": false
    },
    "pycharm": {
     "name": "#%%\n"
    },
    "trusted": false
   },
   "outputs": [],
   "source": [
    "def train_mnist_tune_checkpoint(config,\n",
    "                                checkpoint_dir=None,\n",
    "                                # no really used, we stop after every epoch and let tune decide what to do\n",
    "                                num_epochs=999,\n",
    "                                num_gpus=0):\n",
    "    # data_dir = os.path.expanduser(\"~/data\")\n",
    "    data_dir = config[\"data_dir\"]\n",
    "\n",
    "    trainer = pl.Trainer(\n",
    "        max_epochs=num_epochs,\n",
    "        # If fractional GPUs passed in, convert to int.\n",
    "        gpus=math.ceil(num_gpus),\n",
    "        logger=TensorBoardLogger(save_dir=tune.get_trial_dir(), name=\"\", version=\".\"),\n",
    "        progress_bar_refresh_rate=config[\"progress_bar_refresh_rate\"],\n",
    "        num_sanity_val_steps=0,\n",
    "        callbacks=[\n",
    "            TuneReportCheckpointCallback(\n",
    "                metrics={\n",
    "                    \"loss\": \"ptl/val_loss\",\n",
    "                    \"mean_accuracy\": \"ptl/val_acc\"\n",
    "                },\n",
    "                filename=\"checkpoint\",\n",
    "                on=\"validation_end\"\n",
    "            )\n",
    "        ]\n",
    "    )\n",
    "\n",
    "    if checkpoint_dir:\n",
    "        model = LightningFashionMNIST.load_from_checkpoint(os.path.join(checkpoint_dir, \"checkpoint\"), conf=config)\n",
    "        log.info('Lightning loaded from checkpoint')\n",
    "    else:\n",
    "        model = LightningFashionMNIST(conf=config)\n",
    "        log.info('Lightning initialized')\n",
    "\n",
    "    data = MNISTDataModule(conf=config)\n",
    "\n",
    "    trainer.fit(model, data)"
   ]
  },
  {
   "cell_type": "code",
   "execution_count": 4,
   "metadata": {
    "collapsed": false,
    "jupyter": {
     "outputs_hidden": false
    },
    "pycharm": {
     "name": "#%%\n"
    },
    "trusted": false
   },
   "outputs": [],
   "source": [
    "def tune_mnist_pbt(num_samples=15, training_iteration=15, gpus_per_trial=0):\n",
    "    def explore(config):\n",
    "        log.info(\"======================================= EXPLORE =========================================\")\n",
    "        # calculate new magnitudes for augmentations\n",
    "        augmentations = []\n",
    "        for tfn_name in TRANSFORM_NAMES:\n",
    "            augmentations.append((tfn_name, random.random()))\n",
    "\n",
    "        config[\"augmentations\"] = augmentations\n",
    "        log.info(config)\n",
    "        return config\n",
    "\n",
    "    scheduler = PopulationBasedTraining(\n",
    "        time_attr=\"training_iteration\",\n",
    "        # Models will be considered for perturbation at this interval of time_attr=\"time_total_s\"\n",
    "        perturbation_interval=1,\n",
    "        custom_explore_fn=explore,\n",
    "        log_config=True\n",
    "    )\n",
    "\n",
    "    reporter_jupyter = JupyterNotebookReporter(\n",
    "        overwrite=True,\n",
    "        parameter_columns=[\"augmentations\"],\n",
    "        metric_columns=[\"loss\", \"mean_accuracy\", \"training_iteration\"]\n",
    "    )\n",
    "\n",
    "    \"\"\"\n",
    "    # initial config\n",
    "            config={\n",
    "            \"progress_bar_refresh_rate\": 0,\n",
    "            \"layer_1_size\": tune.choice([32, 64, 128, 256, 512, 1024]),\n",
    "            \"layer_2_size\": tune.choice([32, 64, 128, 256, 512, 1024]),\n",
    "            \"lr\": tune.choice([1e-2, 1e-3, 1e-4, 1e-5, 1e-6]),\n",
    "            \"batch_size\": tune.choice([32, 64, 128, 256, 512, 1024, 2048]),\n",
    "        },\n",
    "    \"\"\"\n",
    "\n",
    "    # set up the augmentations\n",
    "    # tuple of augmentation name and its magnitude\n",
    "    augmentations = []\n",
    "    for tfn_name in TRANSFORM_NAMES:\n",
    "        augmentations.append((tfn_name, random.random()))\n",
    "\n",
    "    config={\n",
    "        # https://docs.ray.io/en/master/tune/api_docs/search_space.html?highlight=tune.choice#\n",
    "        \"progress_bar_refresh_rate\": 0,\n",
    "        \"layer_1_size\": 512,\n",
    "        \"layer_2_size\": 512,\n",
    "        \"lr\": 0.00005 ,\n",
    "        \"batch_size\": 1024,\n",
    "        \"data_dir\": \"./data\",\n",
    "        \"data_mean\": 0.28604063391685486,\n",
    "        \"data_std\": 0.35302430391311646,\n",
    "        \"augmentations\": augmentations,\n",
    "    }\n",
    "\n",
    "    analysis = tune.run(\n",
    "        tune.with_parameters(\n",
    "            train_mnist_tune_checkpoint,\n",
    "            num_gpus=gpus_per_trial),\n",
    "        resources_per_trial={\n",
    "            \"cpu\": 1 / 16,\n",
    "            \"gpu\": gpus_per_trial\n",
    "        },\n",
    "        metric=\"loss\",\n",
    "        mode=\"min\",\n",
    "        config=config,\n",
    "        num_samples=num_samples,\n",
    "        scheduler=scheduler,\n",
    "        progress_reporter=reporter_jupyter,\n",
    "        verbose=1,\n",
    "        name=\"FashionMNIST-pbt\",\n",
    "        stop={  # Stop a single trial if one of the conditions are met\n",
    "            \"mean_accuracy\": 0.95,\n",
    "            \"training_iteration\": training_iteration},\n",
    "        local_dir=\"./data\",\n",
    "    )\n",
    "\n",
    "    print(\"Best hyperparameters found were: \", analysis.best_config)\n",
    "    return analysis"
   ]
  },
  {
   "cell_type": "code",
   "execution_count": 7,
   "metadata": {
    "collapsed": false,
    "jupyter": {
     "outputs_hidden": false
    },
    "pycharm": {
     "name": "#%%\n"
    },
    "trusted": false
   },
   "outputs": [
    {
     "data": {
      "text/plain": "<IPython.core.display.HTML object>",
      "text/html": "== Status ==<br>Memory usage on this node: 25.9/62.7 GiB<br>PopulationBasedTraining: 191 checkpoints, 73 perturbs<br>Resources requested: 0/8 CPUs, 0/1 GPUs, 0.0/28.14 GiB heap, 0.0/14.07 GiB objects (0.0/1.0 accelerator_type:G)<br>Current best trial: 898a5_00003 with loss=0.3639688789844513 and parameters={'augmentations': [('blur', 0.2172307474348526), ('rotate_left', 0.19635165171173796), ('rotate_right', 0.21067099883267293)]}<br>Result logdir: /home/akaver/!Dev/pbt-demo-mnist/data/FashionMNIST-pbt<br>Number of trials: 30/30 (30 TERMINATED)<br><br>"
     },
     "metadata": {},
     "output_type": "display_data"
    },
    {
     "name": "stderr",
     "output_type": "stream",
     "text": [
      "\u001B[2m\u001B[36m(pid=393745)\u001B[0m /home/akaver/.local/lib/python3.8/site-packages/pytorch_lightning/trainer/deprecated_api.py:25: LightningDeprecationWarning: `Trainer.running_sanity_check` has been renamed to `Trainer.sanity_checking` and will be removed in v1.5.\n",
      "\u001B[2m\u001B[36m(pid=393745)\u001B[0m   rank_zero_deprecation(\n",
      "2021-10-12 01:26:59,106\tINFO tune.py:550 -- Total run time: 5502.55 seconds (5502.40 seconds for the tuning loop).\n"
     ]
    },
    {
     "name": "stdout",
     "output_type": "stream",
     "text": [
      "Best hyperparameters found were:  {'progress_bar_refresh_rate': 0, 'layer_1_size': 512, 'layer_2_size': 512, 'lr': 5e-05, 'batch_size': 1024, 'data_dir': './data', 'data_mean': 0.28604063391685486, 'data_std': 0.35302430391311646, 'augmentations': [('blur', 0.2172307474348526), ('rotate_left', 0.19635165171173796), ('rotate_right', 0.21067099883267293)]}\n"
     ]
    },
    {
     "data": {
      "text/plain": "{'898a5_00000': {'loss': 0.3831958770751953,\n  'mean_accuracy': 0.8681847453117371,\n  'time_this_iter_s': 90.98991799354553,\n  'should_checkpoint': True,\n  'done': True,\n  'timesteps_total': None,\n  'episodes_total': None,\n  'training_iteration': 15,\n  'experiment_id': 'a3e7298302b543daa77de65b3fac9e40',\n  'date': '2021-10-12_01-21-37',\n  'timestamp': 1633990897,\n  'time_total_s': 1326.476188659668,\n  'pid': 386525,\n  'hostname': 'ml-linux',\n  'node_ip': '192.168.1.23',\n  'config': {'progress_bar_refresh_rate': 0,\n   'layer_1_size': 512,\n   'layer_2_size': 512,\n   'lr': 5e-05,\n   'batch_size': 1024,\n   'data_dir': './data',\n   'data_mean': 0.28604063391685486,\n   'data_std': 0.35302430391311646,\n   'augmentations': [('blur', 0.26791761175640405),\n    ('rotate_left', 0.8723674737797285),\n    ('rotate_right', 0.07890809261122134)]},\n  'time_since_restore': 90.98991799354553,\n  'timesteps_since_restore': 0,\n  'iterations_since_restore': 1,\n  'trial_id': '898a5_00000',\n  'experiment_tag': '0'},\n '898a5_00001': {'loss': 0.38980552554130554,\n  'mean_accuracy': 0.8592151999473572,\n  'time_this_iter_s': 90.83138751983643,\n  'should_checkpoint': True,\n  'done': True,\n  'timesteps_total': None,\n  'episodes_total': None,\n  'training_iteration': 15,\n  'experiment_id': '16c05d37157540828d9ffcd14203b945',\n  'date': '2021-10-12_01-21-49',\n  'timestamp': 1633990909,\n  'time_total_s': 1333.6744899749756,\n  'pid': 386969,\n  'hostname': 'ml-linux',\n  'node_ip': '192.168.1.23',\n  'config': {'progress_bar_refresh_rate': 0,\n   'layer_1_size': 512,\n   'layer_2_size': 512,\n   'lr': 5e-05,\n   'batch_size': 1024,\n   'data_dir': './data',\n   'data_mean': 0.28604063391685486,\n   'data_std': 0.35302430391311646,\n   'augmentations': [('blur', 0.8962607286089472),\n    ('rotate_left', 0.18110364501402665),\n    ('rotate_right', 0.6117953117240493)]},\n  'time_since_restore': 90.83138751983643,\n  'timesteps_since_restore': 0,\n  'iterations_since_restore': 1,\n  'trial_id': '898a5_00001',\n  'experiment_tag': '1@perturbed[]'},\n '898a5_00002': {'loss': 0.3734312951564789,\n  'mean_accuracy': 0.868300199508667,\n  'time_this_iter_s': 90.51305198669434,\n  'should_checkpoint': True,\n  'done': True,\n  'timesteps_total': None,\n  'episodes_total': None,\n  'training_iteration': 15,\n  'experiment_id': 'ec6c73339b114c059245864526b84eef',\n  'date': '2021-10-12_01-21-52',\n  'timestamp': 1633990912,\n  'time_total_s': 1316.5811131000519,\n  'pid': 387272,\n  'hostname': 'ml-linux',\n  'node_ip': '192.168.1.23',\n  'config': {'progress_bar_refresh_rate': 0,\n   'layer_1_size': 512,\n   'layer_2_size': 512,\n   'lr': 5e-05,\n   'batch_size': 1024,\n   'data_dir': './data',\n   'data_mean': 0.28604063391685486,\n   'data_std': 0.35302430391311646,\n   'augmentations': [('blur', 0.26791761175640405),\n    ('rotate_left', 0.8723674737797285),\n    ('rotate_right', 0.07890809261122134)]},\n  'time_since_restore': 90.51305198669434,\n  'timesteps_since_restore': 0,\n  'iterations_since_restore': 1,\n  'trial_id': '898a5_00002',\n  'experiment_tag': '2'},\n '898a5_00003': {'loss': 0.3639688789844513,\n  'mean_accuracy': 0.8723395466804504,\n  'time_this_iter_s': 78.48874497413635,\n  'should_checkpoint': True,\n  'done': True,\n  'timesteps_total': None,\n  'episodes_total': None,\n  'training_iteration': 15,\n  'experiment_id': '20d1294bfbe54d209dc32e1c37c6eed2',\n  'date': '2021-10-12_01-22-32',\n  'timestamp': 1633990952,\n  'time_total_s': 1301.5972554683685,\n  'pid': 387680,\n  'hostname': 'ml-linux',\n  'node_ip': '192.168.1.23',\n  'config': {'progress_bar_refresh_rate': 0,\n   'layer_1_size': 512,\n   'layer_2_size': 512,\n   'lr': 5e-05,\n   'batch_size': 1024,\n   'data_dir': './data',\n   'data_mean': 0.28604063391685486,\n   'data_std': 0.35302430391311646,\n   'augmentations': [('blur', 0.2172307474348526),\n    ('rotate_left', 0.19635165171173796),\n    ('rotate_right', 0.21067099883267293)]},\n  'time_since_restore': 78.48874497413635,\n  'timesteps_since_restore': 0,\n  'iterations_since_restore': 1,\n  'trial_id': '898a5_00003',\n  'experiment_tag': '3@perturbed[]'},\n '898a5_00004': {'loss': 0.3835768401622772,\n  'mean_accuracy': 0.8619081377983093,\n  'time_this_iter_s': 91.02805233001709,\n  'should_checkpoint': True,\n  'done': True,\n  'timesteps_total': None,\n  'episodes_total': None,\n  'training_iteration': 15,\n  'experiment_id': 'ec6c73339b114c059245864526b84eef',\n  'date': '2021-10-12_01-22-45',\n  'timestamp': 1633990965,\n  'time_total_s': 1312.389773607254,\n  'pid': 387741,\n  'hostname': 'ml-linux',\n  'node_ip': '192.168.1.23',\n  'config': {'progress_bar_refresh_rate': 0,\n   'layer_1_size': 512,\n   'layer_2_size': 512,\n   'lr': 5e-05,\n   'batch_size': 1024,\n   'data_dir': './data',\n   'data_mean': 0.28604063391685486,\n   'data_std': 0.35302430391311646,\n   'augmentations': [('blur', 0.3217731978819849),\n    ('rotate_left', 0.12998081679326234),\n    ('rotate_right', 0.48641206035354445)]},\n  'time_since_restore': 91.02805233001709,\n  'timesteps_since_restore': 0,\n  'iterations_since_restore': 1,\n  'trial_id': '898a5_00004',\n  'experiment_tag': '4@perturbed[]'},\n '898a5_00005': {'loss': 0.3897041976451874,\n  'mean_accuracy': 0.8602567911148071,\n  'time_this_iter_s': 82.86768627166748,\n  'should_checkpoint': True,\n  'done': True,\n  'timesteps_total': None,\n  'episodes_total': None,\n  'training_iteration': 15,\n  'experiment_id': '4a8475881e9c427ba3c50072c45065c3',\n  'date': '2021-10-12_01-22-58',\n  'timestamp': 1633990978,\n  'time_total_s': 1303.2081398963928,\n  'pid': 388137,\n  'hostname': 'ml-linux',\n  'node_ip': '192.168.1.23',\n  'config': {'progress_bar_refresh_rate': 0,\n   'layer_1_size': 512,\n   'layer_2_size': 512,\n   'lr': 5e-05,\n   'batch_size': 1024,\n   'data_dir': './data',\n   'data_mean': 0.28604063391685486,\n   'data_std': 0.35302430391311646,\n   'augmentations': [('blur', 0.10039385958246316),\n    ('rotate_left', 0.8064147488447307),\n    ('rotate_right', 0.1032053972419128)]},\n  'time_since_restore': 82.86768627166748,\n  'timesteps_since_restore': 0,\n  'iterations_since_restore': 1,\n  'trial_id': '898a5_00005',\n  'experiment_tag': '5@perturbed[]'},\n '898a5_00006': {'loss': 0.39732909202575684,\n  'mean_accuracy': 0.8574100136756897,\n  'time_this_iter_s': 93.1347725391388,\n  'should_checkpoint': True,\n  'done': True,\n  'timesteps_total': None,\n  'episodes_total': None,\n  'training_iteration': 15,\n  'experiment_id': 'c80642187f49461f94b4f1184657a566',\n  'date': '2021-10-12_01-23-09',\n  'timestamp': 1633990989,\n  'time_total_s': 1351.5848841667175,\n  'pid': 388180,\n  'hostname': 'ml-linux',\n  'node_ip': '192.168.1.23',\n  'config': {'progress_bar_refresh_rate': 0,\n   'layer_1_size': 512,\n   'layer_2_size': 512,\n   'lr': 5e-05,\n   'batch_size': 1024,\n   'data_dir': './data',\n   'data_mean': 0.28604063391685486,\n   'data_std': 0.35302430391311646,\n   'augmentations': [('blur', 0.8100790538046344),\n    ('rotate_left', 0.9734992258111789),\n    ('rotate_right', 0.435756907695807)]},\n  'time_since_restore': 93.1347725391388,\n  'timesteps_since_restore': 0,\n  'iterations_since_restore': 1,\n  'trial_id': '898a5_00006',\n  'experiment_tag': '6@perturbed[]'},\n '898a5_00007': {'loss': 0.4039955139160156,\n  'mean_accuracy': 0.8543353080749512,\n  'time_this_iter_s': 93.93350958824158,\n  'should_checkpoint': True,\n  'done': True,\n  'timesteps_total': None,\n  'episodes_total': None,\n  'training_iteration': 15,\n  'experiment_id': 'ec6c73339b114c059245864526b84eef',\n  'date': '2021-10-12_01-23-13',\n  'timestamp': 1633990993,\n  'time_total_s': 1288.5215320587158,\n  'pid': 388366,\n  'hostname': 'ml-linux',\n  'node_ip': '192.168.1.23',\n  'config': {'progress_bar_refresh_rate': 0,\n   'layer_1_size': 512,\n   'layer_2_size': 512,\n   'lr': 5e-05,\n   'batch_size': 1024,\n   'data_dir': './data',\n   'data_mean': 0.28604063391685486,\n   'data_std': 0.35302430391311646,\n   'augmentations': [('blur', 0.6646323431624133),\n    ('rotate_left', 0.8745127321248576),\n    ('rotate_right', 0.5030656880700015)]},\n  'time_since_restore': 93.93350958824158,\n  'timesteps_since_restore': 0,\n  'iterations_since_restore': 1,\n  'trial_id': '898a5_00007',\n  'experiment_tag': '7@perturbed[]'},\n '898a5_00008': {'loss': 0.3922060430049896,\n  'mean_accuracy': 0.8550722002983093,\n  'time_this_iter_s': 88.94735312461853,\n  'should_checkpoint': True,\n  'done': True,\n  'timesteps_total': None,\n  'episodes_total': None,\n  'training_iteration': 15,\n  'experiment_id': 'aef841aa40f74e6892cb0ec1f1db5734',\n  'date': '2021-10-12_01-23-09',\n  'timestamp': 1633990989,\n  'time_total_s': 1325.5914752483368,\n  'pid': 388402,\n  'hostname': 'ml-linux',\n  'node_ip': '192.168.1.23',\n  'config': {'progress_bar_refresh_rate': 0,\n   'layer_1_size': 512,\n   'layer_2_size': 512,\n   'lr': 5e-05,\n   'batch_size': 1024,\n   'data_dir': './data',\n   'data_mean': 0.28604063391685486,\n   'data_std': 0.35302430391311646,\n   'augmentations': [('blur', 0.26791761175640405),\n    ('rotate_left', 0.8723674737797285),\n    ('rotate_right', 0.07890809261122134)]},\n  'time_since_restore': 88.94735312461853,\n  'timesteps_since_restore': 0,\n  'iterations_since_restore': 1,\n  'trial_id': '898a5_00008',\n  'experiment_tag': '8'},\n '898a5_00009': {'loss': 0.37485891580581665,\n  'mean_accuracy': 0.8688417077064514,\n  'time_this_iter_s': 86.99569463729858,\n  'should_checkpoint': True,\n  'done': True,\n  'timesteps_total': None,\n  'episodes_total': None,\n  'training_iteration': 15,\n  'experiment_id': '4b3e837db45a46de881d75448cde387f',\n  'date': '2021-10-12_01-23-21',\n  'timestamp': 1633991001,\n  'time_total_s': 1325.7763946056366,\n  'pid': 389011,\n  'hostname': 'ml-linux',\n  'node_ip': '192.168.1.23',\n  'config': {'progress_bar_refresh_rate': 0,\n   'layer_1_size': 512,\n   'layer_2_size': 512,\n   'lr': 5e-05,\n   'batch_size': 1024,\n   'data_dir': './data',\n   'data_mean': 0.28604063391685486,\n   'data_std': 0.35302430391311646,\n   'augmentations': [('blur', 0.26791761175640405),\n    ('rotate_left', 0.8723674737797285),\n    ('rotate_right', 0.07890809261122134)]},\n  'time_since_restore': 86.99569463729858,\n  'timesteps_since_restore': 0,\n  'iterations_since_restore': 1,\n  'trial_id': '898a5_00009',\n  'experiment_tag': '9'},\n '898a5_00010': {'loss': 0.4023226797580719,\n  'mean_accuracy': 0.8525212407112122,\n  'time_this_iter_s': 88.77396821975708,\n  'should_checkpoint': True,\n  'done': True,\n  'timesteps_total': None,\n  'episodes_total': None,\n  'training_iteration': 15,\n  'experiment_id': 'a3e7298302b543daa77de65b3fac9e40',\n  'date': '2021-10-12_01-23-24',\n  'timestamp': 1633991004,\n  'time_total_s': 1322.1436157226562,\n  'pid': 389144,\n  'hostname': 'ml-linux',\n  'node_ip': '192.168.1.23',\n  'config': {'progress_bar_refresh_rate': 0,\n   'layer_1_size': 512,\n   'layer_2_size': 512,\n   'lr': 5e-05,\n   'batch_size': 1024,\n   'data_dir': './data',\n   'data_mean': 0.28604063391685486,\n   'data_std': 0.35302430391311646,\n   'augmentations': [('blur', 0.6408846423583455),\n    ('rotate_left', 0.3982740766477424),\n    ('rotate_right', 0.27258244136968046)]},\n  'time_since_restore': 88.77396821975708,\n  'timesteps_since_restore': 0,\n  'iterations_since_restore': 1,\n  'trial_id': '898a5_00010',\n  'experiment_tag': '10@perturbed[]'},\n '898a5_00011': {'loss': 0.3994269073009491,\n  'mean_accuracy': 0.8549893498420715,\n  'time_this_iter_s': 89.03278017044067,\n  'should_checkpoint': True,\n  'done': True,\n  'timesteps_total': None,\n  'episodes_total': None,\n  'training_iteration': 15,\n  'experiment_id': '413e8350cc5a48c786ffed09b4f38241',\n  'date': '2021-10-12_01-24-05',\n  'timestamp': 1633991045,\n  'time_total_s': 1322.691279411316,\n  'pid': 389488,\n  'hostname': 'ml-linux',\n  'node_ip': '192.168.1.23',\n  'config': {'progress_bar_refresh_rate': 0,\n   'layer_1_size': 512,\n   'layer_2_size': 512,\n   'lr': 5e-05,\n   'batch_size': 1024,\n   'data_dir': './data',\n   'data_mean': 0.28604063391685486,\n   'data_std': 0.35302430391311646,\n   'augmentations': [('blur', 0.26791761175640405),\n    ('rotate_left', 0.8723674737797285),\n    ('rotate_right', 0.07890809261122134)]},\n  'time_since_restore': 89.03278017044067,\n  'timesteps_since_restore': 0,\n  'iterations_since_restore': 1,\n  'trial_id': '898a5_00011',\n  'experiment_tag': '11'},\n '898a5_00012': {'loss': 0.3976994454860687,\n  'mean_accuracy': 0.8589193224906921,\n  'time_this_iter_s': 81.08519911766052,\n  'should_checkpoint': True,\n  'done': True,\n  'timesteps_total': None,\n  'episodes_total': None,\n  'training_iteration': 15,\n  'experiment_id': 'a3e7298302b543daa77de65b3fac9e40',\n  'date': '2021-10-12_01-24-10',\n  'timestamp': 1633991050,\n  'time_total_s': 1276.959794998169,\n  'pid': 389701,\n  'hostname': 'ml-linux',\n  'node_ip': '192.168.1.23',\n  'config': {'progress_bar_refresh_rate': 0,\n   'layer_1_size': 512,\n   'layer_2_size': 512,\n   'lr': 5e-05,\n   'batch_size': 1024,\n   'data_dir': './data',\n   'data_mean': 0.28604063391685486,\n   'data_std': 0.35302430391311646,\n   'augmentations': [('blur', 0.1856788402437185),\n    ('rotate_left', 0.9310092115188293),\n    ('rotate_right', 0.2372092997453702)]},\n  'time_since_restore': 81.08519911766052,\n  'timesteps_since_restore': 0,\n  'iterations_since_restore': 1,\n  'trial_id': '898a5_00012',\n  'experiment_tag': '12@perturbed[]'},\n '898a5_00013': {'loss': 0.3849392533302307,\n  'mean_accuracy': 0.8561079502105713,\n  'time_this_iter_s': 89.81110525131226,\n  'should_checkpoint': True,\n  'done': True,\n  'timesteps_total': None,\n  'episodes_total': None,\n  'training_iteration': 15,\n  'experiment_id': '64cc7ae15f5645a8a53208b537d300a6',\n  'date': '2021-10-12_01-24-31',\n  'timestamp': 1633991071,\n  'time_total_s': 1329.7540974617004,\n  'pid': 389915,\n  'hostname': 'ml-linux',\n  'node_ip': '192.168.1.23',\n  'config': {'progress_bar_refresh_rate': 0,\n   'layer_1_size': 512,\n   'layer_2_size': 512,\n   'lr': 5e-05,\n   'batch_size': 1024,\n   'data_dir': './data',\n   'data_mean': 0.28604063391685486,\n   'data_std': 0.35302430391311646,\n   'augmentations': [('blur', 0.26791761175640405),\n    ('rotate_left', 0.8723674737797285),\n    ('rotate_right', 0.07890809261122134)]},\n  'time_since_restore': 89.81110525131226,\n  'timesteps_since_restore': 0,\n  'iterations_since_restore': 1,\n  'trial_id': '898a5_00013',\n  'experiment_tag': '13'},\n '898a5_00014': {'loss': 0.36873146891593933,\n  'mean_accuracy': 0.8665158152580261,\n  'time_this_iter_s': 90.46929049491882,\n  'should_checkpoint': True,\n  'done': True,\n  'timesteps_total': None,\n  'episodes_total': None,\n  'training_iteration': 15,\n  'experiment_id': '20d1294bfbe54d209dc32e1c37c6eed2',\n  'date': '2021-10-12_01-24-43',\n  'timestamp': 1633991083,\n  'time_total_s': 1327.86781001091,\n  'pid': 390170,\n  'hostname': 'ml-linux',\n  'node_ip': '192.168.1.23',\n  'config': {'progress_bar_refresh_rate': 0,\n   'layer_1_size': 512,\n   'layer_2_size': 512,\n   'lr': 5e-05,\n   'batch_size': 1024,\n   'data_dir': './data',\n   'data_mean': 0.28604063391685486,\n   'data_std': 0.35302430391311646,\n   'augmentations': [('blur', 0.7129817103713567),\n    ('rotate_left', 0.09256880579677385),\n    ('rotate_right', 0.13630303731298177)]},\n  'time_since_restore': 90.46929049491882,\n  'timesteps_since_restore': 0,\n  'iterations_since_restore': 1,\n  'trial_id': '898a5_00014',\n  'experiment_tag': '14@perturbed[]'},\n '898a5_00015': {'loss': 0.37257617712020874,\n  'mean_accuracy': 0.8687292337417603,\n  'time_this_iter_s': 90.39149928092957,\n  'should_checkpoint': True,\n  'done': True,\n  'timesteps_total': None,\n  'episodes_total': None,\n  'training_iteration': 15,\n  'experiment_id': '20d1294bfbe54d209dc32e1c37c6eed2',\n  'date': '2021-10-12_01-24-43',\n  'timestamp': 1633991083,\n  'time_total_s': 1328.3152153491974,\n  'pid': 390177,\n  'hostname': 'ml-linux',\n  'node_ip': '192.168.1.23',\n  'config': {'progress_bar_refresh_rate': 0,\n   'layer_1_size': 512,\n   'layer_2_size': 512,\n   'lr': 5e-05,\n   'batch_size': 1024,\n   'data_dir': './data',\n   'data_mean': 0.28604063391685486,\n   'data_std': 0.35302430391311646,\n   'augmentations': [('blur', 0.26791761175640405),\n    ('rotate_left', 0.8723674737797285),\n    ('rotate_right', 0.07890809261122134)]},\n  'time_since_restore': 90.39149928092957,\n  'timesteps_since_restore': 0,\n  'iterations_since_restore': 1,\n  'trial_id': '898a5_00015',\n  'experiment_tag': '15'},\n '898a5_00016': {'loss': 0.38524365425109863,\n  'mean_accuracy': 0.8663026690483093,\n  'time_this_iter_s': 91.74665999412537,\n  'should_checkpoint': True,\n  'done': True,\n  'timesteps_total': None,\n  'episodes_total': None,\n  'training_iteration': 15,\n  'experiment_id': '06bd1663f59e4b028bd0d8347abf5c65',\n  'date': '2021-10-12_01-24-48',\n  'timestamp': 1633991088,\n  'time_total_s': 1353.8346090316772,\n  'pid': 390433,\n  'hostname': 'ml-linux',\n  'node_ip': '192.168.1.23',\n  'config': {'progress_bar_refresh_rate': 0,\n   'layer_1_size': 512,\n   'layer_2_size': 512,\n   'lr': 5e-05,\n   'batch_size': 1024,\n   'data_dir': './data',\n   'data_mean': 0.28604063391685486,\n   'data_std': 0.35302430391311646,\n   'augmentations': [('blur', 0.26791761175640405),\n    ('rotate_left', 0.8723674737797285),\n    ('rotate_right', 0.07890809261122134)]},\n  'time_since_restore': 91.74665999412537,\n  'timesteps_since_restore': 0,\n  'iterations_since_restore': 1,\n  'trial_id': '898a5_00016',\n  'experiment_tag': '16'},\n '898a5_00017': {'loss': 0.37585219740867615,\n  'mean_accuracy': 0.8675159811973572,\n  'time_this_iter_s': 92.08593726158142,\n  'should_checkpoint': True,\n  'done': True,\n  'timesteps_total': None,\n  'episodes_total': None,\n  'training_iteration': 15,\n  'experiment_id': 'c80642187f49461f94b4f1184657a566',\n  'date': '2021-10-12_01-24-58',\n  'timestamp': 1633991098,\n  'time_total_s': 1348.1715548038483,\n  'pid': 390628,\n  'hostname': 'ml-linux',\n  'node_ip': '192.168.1.23',\n  'config': {'progress_bar_refresh_rate': 0,\n   'layer_1_size': 512,\n   'layer_2_size': 512,\n   'lr': 5e-05,\n   'batch_size': 1024,\n   'data_dir': './data',\n   'data_mean': 0.28604063391685486,\n   'data_std': 0.35302430391311646,\n   'augmentations': [('blur', 0.5419721706305467),\n    ('rotate_left', 0.6087951033277458),\n    ('rotate_right', 0.05767547988318622)]},\n  'time_since_restore': 92.08593726158142,\n  'timesteps_since_restore': 0,\n  'iterations_since_restore': 1,\n  'trial_id': '898a5_00017',\n  'experiment_tag': '17@perturbed[]'},\n '898a5_00018': {'loss': 0.419151246547699,\n  'mean_accuracy': 0.8485174179077148,\n  'time_this_iter_s': 94.82508730888367,\n  'should_checkpoint': True,\n  'done': True,\n  'timesteps_total': None,\n  'episodes_total': None,\n  'training_iteration': 15,\n  'experiment_id': '20d1294bfbe54d209dc32e1c37c6eed2',\n  'date': '2021-10-12_01-25-03',\n  'timestamp': 1633991103,\n  'time_total_s': 1332.7488033771515,\n  'pid': 390889,\n  'hostname': 'ml-linux',\n  'node_ip': '192.168.1.23',\n  'config': {'progress_bar_refresh_rate': 0,\n   'layer_1_size': 512,\n   'layer_2_size': 512,\n   'lr': 5e-05,\n   'batch_size': 1024,\n   'data_dir': './data',\n   'data_mean': 0.28604063391685486,\n   'data_std': 0.35302430391311646,\n   'augmentations': [('blur', 0.8709789664658503),\n    ('rotate_left', 0.8000683262213036),\n    ('rotate_right', 0.7371893985558761)]},\n  'time_since_restore': 94.82508730888367,\n  'timesteps_since_restore': 0,\n  'iterations_since_restore': 1,\n  'trial_id': '898a5_00018',\n  'experiment_tag': '18@perturbed[]'},\n '898a5_00019': {'loss': 0.40191614627838135,\n  'mean_accuracy': 0.859431266784668,\n  'time_this_iter_s': 94.61247515678406,\n  'should_checkpoint': True,\n  'done': True,\n  'timesteps_total': None,\n  'episodes_total': None,\n  'training_iteration': 15,\n  'experiment_id': 'aef841aa40f74e6892cb0ec1f1db5734',\n  'date': '2021-10-12_01-25-43',\n  'timestamp': 1633991143,\n  'time_total_s': 1331.2565972805023,\n  'pid': 391348,\n  'hostname': 'ml-linux',\n  'node_ip': '192.168.1.23',\n  'config': {'progress_bar_refresh_rate': 0,\n   'layer_1_size': 512,\n   'layer_2_size': 512,\n   'lr': 5e-05,\n   'batch_size': 1024,\n   'data_dir': './data',\n   'data_mean': 0.28604063391685486,\n   'data_std': 0.35302430391311646,\n   'augmentations': [('blur', 0.8160429703259656),\n    ('rotate_left', 0.18949627843232408),\n    ('rotate_right', 0.8924409520575199)]},\n  'time_since_restore': 94.61247515678406,\n  'timesteps_since_restore': 0,\n  'iterations_since_restore': 1,\n  'trial_id': '898a5_00019',\n  'experiment_tag': '19@perturbed[]'},\n '898a5_00020': {'loss': 0.38532090187072754,\n  'mean_accuracy': 0.863556444644928,\n  'time_this_iter_s': 91.55967330932617,\n  'should_checkpoint': True,\n  'done': True,\n  'timesteps_total': None,\n  'episodes_total': None,\n  'training_iteration': 15,\n  'experiment_id': '16c05d37157540828d9ffcd14203b945',\n  'date': '2021-10-12_01-25-45',\n  'timestamp': 1633991145,\n  'time_total_s': 1333.7288393974304,\n  'pid': 391494,\n  'hostname': 'ml-linux',\n  'node_ip': '192.168.1.23',\n  'config': {'progress_bar_refresh_rate': 0,\n   'layer_1_size': 512,\n   'layer_2_size': 512,\n   'lr': 5e-05,\n   'batch_size': 1024,\n   'data_dir': './data',\n   'data_mean': 0.28604063391685486,\n   'data_std': 0.35302430391311646,\n   'augmentations': [('blur', 0.26791761175640405),\n    ('rotate_left', 0.8723674737797285),\n    ('rotate_right', 0.07890809261122134)]},\n  'time_since_restore': 91.55967330932617,\n  'timesteps_since_restore': 0,\n  'iterations_since_restore': 1,\n  'trial_id': '898a5_00020',\n  'experiment_tag': '20'},\n '898a5_00021': {'loss': 0.37185928225517273,\n  'mean_accuracy': 0.8702030777931213,\n  'time_this_iter_s': 90.57468557357788,\n  'should_checkpoint': True,\n  'done': True,\n  'timesteps_total': None,\n  'episodes_total': None,\n  'training_iteration': 15,\n  'experiment_id': 'a3e7298302b543daa77de65b3fac9e40',\n  'date': '2021-10-12_01-26-05',\n  'timestamp': 1633991165,\n  'time_total_s': 1326.0609562397003,\n  'pid': 391839,\n  'hostname': 'ml-linux',\n  'node_ip': '192.168.1.23',\n  'config': {'progress_bar_refresh_rate': 0,\n   'layer_1_size': 512,\n   'layer_2_size': 512,\n   'lr': 5e-05,\n   'batch_size': 1024,\n   'data_dir': './data',\n   'data_mean': 0.28604063391685486,\n   'data_std': 0.35302430391311646,\n   'augmentations': [('blur', 0.8387060184840467),\n    ('rotate_left', 0.1567554078986313),\n    ('rotate_right', 0.009068682948733309)]},\n  'time_since_restore': 90.57468557357788,\n  'timesteps_since_restore': 0,\n  'iterations_since_restore': 1,\n  'trial_id': '898a5_00021',\n  'experiment_tag': '21@perturbed[]'},\n '898a5_00022': {'loss': 0.39119669795036316,\n  'mean_accuracy': 0.8616891503334045,\n  'time_this_iter_s': 91.71103620529175,\n  'should_checkpoint': True,\n  'done': True,\n  'timesteps_total': None,\n  'episodes_total': None,\n  'training_iteration': 15,\n  'experiment_id': '4bfaba0685af4965800ce18fea5f068b',\n  'date': '2021-10-12_01-26-19',\n  'timestamp': 1633991179,\n  'time_total_s': 1336.5789251327515,\n  'pid': 392186,\n  'hostname': 'ml-linux',\n  'node_ip': '192.168.1.23',\n  'config': {'progress_bar_refresh_rate': 0,\n   'layer_1_size': 512,\n   'layer_2_size': 512,\n   'lr': 5e-05,\n   'batch_size': 1024,\n   'data_dir': './data',\n   'data_mean': 0.28604063391685486,\n   'data_std': 0.35302430391311646,\n   'augmentations': [('blur', 0.26791761175640405),\n    ('rotate_left', 0.8723674737797285),\n    ('rotate_right', 0.07890809261122134)]},\n  'time_since_restore': 91.71103620529175,\n  'timesteps_since_restore': 0,\n  'iterations_since_restore': 1,\n  'trial_id': '898a5_00022',\n  'experiment_tag': '22'},\n '898a5_00023': {'loss': 0.39191827178001404,\n  'mean_accuracy': 0.8575403094291687,\n  'time_this_iter_s': 89.76906085014343,\n  'should_checkpoint': True,\n  'done': True,\n  'timesteps_total': None,\n  'episodes_total': None,\n  'training_iteration': 15,\n  'experiment_id': '4a8475881e9c427ba3c50072c45065c3',\n  'date': '2021-10-12_01-26-17',\n  'timestamp': 1633991177,\n  'time_total_s': 1346.2691941261292,\n  'pid': 392183,\n  'hostname': 'ml-linux',\n  'node_ip': '192.168.1.23',\n  'config': {'progress_bar_refresh_rate': 0,\n   'layer_1_size': 512,\n   'layer_2_size': 512,\n   'lr': 5e-05,\n   'batch_size': 1024,\n   'data_dir': './data',\n   'data_mean': 0.28604063391685486,\n   'data_std': 0.35302430391311646,\n   'augmentations': [('blur', 0.26791761175640405),\n    ('rotate_left', 0.8723674737797285),\n    ('rotate_right', 0.07890809261122134)]},\n  'time_since_restore': 89.76906085014343,\n  'timesteps_since_restore': 0,\n  'iterations_since_restore': 1,\n  'trial_id': '898a5_00023',\n  'experiment_tag': '23'},\n '898a5_00024': {'loss': 0.39395201206207275,\n  'mean_accuracy': 0.8587269186973572,\n  'time_this_iter_s': 89.81635451316833,\n  'should_checkpoint': True,\n  'done': True,\n  'timesteps_total': None,\n  'episodes_total': None,\n  'training_iteration': 15,\n  'experiment_id': '8ef4b59aecb84853a97a0db9628794f2',\n  'date': '2021-10-12_01-26-21',\n  'timestamp': 1633991181,\n  'time_total_s': 1329.4379901885986,\n  'pid': 392402,\n  'hostname': 'ml-linux',\n  'node_ip': '192.168.1.23',\n  'config': {'progress_bar_refresh_rate': 0,\n   'layer_1_size': 512,\n   'layer_2_size': 512,\n   'lr': 5e-05,\n   'batch_size': 1024,\n   'data_dir': './data',\n   'data_mean': 0.28604063391685486,\n   'data_std': 0.35302430391311646,\n   'augmentations': [('blur', 0.26791761175640405),\n    ('rotate_left', 0.8723674737797285),\n    ('rotate_right', 0.07890809261122134)]},\n  'time_since_restore': 89.81635451316833,\n  'timesteps_since_restore': 0,\n  'iterations_since_restore': 1,\n  'trial_id': '898a5_00024',\n  'experiment_tag': '24'},\n '898a5_00025': {'loss': 0.39328739047050476,\n  'mean_accuracy': 0.8553709983825684,\n  'time_this_iter_s': 86.95563554763794,\n  'should_checkpoint': True,\n  'done': True,\n  'timesteps_total': None,\n  'episodes_total': None,\n  'training_iteration': 15,\n  'experiment_id': '4bfaba0685af4965800ce18fea5f068b',\n  'date': '2021-10-12_01-26-30',\n  'timestamp': 1633991190,\n  'time_total_s': 1331.8235244750977,\n  'pid': 392723,\n  'hostname': 'ml-linux',\n  'node_ip': '192.168.1.23',\n  'config': {'progress_bar_refresh_rate': 0,\n   'layer_1_size': 512,\n   'layer_2_size': 512,\n   'lr': 5e-05,\n   'batch_size': 1024,\n   'data_dir': './data',\n   'data_mean': 0.28604063391685486,\n   'data_std': 0.35302430391311646,\n   'augmentations': [('blur', 0.8685699712003884),\n    ('rotate_left', 0.5763976228298773),\n    ('rotate_right', 0.46494310723091725)]},\n  'time_since_restore': 86.95563554763794,\n  'timesteps_since_restore': 0,\n  'iterations_since_restore': 1,\n  'trial_id': '898a5_00025',\n  'experiment_tag': '25@perturbed[]'},\n '898a5_00026': {'loss': 0.3738026022911072,\n  'mean_accuracy': 0.866267204284668,\n  'time_this_iter_s': 84.19011545181274,\n  'should_checkpoint': True,\n  'done': True,\n  'timesteps_total': None,\n  'episodes_total': None,\n  'training_iteration': 15,\n  'experiment_id': '79dd79aaabc2456a887788d437bfac10',\n  'date': '2021-10-12_01-26-31',\n  'timestamp': 1633991191,\n  'time_total_s': 1336.3707752227783,\n  'pid': 392961,\n  'hostname': 'ml-linux',\n  'node_ip': '192.168.1.23',\n  'config': {'progress_bar_refresh_rate': 0,\n   'layer_1_size': 512,\n   'layer_2_size': 512,\n   'lr': 5e-05,\n   'batch_size': 1024,\n   'data_dir': './data',\n   'data_mean': 0.28604063391685486,\n   'data_std': 0.35302430391311646,\n   'augmentations': [('blur', 0.6049601084013574),\n    ('rotate_left', 0.898085740630053),\n    ('rotate_right', 0.08536320335954406)]},\n  'time_since_restore': 84.19011545181274,\n  'timesteps_since_restore': 0,\n  'iterations_since_restore': 1,\n  'trial_id': '898a5_00026',\n  'experiment_tag': '26@perturbed[]'},\n '898a5_00027': {'loss': 0.3934386968612671,\n  'mean_accuracy': 0.8552024364471436,\n  'time_this_iter_s': 57.549426317214966,\n  'should_checkpoint': True,\n  'done': True,\n  'timesteps_total': None,\n  'episodes_total': None,\n  'training_iteration': 15,\n  'experiment_id': 'aef841aa40f74e6892cb0ec1f1db5734',\n  'date': '2021-10-12_01-26-44',\n  'timestamp': 1633991204,\n  'time_total_s': 1294.1935484409332,\n  'pid': 393316,\n  'hostname': 'ml-linux',\n  'node_ip': '192.168.1.23',\n  'config': {'progress_bar_refresh_rate': 0,\n   'layer_1_size': 512,\n   'layer_2_size': 512,\n   'lr': 5e-05,\n   'batch_size': 1024,\n   'data_dir': './data',\n   'data_mean': 0.28604063391685486,\n   'data_std': 0.35302430391311646,\n   'augmentations': [('blur', 0.16017225372065824),\n    ('rotate_left', 0.14235651368150393),\n    ('rotate_right', 0.10316221087755906)]},\n  'time_since_restore': 57.549426317214966,\n  'timesteps_since_restore': 0,\n  'iterations_since_restore': 1,\n  'trial_id': '898a5_00027',\n  'experiment_tag': '27@perturbed[]'},\n '898a5_00028': {'loss': 0.3839847445487976,\n  'mean_accuracy': 0.8613103032112122,\n  'time_this_iter_s': 60.44637680053711,\n  'should_checkpoint': True,\n  'done': True,\n  'timesteps_total': None,\n  'episodes_total': None,\n  'training_iteration': 15,\n  'experiment_id': 'a3e7298302b543daa77de65b3fac9e40',\n  'date': '2021-10-12_01-26-49',\n  'timestamp': 1633991209,\n  'time_total_s': 1305.1758782863617,\n  'pid': 393324,\n  'hostname': 'ml-linux',\n  'node_ip': '192.168.1.23',\n  'config': {'progress_bar_refresh_rate': 0,\n   'layer_1_size': 512,\n   'layer_2_size': 512,\n   'lr': 5e-05,\n   'batch_size': 1024,\n   'data_dir': './data',\n   'data_mean': 0.28604063391685486,\n   'data_std': 0.35302430391311646,\n   'augmentations': [('blur', 0.3426974560999353),\n    ('rotate_left', 0.14993738729010986),\n    ('rotate_right', 0.17080378258944828)]},\n  'time_since_restore': 60.44637680053711,\n  'timesteps_since_restore': 0,\n  'iterations_since_restore': 1,\n  'trial_id': '898a5_00028',\n  'experiment_tag': '28@perturbed[]'},\n '898a5_00029': {'loss': 0.4236964285373688,\n  'mean_accuracy': 0.8509232997894287,\n  'time_this_iter_s': 49.329551696777344,\n  'should_checkpoint': True,\n  'done': True,\n  'timesteps_total': None,\n  'episodes_total': None,\n  'training_iteration': 15,\n  'experiment_id': 'a3e7298302b543daa77de65b3fac9e40',\n  'date': '2021-10-12_01-26-58',\n  'timestamp': 1633991218,\n  'time_total_s': 1284.8158223628998,\n  'pid': 393745,\n  'hostname': 'ml-linux',\n  'node_ip': '192.168.1.23',\n  'config': {'progress_bar_refresh_rate': 0,\n   'layer_1_size': 512,\n   'layer_2_size': 512,\n   'lr': 5e-05,\n   'batch_size': 1024,\n   'data_dir': './data',\n   'data_mean': 0.28604063391685486,\n   'data_std': 0.35302430391311646,\n   'augmentations': [('blur', 0.8058635468072575),\n    ('rotate_left', 0.5007497802978901),\n    ('rotate_right', 0.8794379616574235)]},\n  'time_since_restore': 49.329551696777344,\n  'timesteps_since_restore': 0,\n  'iterations_since_restore': 1,\n  'trial_id': '898a5_00029',\n  'experiment_tag': '29@perturbed[]'}}"
     },
     "execution_count": 7,
     "metadata": {},
     "output_type": "execute_result"
    }
   ],
   "source": [
    "analysis = tune_mnist_pbt(num_samples=30, training_iteration=15, gpus_per_trial=1/8)\n",
    "analysis.best_config\n",
    "analysis.results"
   ]
  },
  {
   "cell_type": "code",
   "execution_count": 5,
   "metadata": {
    "trusted": false
   },
   "outputs": [
    {
     "data": {
      "text/html": "== Status ==<br>Memory usage on this node: 40.4/62.7 GiB<br>PopulationBasedTraining: 0 checkpoints, 0 perturbs<br>Resources requested: 0/8 CPUs, 0/1 GPUs, 0.0/35.32 GiB heap, 0.0/17.66 GiB objects (0.0/1.0 accelerator_type:G)<br>Result logdir: /home/akaver/!Dev/pbt-demo-mnist/data/FashionMNIST<br>Number of trials: 16/16 (16 ERROR)<br>Number of errored trials: 16<br><table>\n<thead>\n<tr><th>Trial name                             </th><th style=\"text-align: right;\">  # failures</th><th>error file                                                                                                                                                                             </th></tr>\n</thead>\n<tbody>\n<tr><td>train_mnist_tune_checkpoint_575ec_00000</td><td style=\"text-align: right;\">           1</td><td>/home/akaver/!Dev/pbt-demo-mnist/data/FashionMNIST/train_mnist_tune_checkpoint_575ec_00000_0_batch_size=256,layer_1_size=1024,layer_2_size=128,lr=0.0001_2021-09-28_01-29-13/error.txt </td></tr>\n<tr><td>train_mnist_tune_checkpoint_575ec_00001</td><td style=\"text-align: right;\">           1</td><td>/home/akaver/!Dev/pbt-demo-mnist/data/FashionMNIST/train_mnist_tune_checkpoint_575ec_00001_1_batch_size=256,layer_1_size=512,layer_2_size=512,lr=1e-05_2021-09-28_01-29-13/error.txt   </td></tr>\n<tr><td>train_mnist_tune_checkpoint_575ec_00002</td><td style=\"text-align: right;\">           1</td><td>/home/akaver/!Dev/pbt-demo-mnist/data/FashionMNIST/train_mnist_tune_checkpoint_575ec_00002_2_batch_size=32,layer_1_size=512,layer_2_size=64,lr=0.01_2021-09-28_01-29-13/error.txt      </td></tr>\n<tr><td>train_mnist_tune_checkpoint_575ec_00003</td><td style=\"text-align: right;\">           1</td><td>/home/akaver/!Dev/pbt-demo-mnist/data/FashionMNIST/train_mnist_tune_checkpoint_575ec_00003_3_batch_size=64,layer_1_size=512,layer_2_size=1024,lr=1e-05_2021-09-28_01-29-13/error.txt   </td></tr>\n<tr><td>train_mnist_tune_checkpoint_575ec_00004</td><td style=\"text-align: right;\">           1</td><td>/home/akaver/!Dev/pbt-demo-mnist/data/FashionMNIST/train_mnist_tune_checkpoint_575ec_00004_4_batch_size=1024,layer_1_size=1024,layer_2_size=64,lr=0.01_2021-09-28_01-29-14/error.txt   </td></tr>\n<tr><td>train_mnist_tune_checkpoint_575ec_00005</td><td style=\"text-align: right;\">           1</td><td>/home/akaver/!Dev/pbt-demo-mnist/data/FashionMNIST/train_mnist_tune_checkpoint_575ec_00005_5_batch_size=32,layer_1_size=1024,layer_2_size=64,lr=0.0001_2021-09-28_01-29-14/error.txt   </td></tr>\n<tr><td>train_mnist_tune_checkpoint_575ec_00006</td><td style=\"text-align: right;\">           1</td><td>/home/akaver/!Dev/pbt-demo-mnist/data/FashionMNIST/train_mnist_tune_checkpoint_575ec_00006_6_batch_size=512,layer_1_size=64,layer_2_size=1024,lr=0.01_2021-09-28_01-29-14/error.txt    </td></tr>\n<tr><td>train_mnist_tune_checkpoint_575ec_00007</td><td style=\"text-align: right;\">           1</td><td>/home/akaver/!Dev/pbt-demo-mnist/data/FashionMNIST/train_mnist_tune_checkpoint_575ec_00007_7_batch_size=256,layer_1_size=1024,layer_2_size=64,lr=0.0001_2021-09-28_01-29-14/error.txt  </td></tr>\n<tr><td>train_mnist_tune_checkpoint_575ec_00008</td><td style=\"text-align: right;\">           1</td><td>/home/akaver/!Dev/pbt-demo-mnist/data/FashionMNIST/train_mnist_tune_checkpoint_575ec_00008_8_batch_size=512,layer_1_size=512,layer_2_size=256,lr=1e-06_2021-09-28_01-29-14/error.txt   </td></tr>\n<tr><td>train_mnist_tune_checkpoint_575ec_00009</td><td style=\"text-align: right;\">           1</td><td>/home/akaver/!Dev/pbt-demo-mnist/data/FashionMNIST/train_mnist_tune_checkpoint_575ec_00009_9_batch_size=2048,layer_1_size=32,layer_2_size=128,lr=1e-06_2021-09-28_01-29-14/error.txt   </td></tr>\n<tr><td>train_mnist_tune_checkpoint_575ec_00010</td><td style=\"text-align: right;\">           1</td><td>/home/akaver/!Dev/pbt-demo-mnist/data/FashionMNIST/train_mnist_tune_checkpoint_575ec_00010_10_batch_size=2048,layer_1_size=32,layer_2_size=256,lr=0.01_2021-09-28_01-29-14/error.txt   </td></tr>\n<tr><td>train_mnist_tune_checkpoint_575ec_00011</td><td style=\"text-align: right;\">           1</td><td>/home/akaver/!Dev/pbt-demo-mnist/data/FashionMNIST/train_mnist_tune_checkpoint_575ec_00011_11_batch_size=32,layer_1_size=1024,layer_2_size=32,lr=1e-06_2021-09-28_01-29-15/error.txt   </td></tr>\n<tr><td>train_mnist_tune_checkpoint_575ec_00012</td><td style=\"text-align: right;\">           1</td><td>/home/akaver/!Dev/pbt-demo-mnist/data/FashionMNIST/train_mnist_tune_checkpoint_575ec_00012_12_batch_size=128,layer_1_size=512,layer_2_size=64,lr=0.01_2021-09-28_01-29-15/error.txt    </td></tr>\n<tr><td>train_mnist_tune_checkpoint_575ec_00013</td><td style=\"text-align: right;\">           1</td><td>/home/akaver/!Dev/pbt-demo-mnist/data/FashionMNIST/train_mnist_tune_checkpoint_575ec_00013_13_batch_size=2048,layer_1_size=64,layer_2_size=256,lr=1e-05_2021-09-28_01-29-15/error.txt  </td></tr>\n<tr><td>train_mnist_tune_checkpoint_575ec_00014</td><td style=\"text-align: right;\">           1</td><td>/home/akaver/!Dev/pbt-demo-mnist/data/FashionMNIST/train_mnist_tune_checkpoint_575ec_00014_14_batch_size=2048,layer_1_size=1024,layer_2_size=128,lr=1e-05_2021-09-28_01-29-15/error.txt</td></tr>\n<tr><td>train_mnist_tune_checkpoint_575ec_00015</td><td style=\"text-align: right;\">           1</td><td>/home/akaver/!Dev/pbt-demo-mnist/data/FashionMNIST/train_mnist_tune_checkpoint_575ec_00015_15_batch_size=32,layer_1_size=64,layer_2_size=1024,lr=1e-05_2021-09-28_01-29-15/error.txt   </td></tr>\n</tbody>\n</table><br>",
      "text/plain": "<IPython.core.display.HTML object>"
     },
     "metadata": {},
     "output_type": "display_data"
    },
    {
     "ename": "TuneError",
     "evalue": "('Trials did not complete', [train_mnist_tune_checkpoint_575ec_00000, train_mnist_tune_checkpoint_575ec_00001, train_mnist_tune_checkpoint_575ec_00002, train_mnist_tune_checkpoint_575ec_00003, train_mnist_tune_checkpoint_575ec_00004, train_mnist_tune_checkpoint_575ec_00005, train_mnist_tune_checkpoint_575ec_00006, train_mnist_tune_checkpoint_575ec_00007, train_mnist_tune_checkpoint_575ec_00008, train_mnist_tune_checkpoint_575ec_00009, train_mnist_tune_checkpoint_575ec_00010, train_mnist_tune_checkpoint_575ec_00011, train_mnist_tune_checkpoint_575ec_00012, train_mnist_tune_checkpoint_575ec_00013, train_mnist_tune_checkpoint_575ec_00014, train_mnist_tune_checkpoint_575ec_00015])",
     "output_type": "error",
     "traceback": [
      "\u001B[0;31m---------------------------------------------------------------------------\u001B[0m",
      "\u001B[0;31mTuneError\u001B[0m                                 Traceback (most recent call last)",
      "\u001B[0;32m/tmp/ipykernel_172577/909255142.py\u001B[0m in \u001B[0;36m<module>\u001B[0;34m\u001B[0m\n\u001B[1;32m      7\u001B[0m     \u001B[0mstart_time\u001B[0m\u001B[0;34m=\u001B[0m\u001B[0mpc\u001B[0m\u001B[0;34m(\u001B[0m\u001B[0;34m)\u001B[0m\u001B[0;34m\u001B[0m\u001B[0;34m\u001B[0m\u001B[0m\n\u001B[1;32m      8\u001B[0m \u001B[0;34m\u001B[0m\u001B[0m\n\u001B[0;32m----> 9\u001B[0;31m     \u001B[0manalysis\u001B[0m \u001B[0;34m=\u001B[0m \u001B[0mtune_mnist_pbt\u001B[0m\u001B[0;34m(\u001B[0m\u001B[0mnum_samples\u001B[0m\u001B[0;34m=\u001B[0m\u001B[0;36m16\u001B[0m\u001B[0;34m,\u001B[0m \u001B[0mnum_epochs\u001B[0m\u001B[0;34m=\u001B[0m\u001B[0;36m5\u001B[0m\u001B[0;34m,\u001B[0m \u001B[0mgpus_per_trial\u001B[0m\u001B[0;34m=\u001B[0m\u001B[0;36m1\u001B[0m\u001B[0;34m/\u001B[0m\u001B[0mexperiments_to_run_in_parallel\u001B[0m\u001B[0;34m)\u001B[0m\u001B[0;34m\u001B[0m\u001B[0;34m\u001B[0m\u001B[0m\n\u001B[0m\u001B[1;32m     10\u001B[0m \u001B[0;34m\u001B[0m\u001B[0m\n\u001B[1;32m     11\u001B[0m     \u001B[0melapsed_time\u001B[0m \u001B[0;34m=\u001B[0m \u001B[0mpc\u001B[0m\u001B[0;34m(\u001B[0m\u001B[0;34m)\u001B[0m\u001B[0;34m-\u001B[0m\u001B[0mstart_time\u001B[0m\u001B[0;34m\u001B[0m\u001B[0;34m\u001B[0m\u001B[0m\n",
      "\u001B[0;32m/tmp/ipykernel_172577/665182895.py\u001B[0m in \u001B[0;36mtune_mnist_pbt\u001B[0;34m(num_samples, num_epochs, gpus_per_trial)\u001B[0m\n\u001B[1;32m     57\u001B[0m     )\n\u001B[1;32m     58\u001B[0m \u001B[0;34m\u001B[0m\u001B[0m\n\u001B[0;32m---> 59\u001B[0;31m     analysis = tune.run(\n\u001B[0m\u001B[1;32m     60\u001B[0m         tune.with_parameters(\n\u001B[1;32m     61\u001B[0m             \u001B[0mtrain_mnist_tune_checkpoint\u001B[0m\u001B[0;34m,\u001B[0m\u001B[0;34m\u001B[0m\u001B[0;34m\u001B[0m\u001B[0m\n",
      "\u001B[0;32m~/.local/lib/python3.8/site-packages/ray/tune/tune.py\u001B[0m in \u001B[0;36mrun\u001B[0;34m(run_or_experiment, name, metric, mode, stop, time_budget_s, config, resources_per_trial, num_samples, local_dir, search_alg, scheduler, keep_checkpoints_num, checkpoint_score_attr, checkpoint_freq, checkpoint_at_end, verbose, progress_reporter, log_to_file, trial_name_creator, trial_dirname_creator, sync_config, export_formats, max_failures, fail_fast, restore, server_port, resume, queue_trials, reuse_actors, trial_executor, raise_on_failed_trial, callbacks, loggers, ray_auto_init, run_errored_only, global_checkpoint_period, with_server, upload_dir, sync_to_cloud, sync_to_driver, sync_on_checkpoint, _remote)\u001B[0m\n\u001B[1;32m    542\u001B[0m     \u001B[0;32mif\u001B[0m \u001B[0mincomplete_trials\u001B[0m\u001B[0;34m:\u001B[0m\u001B[0;34m\u001B[0m\u001B[0;34m\u001B[0m\u001B[0m\n\u001B[1;32m    543\u001B[0m         \u001B[0;32mif\u001B[0m \u001B[0mraise_on_failed_trial\u001B[0m \u001B[0;32mand\u001B[0m \u001B[0;32mnot\u001B[0m \u001B[0mstate\u001B[0m\u001B[0;34m[\u001B[0m\u001B[0msignal\u001B[0m\u001B[0;34m.\u001B[0m\u001B[0mSIGINT\u001B[0m\u001B[0;34m]\u001B[0m\u001B[0;34m:\u001B[0m\u001B[0;34m\u001B[0m\u001B[0;34m\u001B[0m\u001B[0m\n\u001B[0;32m--> 544\u001B[0;31m             \u001B[0;32mraise\u001B[0m \u001B[0mTuneError\u001B[0m\u001B[0;34m(\u001B[0m\u001B[0;34m\"Trials did not complete\"\u001B[0m\u001B[0;34m,\u001B[0m \u001B[0mincomplete_trials\u001B[0m\u001B[0;34m)\u001B[0m\u001B[0;34m\u001B[0m\u001B[0;34m\u001B[0m\u001B[0m\n\u001B[0m\u001B[1;32m    545\u001B[0m         \u001B[0;32melse\u001B[0m\u001B[0;34m:\u001B[0m\u001B[0;34m\u001B[0m\u001B[0;34m\u001B[0m\u001B[0m\n\u001B[1;32m    546\u001B[0m             \u001B[0mlogger\u001B[0m\u001B[0;34m.\u001B[0m\u001B[0merror\u001B[0m\u001B[0;34m(\u001B[0m\u001B[0;34m\"Trials did not complete: %s\"\u001B[0m\u001B[0;34m,\u001B[0m \u001B[0mincomplete_trials\u001B[0m\u001B[0;34m)\u001B[0m\u001B[0;34m\u001B[0m\u001B[0;34m\u001B[0m\u001B[0m\n",
      "\u001B[0;31mTuneError\u001B[0m: ('Trials did not complete', [train_mnist_tune_checkpoint_575ec_00000, train_mnist_tune_checkpoint_575ec_00001, train_mnist_tune_checkpoint_575ec_00002, train_mnist_tune_checkpoint_575ec_00003, train_mnist_tune_checkpoint_575ec_00004, train_mnist_tune_checkpoint_575ec_00005, train_mnist_tune_checkpoint_575ec_00006, train_mnist_tune_checkpoint_575ec_00007, train_mnist_tune_checkpoint_575ec_00008, train_mnist_tune_checkpoint_575ec_00009, train_mnist_tune_checkpoint_575ec_00010, train_mnist_tune_checkpoint_575ec_00011, train_mnist_tune_checkpoint_575ec_00012, train_mnist_tune_checkpoint_575ec_00013, train_mnist_tune_checkpoint_575ec_00014, train_mnist_tune_checkpoint_575ec_00015])"
     ]
    }
   ],
   "source": "from time import sleep, perf_counter as pc\n\nresults = []\nfor models in range(8):\n    experiments_to_run_in_parallel = (models + 1) * 2\n    print(f\"Starting {experiments_to_run_in_parallel} experiments in parallel\")\n    start_time = pc()\n\n    analysis = tune_mnist_pbt(num_samples=16, num_epochs=5, gpus_per_trial=1 / experiments_to_run_in_parallel)\n\n    elapsed_time = pc() - start_time\n    results.append((models, elapsed_time))\n\nresults"
  },
  {
   "cell_type": "code",
   "execution_count": 6,
   "metadata": {
    "trusted": false
   },
   "outputs": [
    {
     "data": {
      "text/plain": "[(0, 1250.4137557320064),\n (1, 1054.7564893119998),\n (2, 978.0088943799929),\n (3, 1215.7183314590075),\n (4, 1026.1449859720015),\n (5, 1067.1325380739872),\n (6, 1058.9811587199947)]"
     },
     "execution_count": 6,
     "metadata": {},
     "output_type": "execute_result"
    }
   ],
   "source": "results"
  }
 ],
 "metadata": {
  "kernelspec": {
   "display_name": "Python 3 (ipykernel)",
   "language": "python",
   "name": "python3"
  },
  "language_info": {
   "codemirror_mode": {
    "name": "ipython",
    "version": 3
   },
   "file_extension": ".py",
   "mimetype": "text/x-python",
   "name": "python",
   "nbconvert_exporter": "python",
   "pygments_lexer": "ipython3",
   "version": "3.8.10"
  }
 },
 "nbformat": 4,
 "nbformat_minor": 4
}