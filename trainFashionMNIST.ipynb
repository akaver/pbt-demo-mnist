{
 "cells": [
  {
   "cell_type": "code",
   "execution_count": 12,
   "metadata": {
    "tags": [],
    "trusted": false
   },
   "outputs": [],
   "source": [
    "import os\n",
    "import logging\n",
    "import math\n",
    "from filelock import FileLock\n",
    "import random\n",
    "\n",
    "# __import_lightning_begin__\n",
    "import torch\n",
    "import pytorch_lightning as pl\n",
    "from torch.utils.data import DataLoader, random_split\n",
    "from torch.nn import functional as F\n",
    "from torchvision.datasets import FashionMNIST\n",
    "from torchvision import transforms\n",
    "# __import_lightning_end__\n",
    "\n",
    "# __import_tune_begin__\n",
    "from pytorch_lightning.loggers import TensorBoardLogger\n",
    "from ray import tune\n",
    "from ray.tune import CLIReporter, JupyterNotebookReporter\n",
    "from ray.tune.schedulers import PopulationBasedTraining\n",
    "from ray.tune.integration.pytorch_lightning import TuneReportCallback, TuneReportCheckpointCallback\n",
    "# __import_tune_end__\n",
    "\n",
    "from MNISTDataModule import MNISTDataModule\n",
    "from augmentation import TRANSFORM_NAMES\n",
    "from LightningFashionMNIST import LightningFashionMNIST\n"
   ]
  },
  {
   "cell_type": "code",
   "execution_count": 13,
   "metadata": {
    "trusted": false
   },
   "outputs": [],
   "source": [
    "log = logging.getLogger('App')\n",
    "logging.basicConfig(level=logging.INFO)"
   ]
  },
  {
   "cell_type": "code",
   "execution_count": 14,
   "metadata": {
    "collapsed": false,
    "jupyter": {
     "outputs_hidden": false
    },
    "pycharm": {
     "name": "#%%\n"
    },
    "trusted": false
   },
   "outputs": [],
   "source": [
    "def train_mnist_tune_checkpoint(config,\n",
    "                                checkpoint_dir=None,\n",
    "                                # no really used, we stop after every epoch and let tune decide what to do\n",
    "                                num_epochs=999,\n",
    "                                num_gpus=0):\n",
    "    # data_dir = os.path.expanduser(\"~/data\")\n",
    "    data_dir = config[\"data_dir\"]\n",
    "\n",
    "    trainer = pl.Trainer(\n",
    "        max_epochs=num_epochs,\n",
    "        # If fractional GPUs passed in, convert to int.\n",
    "        gpus=math.ceil(num_gpus),\n",
    "        logger=TensorBoardLogger(save_dir=tune.get_trial_dir(), name=\"\", version=\".\"),\n",
    "        progress_bar_refresh_rate=config[\"progress_bar_refresh_rate\"],\n",
    "        num_sanity_val_steps=0,\n",
    "        callbacks=[\n",
    "            TuneReportCheckpointCallback(\n",
    "                metrics={\n",
    "                    \"loss\": \"ptl/val_loss\",\n",
    "                    \"mean_accuracy\": \"ptl/val_accuracy\"\n",
    "                },\n",
    "                filename=\"checkpoint\",\n",
    "                on=\"validation_end\"\n",
    "            )\n",
    "        ]\n",
    "    )\n",
    "\n",
    "    if checkpoint_dir:\n",
    "        model = LightningFashionMNIST.load_from_checkpoint(os.path.join(checkpoint_dir, \"checkpoint\"), conf=config)\n",
    "        log.info('Lightning loaded from checkpoint')\n",
    "    else:\n",
    "        model = LightningFashionMNIST(conf=config)\n",
    "        log.info('Lightning initialized')\n",
    "\n",
    "    data = MNISTDataModule(conf=config)\n",
    "\n",
    "    trainer.fit(model, data)"
   ]
  },
  {
   "cell_type": "code",
   "execution_count": 15,
   "metadata": {
    "collapsed": false,
    "jupyter": {
     "outputs_hidden": false
    },
    "pycharm": {
     "name": "#%%\n"
    },
    "trusted": false
   },
   "outputs": [],
   "source": [
    "def tune_mnist_pbt(num_samples=20, num_epochs=10, gpus_per_trial=0):\n",
    "    def explore(config):\n",
    "        log.info(\"======================================= EXPLORE =========================================\")\n",
    "        # calculate new magnitudes for augmentations\n",
    "        augmentations = []\n",
    "        for tfn_name in TRANSFORM_NAMES:\n",
    "            augmentations.append((tfn_name, random.random()))\n",
    "\n",
    "        config[\"augmentations\"] = augmentations\n",
    "        log.info(config)\n",
    "        return config\n",
    "\n",
    "    scheduler = PopulationBasedTraining(\n",
    "        time_attr=\"training_iteration\",\n",
    "        # Models will be considered for perturbation at this interval of time_attr=\"time_total_s\"\n",
    "        perturbation_interval=1,\n",
    "        custom_explore_fn=explore,\n",
    "        log_config=True\n",
    "    )\n",
    "\n",
    "    reporter_jupyter = JupyterNotebookReporter(\n",
    "        overwrite=True,\n",
    "        parameter_columns=[\"layer_1_size\", \"layer_2_size\", \"lr\", \"batch_size\", \"augmentations\"],\n",
    "        metric_columns=[\"loss\", \"mean_accuracy\", \"training_iteration\"]\n",
    "    )\n",
    "\n",
    "    \"\"\"\n",
    "    # initial config\n",
    "            config={\n",
    "            \"progress_bar_refresh_rate\": 0,\n",
    "            \"layer_1_size\": tune.choice([32, 64, 128, 256, 512, 1024]),\n",
    "            \"layer_2_size\": tune.choice([32, 64, 128, 256, 512, 1024]),\n",
    "            \"lr\": tune.choice([1e-2, 1e-3, 1e-4, 1e-5, 1e-6]),\n",
    "            \"batch_size\": tune.choice([32, 64, 128, 256, 512, 1024, 2048]),\n",
    "        },\n",
    "    \"\"\"\n",
    "\n",
    "    # set up the augmentations\n",
    "    # tuple of augmentation name and its magnitude\n",
    "    augmentations = []\n",
    "    for tfn_name in TRANSFORM_NAMES:\n",
    "        augmentations.append((tfn_name, random.random()))\n",
    "\n",
    "    config={\n",
    "        # https://docs.ray.io/en/master/tune/api_docs/search_space.html?highlight=tune.choice#\n",
    "        \"progress_bar_refresh_rate\": 0,\n",
    "        \"layer_1_size\": 512,\n",
    "        \"layer_2_size\": 512,\n",
    "        \"lr\": 0.001,\n",
    "        \"batch_size\": 256,\n",
    "        \"data_dir\": \"./data\",\n",
    "        \"data_mean\": 0.28604063391685486,\n",
    "        \"data_std\": 0.35302430391311646,\n",
    "        \"augmentations\": augmentations,\n",
    "    }\n",
    "\n",
    "    analysis = tune.run(\n",
    "        tune.with_parameters(\n",
    "            train_mnist_tune_checkpoint,\n",
    "            num_epochs=num_epochs,\n",
    "            num_gpus=gpus_per_trial),\n",
    "        resources_per_trial={\n",
    "            \"cpu\": 1 / 16,\n",
    "            \"gpu\": gpus_per_trial\n",
    "        },\n",
    "        metric=\"loss\",\n",
    "        mode=\"min\",\n",
    "        config=config,\n",
    "        num_samples=num_samples,\n",
    "        scheduler=scheduler,\n",
    "        progress_reporter=reporter_jupyter,\n",
    "        verbose=1,\n",
    "        name=\"FashionMNIST-pbt\",\n",
    "        stop={  # Stop a single trial if one of the conditions are met\n",
    "            \"mean_accuracy\": 0.95,\n",
    "            \"training_iteration\": 15},\n",
    "        local_dir=\"./data\",\n",
    "    )\n",
    "\n",
    "    print(\"Best hyperparameters found were: \", analysis.best_config)\n",
    "    return analysis"
   ]
  },
  {
   "cell_type": "code",
   "execution_count": 16,
   "metadata": {
    "collapsed": false,
    "jupyter": {
     "outputs_hidden": false
    },
    "pycharm": {
     "name": "#%%\n"
    },
    "trusted": false
   },
   "outputs": [
    {
     "data": {
      "text/plain": "<IPython.core.display.HTML object>",
      "text/html": "== Status ==<br>Memory usage on this node: 7.1/62.7 GiB<br>PopulationBasedTraining: 83 checkpoints, 31 perturbs<br>Resources requested: 0/8 CPUs, 0/1 GPUs, 0.0/36.25 GiB heap, 0.0/18.12 GiB objects (0.0/1.0 accelerator_type:G)<br>Current best trial: c466f_00004 with loss=0.17171010375022888 and parameters={'layer_1_size': 512, 'layer_2_size': 512, 'lr': 0.001, 'batch_size': 256, 'augmentations': [('auto_contrast', 0.901840521953183), ('blur', 0.05858147953004167), ('rotate', 0.05662007848962114)]}<br>Result logdir: /home/akaver/!Dev/pbt-demo-mnist/data/FashionMNIST-pbt<br>Number of trials: 14/14 (14 TERMINATED)<br><br>"
     },
     "metadata": {},
     "output_type": "display_data"
    },
    {
     "name": "stderr",
     "output_type": "stream",
     "text": [
      "\u001B[2m\u001B[36m(pid=64072)\u001B[0m /home/akaver/.local/lib/python3.8/site-packages/pytorch_lightning/trainer/deprecated_api.py:25: LightningDeprecationWarning: `Trainer.running_sanity_check` has been renamed to `Trainer.sanity_checking` and will be removed in v1.5.\n",
      "\u001B[2m\u001B[36m(pid=64072)\u001B[0m   rank_zero_deprecation(\n",
      "2021-10-05 10:22:15,896\tINFO tune.py:550 -- Total run time: 2233.25 seconds (2233.13 seconds for the tuning loop).\n"
     ]
    },
    {
     "name": "stdout",
     "output_type": "stream",
     "text": [
      "Best hyperparameters found were:  {'progress_bar_refresh_rate': 0, 'layer_1_size': 512, 'layer_2_size': 512, 'lr': 0.001, 'batch_size': 256, 'data_dir': './data', 'data_mean': 0.28604063391685486, 'data_std': 0.35302430391311646, 'augmentations': [('auto_contrast', 0.901840521953183), ('blur', 0.05858147953004167), ('rotate', 0.05662007848962114)]}\n"
     ]
    },
    {
     "data": {
      "text/plain": "{'c466f_00000': {'loss': 0.22324737906455994,\n  'mean_accuracy': 0.9168469309806824,\n  'time_this_iter_s': 49.4407856464386,\n  'should_checkpoint': True,\n  'done': True,\n  'timesteps_total': None,\n  'episodes_total': None,\n  'training_iteration': 15,\n  'experiment_id': 'cfbf387907f1419a900fbc3484170684',\n  'date': '2021-10-05_10-20-09',\n  'timestamp': 1633418409,\n  'time_total_s': 679.8276810646057,\n  'pid': 61497,\n  'hostname': 'ml-linux',\n  'node_ip': '192.168.1.23',\n  'config': {'progress_bar_refresh_rate': 0,\n   'layer_1_size': 512,\n   'layer_2_size': 512,\n   'lr': 0.001,\n   'batch_size': 256,\n   'data_dir': './data',\n   'data_mean': 0.28604063391685486,\n   'data_std': 0.35302430391311646,\n   'augmentations': [('auto_contrast', 0.21095514423143003),\n    ('blur', 0.29026902231547436),\n    ('rotate', 0.5336863365045806)]},\n  'time_since_restore': 49.4407856464386,\n  'timesteps_since_restore': 0,\n  'iterations_since_restore': 1,\n  'trial_id': 'c466f_00000',\n  'experiment_tag': '0@perturbed[]'},\n 'c466f_00001': {'loss': 0.20574037730693817,\n  'mean_accuracy': 0.9195381999015808,\n  'time_this_iter_s': 50.865174293518066,\n  'should_checkpoint': True,\n  'done': True,\n  'timesteps_total': None,\n  'episodes_total': None,\n  'training_iteration': 15,\n  'experiment_id': 'cfbf387907f1419a900fbc3484170684',\n  'date': '2021-10-05_10-20-10',\n  'timestamp': 1633418410,\n  'time_total_s': 710.0562114715576,\n  'pid': 61505,\n  'hostname': 'ml-linux',\n  'node_ip': '192.168.1.23',\n  'config': {'progress_bar_refresh_rate': 0,\n   'layer_1_size': 512,\n   'layer_2_size': 512,\n   'lr': 0.001,\n   'batch_size': 256,\n   'data_dir': './data',\n   'data_mean': 0.28604063391685486,\n   'data_std': 0.35302430391311646,\n   'augmentations': [('auto_contrast', 0.3378781896184281),\n    ('blur', 0.9486958341610467),\n    ('rotate', 0.15044664242156913)]},\n  'time_since_restore': 50.865174293518066,\n  'timesteps_since_restore': 0,\n  'iterations_since_restore': 1,\n  'trial_id': 'c466f_00001',\n  'experiment_tag': '1@perturbed[]'},\n 'c466f_00002': {'loss': 0.21066837012767792,\n  'mean_accuracy': 0.9202880859375,\n  'time_this_iter_s': 51.90776824951172,\n  'should_checkpoint': True,\n  'done': True,\n  'timesteps_total': None,\n  'episodes_total': None,\n  'training_iteration': 15,\n  'experiment_id': '44c059997eb94ea68131838215928bd8',\n  'date': '2021-10-05_10-20-49',\n  'timestamp': 1633418449,\n  'time_total_s': 723.3986823558807,\n  'pid': 61551,\n  'hostname': 'ml-linux',\n  'node_ip': '192.168.1.23',\n  'config': {'progress_bar_refresh_rate': 0,\n   'layer_1_size': 512,\n   'layer_2_size': 512,\n   'lr': 0.001,\n   'batch_size': 256,\n   'data_dir': './data',\n   'data_mean': 0.28604063391685486,\n   'data_std': 0.35302430391311646,\n   'augmentations': [('auto_contrast', 0.8030252033383194),\n    ('blur', 0.9901275588865696),\n    ('rotate', 0.22368544268629054)]},\n  'time_since_restore': 51.90776824951172,\n  'timesteps_since_restore': 0,\n  'iterations_since_restore': 1,\n  'trial_id': 'c466f_00002',\n  'experiment_tag': '2@perturbed[]'},\n 'c466f_00003': {'loss': 0.20324628055095673,\n  'mean_accuracy': 0.9179048538208008,\n  'time_this_iter_s': 50.90098309516907,\n  'should_checkpoint': True,\n  'done': True,\n  'timesteps_total': None,\n  'episodes_total': None,\n  'training_iteration': 15,\n  'experiment_id': '496b8180565c496abf3283648e1edf87',\n  'date': '2021-10-05_10-20-52',\n  'timestamp': 1633418452,\n  'time_total_s': 726.8106322288513,\n  'pid': 61523,\n  'hostname': 'ml-linux',\n  'node_ip': '192.168.1.23',\n  'config': {'progress_bar_refresh_rate': 0,\n   'layer_1_size': 512,\n   'layer_2_size': 512,\n   'lr': 0.001,\n   'batch_size': 256,\n   'data_dir': './data',\n   'data_mean': 0.28604063391685486,\n   'data_std': 0.35302430391311646,\n   'augmentations': [('auto_contrast', 0.776252720032958),\n    ('blur', 0.887249864917792),\n    ('rotate', 0.34307236459918344)]},\n  'time_since_restore': 50.90098309516907,\n  'timesteps_since_restore': 0,\n  'iterations_since_restore': 1,\n  'trial_id': 'c466f_00003',\n  'experiment_tag': '3@perturbed[]'},\n 'c466f_00004': {'loss': 0.17171010375022888,\n  'mean_accuracy': 0.9361920952796936,\n  'time_this_iter_s': 43.544365882873535,\n  'should_checkpoint': True,\n  'done': True,\n  'timesteps_total': None,\n  'episodes_total': None,\n  'training_iteration': 15,\n  'experiment_id': '44c059997eb94ea68131838215928bd8',\n  'date': '2021-10-05_10-20-46',\n  'timestamp': 1633418446,\n  'time_total_s': 715.0352799892426,\n  'pid': 61517,\n  'hostname': 'ml-linux',\n  'node_ip': '192.168.1.23',\n  'config': {'progress_bar_refresh_rate': 0,\n   'layer_1_size': 512,\n   'layer_2_size': 512,\n   'lr': 0.001,\n   'batch_size': 256,\n   'data_dir': './data',\n   'data_mean': 0.28604063391685486,\n   'data_std': 0.35302430391311646,\n   'augmentations': [('auto_contrast', 0.901840521953183),\n    ('blur', 0.05858147953004167),\n    ('rotate', 0.05662007848962114)]},\n  'time_since_restore': 43.544365882873535,\n  'timesteps_since_restore': 0,\n  'iterations_since_restore': 1,\n  'trial_id': 'c466f_00004',\n  'experiment_tag': '4@perturbed[]'},\n 'c466f_00005': {'loss': 0.21751245856285095,\n  'mean_accuracy': 0.9165213704109192,\n  'time_this_iter_s': 51.77980589866638,\n  'should_checkpoint': True,\n  'done': True,\n  'timesteps_total': None,\n  'episodes_total': None,\n  'training_iteration': 15,\n  'experiment_id': 'cfbf387907f1419a900fbc3484170684',\n  'date': '2021-10-05_10-21-03',\n  'timestamp': 1633418463,\n  'time_total_s': 734.6619565486908,\n  'pid': 62586,\n  'hostname': 'ml-linux',\n  'node_ip': '192.168.1.23',\n  'config': {'progress_bar_refresh_rate': 0,\n   'layer_1_size': 512,\n   'layer_2_size': 512,\n   'lr': 0.001,\n   'batch_size': 256,\n   'data_dir': './data',\n   'data_mean': 0.28604063391685486,\n   'data_std': 0.35302430391311646,\n   'augmentations': [('auto_contrast', 0.6512877388426088),\n    ('blur', 0.9047007728460382),\n    ('rotate', 0.19586016888622337)]},\n  'time_since_restore': 51.77980589866638,\n  'timesteps_since_restore': 0,\n  'iterations_since_restore': 1,\n  'trial_id': 'c466f_00005',\n  'experiment_tag': '5@perturbed[]'},\n 'c466f_00006': {'loss': 0.1939111202955246,\n  'mean_accuracy': 0.9200555682182312,\n  'time_this_iter_s': 43.68338942527771,\n  'should_checkpoint': True,\n  'done': True,\n  'timesteps_total': None,\n  'episodes_total': None,\n  'training_iteration': 15,\n  'experiment_id': 'cfbf387907f1419a900fbc3484170684',\n  'date': '2021-10-05_10-20-56',\n  'timestamp': 1633418456,\n  'time_total_s': 667.4267444610596,\n  'pid': 62588,\n  'hostname': 'ml-linux',\n  'node_ip': '192.168.1.23',\n  'config': {'progress_bar_refresh_rate': 0,\n   'layer_1_size': 512,\n   'layer_2_size': 512,\n   'lr': 0.001,\n   'batch_size': 256,\n   'data_dir': './data',\n   'data_mean': 0.28604063391685486,\n   'data_std': 0.35302430391311646,\n   'augmentations': [('auto_contrast', 0.7827874614906547),\n    ('blur', 0.03379153419667702),\n    ('rotate', 0.09791314718775546)]},\n  'time_since_restore': 43.68338942527771,\n  'timesteps_since_restore': 0,\n  'iterations_since_restore': 1,\n  'trial_id': 'c466f_00006',\n  'experiment_tag': '6@perturbed[]'},\n 'c466f_00007': {'loss': 0.20011696219444275,\n  'mean_accuracy': 0.9225783348083496,\n  'time_this_iter_s': 50.44359064102173,\n  'should_checkpoint': True,\n  'done': True,\n  'timesteps_total': None,\n  'episodes_total': None,\n  'training_iteration': 15,\n  'experiment_id': '44c059997eb94ea68131838215928bd8',\n  'date': '2021-10-05_10-21-39',\n  'timestamp': 1633418499,\n  'time_total_s': 719.4967842102051,\n  'pid': 63008,\n  'hostname': 'ml-linux',\n  'node_ip': '192.168.1.23',\n  'config': {'progress_bar_refresh_rate': 0,\n   'layer_1_size': 512,\n   'layer_2_size': 512,\n   'lr': 0.001,\n   'batch_size': 256,\n   'data_dir': './data',\n   'data_mean': 0.28604063391685486,\n   'data_std': 0.35302430391311646,\n   'augmentations': [('auto_contrast', 0.4816162163613593),\n    ('blur', 0.9942190810783375),\n    ('rotate', 0.24632688388724666)]},\n  'time_since_restore': 50.44359064102173,\n  'timesteps_since_restore': 0,\n  'iterations_since_restore': 1,\n  'trial_id': 'c466f_00007',\n  'experiment_tag': '7@perturbed[]'},\n 'c466f_00008': {'loss': 0.20146489143371582,\n  'mean_accuracy': 0.9251477122306824,\n  'time_this_iter_s': 43.8533194065094,\n  'should_checkpoint': True,\n  'done': True,\n  'timesteps_total': None,\n  'episodes_total': None,\n  'training_iteration': 15,\n  'experiment_id': '44c059997eb94ea68131838215928bd8',\n  'date': '2021-10-05_10-21-34',\n  'timestamp': 1633418494,\n  'time_total_s': 700.5210900306702,\n  'pid': 63009,\n  'hostname': 'ml-linux',\n  'node_ip': '192.168.1.23',\n  'config': {'progress_bar_refresh_rate': 0,\n   'layer_1_size': 512,\n   'layer_2_size': 512,\n   'lr': 0.001,\n   'batch_size': 256,\n   'data_dir': './data',\n   'data_mean': 0.28604063391685486,\n   'data_std': 0.35302430391311646,\n   'augmentations': [('auto_contrast', 0.7056553678416259),\n    ('blur', 0.10541731006238986),\n    ('rotate', 0.7133122775554779)]},\n  'time_since_restore': 43.8533194065094,\n  'timesteps_since_restore': 0,\n  'iterations_since_restore': 1,\n  'trial_id': 'c466f_00008',\n  'experiment_tag': '8@perturbed[]'},\n 'c466f_00009': {'loss': 0.19843706488609314,\n  'mean_accuracy': 0.9217761158943176,\n  'time_this_iter_s': 50.515689849853516,\n  'should_checkpoint': True,\n  'done': True,\n  'timesteps_total': None,\n  'episodes_total': None,\n  'training_iteration': 15,\n  'experiment_id': '496b8180565c496abf3283648e1edf87',\n  'date': '2021-10-05_10-21-45',\n  'timestamp': 1633418505,\n  'time_total_s': 723.9597978591919,\n  'pid': 63244,\n  'hostname': 'ml-linux',\n  'node_ip': '192.168.1.23',\n  'config': {'progress_bar_refresh_rate': 0,\n   'layer_1_size': 512,\n   'layer_2_size': 512,\n   'lr': 0.001,\n   'batch_size': 256,\n   'data_dir': './data',\n   'data_mean': 0.28604063391685486,\n   'data_std': 0.35302430391311646,\n   'augmentations': [('auto_contrast', 0.9424812672707826),\n    ('blur', 0.8124776951456467),\n    ('rotate', 0.2099218558997462)]},\n  'time_since_restore': 50.515689849853516,\n  'timesteps_since_restore': 0,\n  'iterations_since_restore': 1,\n  'trial_id': 'c466f_00009',\n  'experiment_tag': '9@perturbed[]'},\n 'c466f_00010': {'loss': 0.1942732334136963,\n  'mean_accuracy': 0.9280714988708496,\n  'time_this_iter_s': 50.557411193847656,\n  'should_checkpoint': True,\n  'done': True,\n  'timesteps_total': None,\n  'episodes_total': None,\n  'training_iteration': 15,\n  'experiment_id': '44c059997eb94ea68131838215928bd8',\n  'date': '2021-10-05_10-21-48',\n  'timestamp': 1633418508,\n  'time_total_s': 718.3530476093292,\n  'pid': 63243,\n  'hostname': 'ml-linux',\n  'node_ip': '192.168.1.23',\n  'config': {'progress_bar_refresh_rate': 0,\n   'layer_1_size': 512,\n   'layer_2_size': 512,\n   'lr': 0.001,\n   'batch_size': 256,\n   'data_dir': './data',\n   'data_mean': 0.28604063391685486,\n   'data_std': 0.35302430391311646,\n   'augmentations': [('auto_contrast', 0.7509342282996135),\n    ('blur', 0.4301436577543676),\n    ('rotate', 0.3162123547411678)]},\n  'time_since_restore': 50.557411193847656,\n  'timesteps_since_restore': 0,\n  'iterations_since_restore': 1,\n  'trial_id': 'c466f_00010',\n  'experiment_tag': '10@perturbed[]'},\n 'c466f_00011': {'loss': 0.18751442432403564,\n  'mean_accuracy': 0.9282808303833008,\n  'time_this_iter_s': 47.62674880027771,\n  'should_checkpoint': True,\n  'done': True,\n  'timesteps_total': None,\n  'episodes_total': None,\n  'training_iteration': 15,\n  'experiment_id': '44c059997eb94ea68131838215928bd8',\n  'date': '2021-10-05_10-21-53',\n  'timestamp': 1633418513,\n  'time_total_s': 718.1982924938202,\n  'pid': 63750,\n  'hostname': 'ml-linux',\n  'node_ip': '192.168.1.23',\n  'config': {'progress_bar_refresh_rate': 0,\n   'layer_1_size': 512,\n   'layer_2_size': 512,\n   'lr': 0.001,\n   'batch_size': 256,\n   'data_dir': './data',\n   'data_mean': 0.28604063391685486,\n   'data_std': 0.35302430391311646,\n   'augmentations': [('auto_contrast', 0.3458497324579013),\n    ('blur', 0.48871377858392007),\n    ('rotate', 0.7413679020498656)]},\n  'time_since_restore': 47.62674880027771,\n  'timesteps_since_restore': 0,\n  'iterations_since_restore': 1,\n  'trial_id': 'c466f_00011',\n  'experiment_tag': '11@perturbed[]'},\n 'c466f_00012': {'loss': 0.20614449679851532,\n  'mean_accuracy': 0.9232759475708008,\n  'time_this_iter_s': 36.06938886642456,\n  'should_checkpoint': True,\n  'done': True,\n  'timesteps_total': None,\n  'episodes_total': None,\n  'training_iteration': 15,\n  'experiment_id': '44c059997eb94ea68131838215928bd8',\n  'date': '2021-10-05_10-22-12',\n  'timestamp': 1633418532,\n  'time_total_s': 708.1745054721832,\n  'pid': 63748,\n  'hostname': 'ml-linux',\n  'node_ip': '192.168.1.23',\n  'config': {'progress_bar_refresh_rate': 0,\n   'layer_1_size': 512,\n   'layer_2_size': 512,\n   'lr': 0.001,\n   'batch_size': 256,\n   'data_dir': './data',\n   'data_mean': 0.28604063391685486,\n   'data_std': 0.35302430391311646,\n   'augmentations': [('auto_contrast', 0.7790902489249546),\n    ('blur', 0.7268449047940879),\n    ('rotate', 0.6943197418438578)]},\n  'time_since_restore': 36.06938886642456,\n  'timesteps_since_restore': 0,\n  'iterations_since_restore': 1,\n  'trial_id': 'c466f_00012',\n  'experiment_tag': '12@perturbed[]'},\n 'c466f_00013': {'loss': 0.19290654361248016,\n  'mean_accuracy': 0.9264206886291504,\n  'time_this_iter_s': 33.670077085494995,\n  'should_checkpoint': True,\n  'done': True,\n  'timesteps_total': None,\n  'episodes_total': None,\n  'training_iteration': 15,\n  'experiment_id': '44c059997eb94ea68131838215928bd8',\n  'date': '2021-10-05_10-22-15',\n  'timestamp': 1633418535,\n  'time_total_s': 701.1035163402557,\n  'pid': 64072,\n  'hostname': 'ml-linux',\n  'node_ip': '192.168.1.23',\n  'config': {'progress_bar_refresh_rate': 0,\n   'layer_1_size': 512,\n   'layer_2_size': 512,\n   'lr': 0.001,\n   'batch_size': 256,\n   'data_dir': './data',\n   'data_mean': 0.28604063391685486,\n   'data_std': 0.35302430391311646,\n   'augmentations': [('auto_contrast', 0.6426518894767259),\n    ('blur', 0.6119642137191206),\n    ('rotate', 0.2606138085960581)]},\n  'time_since_restore': 33.670077085494995,\n  'timesteps_since_restore': 0,\n  'iterations_since_restore': 1,\n  'trial_id': 'c466f_00013',\n  'experiment_tag': '13@perturbed[]'}}"
     },
     "execution_count": 16,
     "metadata": {},
     "output_type": "execute_result"
    }
   ],
   "source": [
    "analysis = tune_mnist_pbt(num_samples=14, num_epochs=5, gpus_per_trial=1/5)\n",
    "analysis.best_config\n",
    "analysis.results"
   ]
  },
  {
   "cell_type": "code",
   "execution_count": 5,
   "metadata": {
    "trusted": false
   },
   "outputs": [
    {
     "data": {
      "text/html": "== Status ==<br>Memory usage on this node: 40.4/62.7 GiB<br>PopulationBasedTraining: 0 checkpoints, 0 perturbs<br>Resources requested: 0/8 CPUs, 0/1 GPUs, 0.0/35.32 GiB heap, 0.0/17.66 GiB objects (0.0/1.0 accelerator_type:G)<br>Result logdir: /home/akaver/!Dev/pbt-demo-mnist/data/FashionMNIST<br>Number of trials: 16/16 (16 ERROR)<br>Number of errored trials: 16<br><table>\n<thead>\n<tr><th>Trial name                             </th><th style=\"text-align: right;\">  # failures</th><th>error file                                                                                                                                                                             </th></tr>\n</thead>\n<tbody>\n<tr><td>train_mnist_tune_checkpoint_575ec_00000</td><td style=\"text-align: right;\">           1</td><td>/home/akaver/!Dev/pbt-demo-mnist/data/FashionMNIST/train_mnist_tune_checkpoint_575ec_00000_0_batch_size=256,layer_1_size=1024,layer_2_size=128,lr=0.0001_2021-09-28_01-29-13/error.txt </td></tr>\n<tr><td>train_mnist_tune_checkpoint_575ec_00001</td><td style=\"text-align: right;\">           1</td><td>/home/akaver/!Dev/pbt-demo-mnist/data/FashionMNIST/train_mnist_tune_checkpoint_575ec_00001_1_batch_size=256,layer_1_size=512,layer_2_size=512,lr=1e-05_2021-09-28_01-29-13/error.txt   </td></tr>\n<tr><td>train_mnist_tune_checkpoint_575ec_00002</td><td style=\"text-align: right;\">           1</td><td>/home/akaver/!Dev/pbt-demo-mnist/data/FashionMNIST/train_mnist_tune_checkpoint_575ec_00002_2_batch_size=32,layer_1_size=512,layer_2_size=64,lr=0.01_2021-09-28_01-29-13/error.txt      </td></tr>\n<tr><td>train_mnist_tune_checkpoint_575ec_00003</td><td style=\"text-align: right;\">           1</td><td>/home/akaver/!Dev/pbt-demo-mnist/data/FashionMNIST/train_mnist_tune_checkpoint_575ec_00003_3_batch_size=64,layer_1_size=512,layer_2_size=1024,lr=1e-05_2021-09-28_01-29-13/error.txt   </td></tr>\n<tr><td>train_mnist_tune_checkpoint_575ec_00004</td><td style=\"text-align: right;\">           1</td><td>/home/akaver/!Dev/pbt-demo-mnist/data/FashionMNIST/train_mnist_tune_checkpoint_575ec_00004_4_batch_size=1024,layer_1_size=1024,layer_2_size=64,lr=0.01_2021-09-28_01-29-14/error.txt   </td></tr>\n<tr><td>train_mnist_tune_checkpoint_575ec_00005</td><td style=\"text-align: right;\">           1</td><td>/home/akaver/!Dev/pbt-demo-mnist/data/FashionMNIST/train_mnist_tune_checkpoint_575ec_00005_5_batch_size=32,layer_1_size=1024,layer_2_size=64,lr=0.0001_2021-09-28_01-29-14/error.txt   </td></tr>\n<tr><td>train_mnist_tune_checkpoint_575ec_00006</td><td style=\"text-align: right;\">           1</td><td>/home/akaver/!Dev/pbt-demo-mnist/data/FashionMNIST/train_mnist_tune_checkpoint_575ec_00006_6_batch_size=512,layer_1_size=64,layer_2_size=1024,lr=0.01_2021-09-28_01-29-14/error.txt    </td></tr>\n<tr><td>train_mnist_tune_checkpoint_575ec_00007</td><td style=\"text-align: right;\">           1</td><td>/home/akaver/!Dev/pbt-demo-mnist/data/FashionMNIST/train_mnist_tune_checkpoint_575ec_00007_7_batch_size=256,layer_1_size=1024,layer_2_size=64,lr=0.0001_2021-09-28_01-29-14/error.txt  </td></tr>\n<tr><td>train_mnist_tune_checkpoint_575ec_00008</td><td style=\"text-align: right;\">           1</td><td>/home/akaver/!Dev/pbt-demo-mnist/data/FashionMNIST/train_mnist_tune_checkpoint_575ec_00008_8_batch_size=512,layer_1_size=512,layer_2_size=256,lr=1e-06_2021-09-28_01-29-14/error.txt   </td></tr>\n<tr><td>train_mnist_tune_checkpoint_575ec_00009</td><td style=\"text-align: right;\">           1</td><td>/home/akaver/!Dev/pbt-demo-mnist/data/FashionMNIST/train_mnist_tune_checkpoint_575ec_00009_9_batch_size=2048,layer_1_size=32,layer_2_size=128,lr=1e-06_2021-09-28_01-29-14/error.txt   </td></tr>\n<tr><td>train_mnist_tune_checkpoint_575ec_00010</td><td style=\"text-align: right;\">           1</td><td>/home/akaver/!Dev/pbt-demo-mnist/data/FashionMNIST/train_mnist_tune_checkpoint_575ec_00010_10_batch_size=2048,layer_1_size=32,layer_2_size=256,lr=0.01_2021-09-28_01-29-14/error.txt   </td></tr>\n<tr><td>train_mnist_tune_checkpoint_575ec_00011</td><td style=\"text-align: right;\">           1</td><td>/home/akaver/!Dev/pbt-demo-mnist/data/FashionMNIST/train_mnist_tune_checkpoint_575ec_00011_11_batch_size=32,layer_1_size=1024,layer_2_size=32,lr=1e-06_2021-09-28_01-29-15/error.txt   </td></tr>\n<tr><td>train_mnist_tune_checkpoint_575ec_00012</td><td style=\"text-align: right;\">           1</td><td>/home/akaver/!Dev/pbt-demo-mnist/data/FashionMNIST/train_mnist_tune_checkpoint_575ec_00012_12_batch_size=128,layer_1_size=512,layer_2_size=64,lr=0.01_2021-09-28_01-29-15/error.txt    </td></tr>\n<tr><td>train_mnist_tune_checkpoint_575ec_00013</td><td style=\"text-align: right;\">           1</td><td>/home/akaver/!Dev/pbt-demo-mnist/data/FashionMNIST/train_mnist_tune_checkpoint_575ec_00013_13_batch_size=2048,layer_1_size=64,layer_2_size=256,lr=1e-05_2021-09-28_01-29-15/error.txt  </td></tr>\n<tr><td>train_mnist_tune_checkpoint_575ec_00014</td><td style=\"text-align: right;\">           1</td><td>/home/akaver/!Dev/pbt-demo-mnist/data/FashionMNIST/train_mnist_tune_checkpoint_575ec_00014_14_batch_size=2048,layer_1_size=1024,layer_2_size=128,lr=1e-05_2021-09-28_01-29-15/error.txt</td></tr>\n<tr><td>train_mnist_tune_checkpoint_575ec_00015</td><td style=\"text-align: right;\">           1</td><td>/home/akaver/!Dev/pbt-demo-mnist/data/FashionMNIST/train_mnist_tune_checkpoint_575ec_00015_15_batch_size=32,layer_1_size=64,layer_2_size=1024,lr=1e-05_2021-09-28_01-29-15/error.txt   </td></tr>\n</tbody>\n</table><br>",
      "text/plain": "<IPython.core.display.HTML object>"
     },
     "metadata": {},
     "output_type": "display_data"
    },
    {
     "ename": "TuneError",
     "evalue": "('Trials did not complete', [train_mnist_tune_checkpoint_575ec_00000, train_mnist_tune_checkpoint_575ec_00001, train_mnist_tune_checkpoint_575ec_00002, train_mnist_tune_checkpoint_575ec_00003, train_mnist_tune_checkpoint_575ec_00004, train_mnist_tune_checkpoint_575ec_00005, train_mnist_tune_checkpoint_575ec_00006, train_mnist_tune_checkpoint_575ec_00007, train_mnist_tune_checkpoint_575ec_00008, train_mnist_tune_checkpoint_575ec_00009, train_mnist_tune_checkpoint_575ec_00010, train_mnist_tune_checkpoint_575ec_00011, train_mnist_tune_checkpoint_575ec_00012, train_mnist_tune_checkpoint_575ec_00013, train_mnist_tune_checkpoint_575ec_00014, train_mnist_tune_checkpoint_575ec_00015])",
     "output_type": "error",
     "traceback": [
      "\u001B[0;31m---------------------------------------------------------------------------\u001B[0m",
      "\u001B[0;31mTuneError\u001B[0m                                 Traceback (most recent call last)",
      "\u001B[0;32m/tmp/ipykernel_172577/909255142.py\u001B[0m in \u001B[0;36m<module>\u001B[0;34m\u001B[0m\n\u001B[1;32m      7\u001B[0m     \u001B[0mstart_time\u001B[0m\u001B[0;34m=\u001B[0m\u001B[0mpc\u001B[0m\u001B[0;34m(\u001B[0m\u001B[0;34m)\u001B[0m\u001B[0;34m\u001B[0m\u001B[0;34m\u001B[0m\u001B[0m\n\u001B[1;32m      8\u001B[0m \u001B[0;34m\u001B[0m\u001B[0m\n\u001B[0;32m----> 9\u001B[0;31m     \u001B[0manalysis\u001B[0m \u001B[0;34m=\u001B[0m \u001B[0mtune_mnist_pbt\u001B[0m\u001B[0;34m(\u001B[0m\u001B[0mnum_samples\u001B[0m\u001B[0;34m=\u001B[0m\u001B[0;36m16\u001B[0m\u001B[0;34m,\u001B[0m \u001B[0mnum_epochs\u001B[0m\u001B[0;34m=\u001B[0m\u001B[0;36m5\u001B[0m\u001B[0;34m,\u001B[0m \u001B[0mgpus_per_trial\u001B[0m\u001B[0;34m=\u001B[0m\u001B[0;36m1\u001B[0m\u001B[0;34m/\u001B[0m\u001B[0mexperiments_to_run_in_parallel\u001B[0m\u001B[0;34m)\u001B[0m\u001B[0;34m\u001B[0m\u001B[0;34m\u001B[0m\u001B[0m\n\u001B[0m\u001B[1;32m     10\u001B[0m \u001B[0;34m\u001B[0m\u001B[0m\n\u001B[1;32m     11\u001B[0m     \u001B[0melapsed_time\u001B[0m \u001B[0;34m=\u001B[0m \u001B[0mpc\u001B[0m\u001B[0;34m(\u001B[0m\u001B[0;34m)\u001B[0m\u001B[0;34m-\u001B[0m\u001B[0mstart_time\u001B[0m\u001B[0;34m\u001B[0m\u001B[0;34m\u001B[0m\u001B[0m\n",
      "\u001B[0;32m/tmp/ipykernel_172577/665182895.py\u001B[0m in \u001B[0;36mtune_mnist_pbt\u001B[0;34m(num_samples, num_epochs, gpus_per_trial)\u001B[0m\n\u001B[1;32m     57\u001B[0m     )\n\u001B[1;32m     58\u001B[0m \u001B[0;34m\u001B[0m\u001B[0m\n\u001B[0;32m---> 59\u001B[0;31m     analysis = tune.run(\n\u001B[0m\u001B[1;32m     60\u001B[0m         tune.with_parameters(\n\u001B[1;32m     61\u001B[0m             \u001B[0mtrain_mnist_tune_checkpoint\u001B[0m\u001B[0;34m,\u001B[0m\u001B[0;34m\u001B[0m\u001B[0;34m\u001B[0m\u001B[0m\n",
      "\u001B[0;32m~/.local/lib/python3.8/site-packages/ray/tune/tune.py\u001B[0m in \u001B[0;36mrun\u001B[0;34m(run_or_experiment, name, metric, mode, stop, time_budget_s, config, resources_per_trial, num_samples, local_dir, search_alg, scheduler, keep_checkpoints_num, checkpoint_score_attr, checkpoint_freq, checkpoint_at_end, verbose, progress_reporter, log_to_file, trial_name_creator, trial_dirname_creator, sync_config, export_formats, max_failures, fail_fast, restore, server_port, resume, queue_trials, reuse_actors, trial_executor, raise_on_failed_trial, callbacks, loggers, ray_auto_init, run_errored_only, global_checkpoint_period, with_server, upload_dir, sync_to_cloud, sync_to_driver, sync_on_checkpoint, _remote)\u001B[0m\n\u001B[1;32m    542\u001B[0m     \u001B[0;32mif\u001B[0m \u001B[0mincomplete_trials\u001B[0m\u001B[0;34m:\u001B[0m\u001B[0;34m\u001B[0m\u001B[0;34m\u001B[0m\u001B[0m\n\u001B[1;32m    543\u001B[0m         \u001B[0;32mif\u001B[0m \u001B[0mraise_on_failed_trial\u001B[0m \u001B[0;32mand\u001B[0m \u001B[0;32mnot\u001B[0m \u001B[0mstate\u001B[0m\u001B[0;34m[\u001B[0m\u001B[0msignal\u001B[0m\u001B[0;34m.\u001B[0m\u001B[0mSIGINT\u001B[0m\u001B[0;34m]\u001B[0m\u001B[0;34m:\u001B[0m\u001B[0;34m\u001B[0m\u001B[0;34m\u001B[0m\u001B[0m\n\u001B[0;32m--> 544\u001B[0;31m             \u001B[0;32mraise\u001B[0m \u001B[0mTuneError\u001B[0m\u001B[0;34m(\u001B[0m\u001B[0;34m\"Trials did not complete\"\u001B[0m\u001B[0;34m,\u001B[0m \u001B[0mincomplete_trials\u001B[0m\u001B[0;34m)\u001B[0m\u001B[0;34m\u001B[0m\u001B[0;34m\u001B[0m\u001B[0m\n\u001B[0m\u001B[1;32m    545\u001B[0m         \u001B[0;32melse\u001B[0m\u001B[0;34m:\u001B[0m\u001B[0;34m\u001B[0m\u001B[0;34m\u001B[0m\u001B[0m\n\u001B[1;32m    546\u001B[0m             \u001B[0mlogger\u001B[0m\u001B[0;34m.\u001B[0m\u001B[0merror\u001B[0m\u001B[0;34m(\u001B[0m\u001B[0;34m\"Trials did not complete: %s\"\u001B[0m\u001B[0;34m,\u001B[0m \u001B[0mincomplete_trials\u001B[0m\u001B[0;34m)\u001B[0m\u001B[0;34m\u001B[0m\u001B[0;34m\u001B[0m\u001B[0m\n",
      "\u001B[0;31mTuneError\u001B[0m: ('Trials did not complete', [train_mnist_tune_checkpoint_575ec_00000, train_mnist_tune_checkpoint_575ec_00001, train_mnist_tune_checkpoint_575ec_00002, train_mnist_tune_checkpoint_575ec_00003, train_mnist_tune_checkpoint_575ec_00004, train_mnist_tune_checkpoint_575ec_00005, train_mnist_tune_checkpoint_575ec_00006, train_mnist_tune_checkpoint_575ec_00007, train_mnist_tune_checkpoint_575ec_00008, train_mnist_tune_checkpoint_575ec_00009, train_mnist_tune_checkpoint_575ec_00010, train_mnist_tune_checkpoint_575ec_00011, train_mnist_tune_checkpoint_575ec_00012, train_mnist_tune_checkpoint_575ec_00013, train_mnist_tune_checkpoint_575ec_00014, train_mnist_tune_checkpoint_575ec_00015])"
     ]
    }
   ],
   "source": "from time import sleep, perf_counter as pc\n\nresults = []\nfor models in range(8):\n    experiments_to_run_in_parallel = (models + 1) * 2\n    print(f\"Starting {experiments_to_run_in_parallel} experiments in parallel\")\n    start_time = pc()\n\n    analysis = tune_mnist_pbt(num_samples=16, num_epochs=5, gpus_per_trial=1 / experiments_to_run_in_parallel)\n\n    elapsed_time = pc() - start_time\n    results.append((models, elapsed_time))\n\nresults"
  },
  {
   "cell_type": "code",
   "execution_count": 6,
   "metadata": {
    "trusted": false
   },
   "outputs": [
    {
     "data": {
      "text/plain": "[(0, 1250.4137557320064),\n (1, 1054.7564893119998),\n (2, 978.0088943799929),\n (3, 1215.7183314590075),\n (4, 1026.1449859720015),\n (5, 1067.1325380739872),\n (6, 1058.9811587199947)]"
     },
     "execution_count": 6,
     "metadata": {},
     "output_type": "execute_result"
    }
   ],
   "source": "results"
  }
 ],
 "metadata": {
  "kernelspec": {
   "display_name": "Python 3 (ipykernel)",
   "language": "python",
   "name": "python3"
  },
  "language_info": {
   "codemirror_mode": {
    "name": "ipython",
    "version": 3
   },
   "file_extension": ".py",
   "mimetype": "text/x-python",
   "name": "python",
   "nbconvert_exporter": "python",
   "pygments_lexer": "ipython3",
   "version": "3.8.10"
  }
 },
 "nbformat": 4,
 "nbformat_minor": 4
}