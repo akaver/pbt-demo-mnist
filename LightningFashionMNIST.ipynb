{
 "cells": [
  {
   "cell_type": "code",
   "execution_count": 11,
   "metadata": {
    "collapsed": false,
    "jupyter": {
     "outputs_hidden": false
    },
    "pycharm": {
     "name": "#%%\n"
    }
   },
   "outputs": [],
   "source": [
    "import logging\n",
    "import os\n",
    "import random\n",
    "import sys\n",
    "from filelock import FileLock\n",
    "import utils\n",
    "\n",
    "# __import_lightning_begin__\n",
    "import torch\n",
    "import pytorch_lightning as pl\n",
    "from torch.utils.data import DataLoader, random_split\n",
    "from torch.nn import functional as F\n",
    "from torchvision.datasets import FashionMNIST\n",
    "from torchvision import transforms\n",
    "# __import_lightning_end__\n",
    "\n",
    "import torchvision.transforms.functional as TF\n",
    "\n",
    "from MNISTDataModule import MNISTDataModule\n",
    "from augmentation import TRANSFORM_NAMES\n",
    "\n",
    "from LightningFashionMNIST import LightningFashionMNIST\n",
    "\n",
    "log = logging.getLogger(__name__)\n"
   ]
  },
  {
   "cell_type": "code",
   "execution_count": 12,
   "metadata": {
    "collapsed": false,
    "jupyter": {
     "outputs_hidden": false
    },
    "pycharm": {
     "name": "#%%\n"
    }
   },
   "outputs": [
    {
     "name": "stderr",
     "output_type": "stream",
     "text": [
      "INFO:__main__:Starting...\n",
      "INFO:__main__:Conf {'progress_bar_refresh_rate': 25, 'layer_1_size': 512, 'layer_2_size': 512, 'lr': 0.001, 'batch_size': 32, 'data_dir': './data', 'data_mean': 0.28604063391685486, 'data_std': 0.35302430391311646, 'augmentations': []}\n",
      "INFO:MNISTDataModule:batch_size: 32. num_workers: 8. data_dir: ./data.\n",
      "GPU available: True, used: True\n",
      "TPU available: False, using: 0 TPU cores\n",
      "IPU available: False, using: 0 IPUs\n",
      "INFO:filelock:Lock 139977546479552 acquired on /home/akaver/.data.lock\n",
      "INFO:filelock:Lock 139977546479552 released on /home/akaver/.data.lock\n",
      "LOCAL_RANK: 0 - CUDA_VISIBLE_DEVICES: [0]\n",
      "\n",
      "  | Name    | Type   | Params\n",
      "-----------------------------------\n",
      "0 | layer_1 | Linear | 401 K \n",
      "1 | layer_2 | Linear | 262 K \n",
      "2 | layer_3 | Linear | 5.1 K \n",
      "-----------------------------------\n",
      "669 K     Trainable params\n",
      "0         Non-trainable params\n",
      "669 K     Total params\n",
      "2.679     Total estimated model params size (MB)\n"
     ]
    },
    {
     "data": {
      "application/vnd.jupyter.widget-view+json": {
       "model_id": "d82b9a059a5640db9f04b198247ea19e",
       "version_major": 2,
       "version_minor": 0
      },
      "text/plain": [
       "Training: -1it [00:00, ?it/s]"
      ]
     },
     "metadata": {},
     "output_type": "display_data"
    },
    {
     "data": {
      "application/vnd.jupyter.widget-view+json": {
       "model_id": "",
       "version_major": 2,
       "version_minor": 0
      },
      "text/plain": [
       "Validating: 0it [00:00, ?it/s]"
      ]
     },
     "metadata": {},
     "output_type": "display_data"
    },
    {
     "data": {
      "application/vnd.jupyter.widget-view+json": {
       "model_id": "",
       "version_major": 2,
       "version_minor": 0
      },
      "text/plain": [
       "Validating: 0it [00:00, ?it/s]"
      ]
     },
     "metadata": {},
     "output_type": "display_data"
    },
    {
     "data": {
      "application/vnd.jupyter.widget-view+json": {
       "model_id": "",
       "version_major": 2,
       "version_minor": 0
      },
      "text/plain": [
       "Validating: 0it [00:00, ?it/s]"
      ]
     },
     "metadata": {},
     "output_type": "display_data"
    },
    {
     "data": {
      "application/vnd.jupyter.widget-view+json": {
       "model_id": "",
       "version_major": 2,
       "version_minor": 0
      },
      "text/plain": [
       "Validating: 0it [00:00, ?it/s]"
      ]
     },
     "metadata": {},
     "output_type": "display_data"
    },
    {
     "data": {
      "application/vnd.jupyter.widget-view+json": {
       "model_id": "",
       "version_major": 2,
       "version_minor": 0
      },
      "text/plain": [
       "Validating: 0it [00:00, ?it/s]"
      ]
     },
     "metadata": {},
     "output_type": "display_data"
    },
    {
     "name": "stderr",
     "output_type": "stream",
     "text": [
      "LOCAL_RANK: 0 - CUDA_VISIBLE_DEVICES: [0]\n"
     ]
    },
    {
     "data": {
      "text/plain": [
       "[]"
      ]
     },
     "execution_count": 12,
     "metadata": {},
     "output_type": "execute_result"
    }
   ],
   "source": [
    "logging.basicConfig(stream=sys.stderr, level=logging.INFO)\n",
    "log.info(\"Starting...\")\n",
    "\n",
    "utils.set_seed(1234)\n",
    "\n",
    "# set up the augmentations\n",
    "# tuple of augmentation name and its magnitude\n",
    "augmentations = []\n",
    "\n",
    "for tfn_name in TRANSFORM_NAMES:\n",
    "    level = random.random()\n",
    "    augmentations.append((tfn_name, level))\n",
    "\n",
    "augmentations = []\n",
    "\n",
    "\n",
    "conf = {\n",
    "    \"progress_bar_refresh_rate\": 25,\n",
    "    \"layer_1_size\": 512,\n",
    "    \"layer_2_size\": 512,\n",
    "    \"lr\": 0.001,\n",
    "    \"batch_size\": 32,\n",
    "    \"data_dir\": \"./data\",\n",
    "    # Fashion mnist mean and std\n",
    "    \"data_mean\": 0.28604063391685486,\n",
    "    \"data_std\": 0.35302430391311646,\n",
    "    \"augmentations\": augmentations,\n",
    "}\n",
    "\n",
    "log.info(f\"Conf {conf}\")\n",
    "\n",
    "data = MNISTDataModule(conf=conf)\n",
    "\n",
    "model = LightningFashionMNIST(conf=conf)\n",
    "\n",
    "trainer = pl.Trainer(\n",
    "    default_root_dir=\"./data\",\n",
    "    gpus=-1 if torch.cuda.device_count() > 0 else 0,\n",
    "    max_epochs=5,\n",
    "    progress_bar_refresh_rate=conf[\"progress_bar_refresh_rate\"],\n",
    "    num_sanity_val_steps=0,\n",
    ")\n",
    "\n",
    "trainer.fit(model, data)\n",
    "\n",
    "trainer.test(ckpt_path=\"best\")\n"
   ]
  },
  {
   "cell_type": "code",
   "execution_count": null,
   "metadata": {
    "collapsed": false,
    "jupyter": {
     "outputs_hidden": false
    },
    "pycharm": {
     "name": "#%%\n"
    }
   },
   "outputs": [],
   "source": []
  }
 ],
 "metadata": {
  "kernelspec": {
   "display_name": "Python 3 (ipykernel)",
   "language": "python",
   "name": "python3"
  },
  "language_info": {
   "codemirror_mode": {
    "name": "ipython",
    "version": 3
   },
   "file_extension": ".py",
   "mimetype": "text/x-python",
   "name": "python",
   "nbconvert_exporter": "python",
   "pygments_lexer": "ipython3",
   "version": "3.8.10"
  }
 },
 "nbformat": 4,
 "nbformat_minor": 4
}
